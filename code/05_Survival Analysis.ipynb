{
 "cells": [
  {
   "cell_type": "markdown",
   "id": "1a063cc9",
   "metadata": {},
   "source": [
    "# Customer Attrition Model - Part 5\n",
    "## Prediction Model Verification"
   ]
  },
  {
   "cell_type": "markdown",
   "id": "98f33738",
   "metadata": {},
   "source": [
    "# 5.0 Notebook Brief"
   ]
  },
  {
   "cell_type": "markdown",
   "id": "0c5e7dd4",
   "metadata": {},
   "source": [
    "In Notebook 4.0, we have completed a churn prediction model with F1 score of 0.69 and AUC of 0.73.\n",
    "With prediction using past data, we are yet to be able to verify if such a model is capable of predict upcoming churn probable users. Hence, in this notebook we will use Survival Analysis and compare the predictions against our model's false positive predictions."
   ]
  },
  {
   "cell_type": "markdown",
   "id": "caca4efa",
   "metadata": {},
   "source": [
    "## 5.1 Data Imports"
   ]
  },
  {
   "cell_type": "code",
   "execution_count": 2,
   "id": "1469d246",
   "metadata": {},
   "outputs": [],
   "source": [
    "import numpy as np\n",
    "import pandas as pd\n",
    "import matplotlib.pyplot as plt\n",
    "import seaborn as sns\n",
    "\n",
    "#survival analysis lib\n",
    "from lifelines import KaplanMeierFitter, CoxPHFitter\n",
    "from lifelines.utils import restricted_mean_survival_time, median_survival_times\n"
   ]
  },
  {
   "cell_type": "code",
   "execution_count": 3,
   "id": "bbc67343",
   "metadata": {},
   "outputs": [],
   "source": [
    "#import clustered dataset with cust ID\n",
    "telco = pd.read_csv('../data/telco_clustered_ID.csv')\n",
    "\n",
    "#for verification\n",
    "false_po = pd.read_csv('../data/telco_false_po.csv')\n",
    "false_neg = pd.read_csv('../data/telco_false_neg.csv')\n",
    "\n",
    "pd.set_option('display.max_columns',99)"
   ]
  },
  {
   "cell_type": "code",
   "execution_count": 4,
   "id": "cd685c8a",
   "metadata": {},
   "outputs": [
    {
     "data": {
      "text/html": [
       "<div>\n",
       "<style scoped>\n",
       "    .dataframe tbody tr th:only-of-type {\n",
       "        vertical-align: middle;\n",
       "    }\n",
       "\n",
       "    .dataframe tbody tr th {\n",
       "        vertical-align: top;\n",
       "    }\n",
       "\n",
       "    .dataframe thead th {\n",
       "        text-align: right;\n",
       "    }\n",
       "</style>\n",
       "<table border=\"1\" class=\"dataframe\">\n",
       "  <thead>\n",
       "    <tr style=\"text-align: right;\">\n",
       "      <th></th>\n",
       "      <th>gender</th>\n",
       "      <th>age</th>\n",
       "      <th>under_30</th>\n",
       "      <th>senior_citizen</th>\n",
       "      <th>married</th>\n",
       "      <th>dependents</th>\n",
       "      <th>number_of_dependents</th>\n",
       "      <th>city</th>\n",
       "      <th>tenure_months</th>\n",
       "      <th>phone_service</th>\n",
       "      <th>multiple_lines</th>\n",
       "      <th>internet_service</th>\n",
       "      <th>online_security</th>\n",
       "      <th>online_backup</th>\n",
       "      <th>device_protection</th>\n",
       "      <th>tech_support</th>\n",
       "      <th>streaming_tv</th>\n",
       "      <th>streaming_movies</th>\n",
       "      <th>contract</th>\n",
       "      <th>paperless_billing</th>\n",
       "      <th>payment_method</th>\n",
       "      <th>churn_value</th>\n",
       "      <th>churn_score</th>\n",
       "      <th>cltv</th>\n",
       "      <th>churn_reason</th>\n",
       "      <th>referred_a_friend</th>\n",
       "      <th>number_of_referrals</th>\n",
       "      <th>offer</th>\n",
       "      <th>avg_monthly_long_distance_charges</th>\n",
       "      <th>internet_type</th>\n",
       "      <th>avg_monthly_gb_download</th>\n",
       "      <th>streaming_music</th>\n",
       "      <th>unlimited_data</th>\n",
       "      <th>monthly_charge</th>\n",
       "      <th>total_charges</th>\n",
       "      <th>total_refunds</th>\n",
       "      <th>total_extra_data_charges</th>\n",
       "      <th>total_long_distance_charges</th>\n",
       "      <th>total_revenue</th>\n",
       "      <th>satisfaction_score</th>\n",
       "      <th>customer_status</th>\n",
       "      <th>churn_category</th>\n",
       "      <th>pop_density</th>\n",
       "      <th>new_user</th>\n",
       "      <th>cluster</th>\n",
       "      <th>customer_id</th>\n",
       "    </tr>\n",
       "  </thead>\n",
       "  <tbody>\n",
       "    <tr>\n",
       "      <th>0</th>\n",
       "      <td>0</td>\n",
       "      <td>78</td>\n",
       "      <td>0</td>\n",
       "      <td>1</td>\n",
       "      <td>0</td>\n",
       "      <td>0</td>\n",
       "      <td>0</td>\n",
       "      <td>Los Angeles</td>\n",
       "      <td>1</td>\n",
       "      <td>0</td>\n",
       "      <td>0</td>\n",
       "      <td>DSL</td>\n",
       "      <td>0</td>\n",
       "      <td>0</td>\n",
       "      <td>1</td>\n",
       "      <td>0</td>\n",
       "      <td>0</td>\n",
       "      <td>1</td>\n",
       "      <td>Month-to-month</td>\n",
       "      <td>1</td>\n",
       "      <td>Electronic check</td>\n",
       "      <td>1</td>\n",
       "      <td>100</td>\n",
       "      <td>5433</td>\n",
       "      <td>Competitor offered more data</td>\n",
       "      <td>0</td>\n",
       "      <td>0</td>\n",
       "      <td>None</td>\n",
       "      <td>0.00</td>\n",
       "      <td>DSL</td>\n",
       "      <td>8</td>\n",
       "      <td>0</td>\n",
       "      <td>0</td>\n",
       "      <td>39.65</td>\n",
       "      <td>39.65</td>\n",
       "      <td>0.00</td>\n",
       "      <td>20</td>\n",
       "      <td>0.00</td>\n",
       "      <td>59.65</td>\n",
       "      <td>3</td>\n",
       "      <td>1</td>\n",
       "      <td>Competitor</td>\n",
       "      <td>15334</td>\n",
       "      <td>0</td>\n",
       "      <td>price_sensitive</td>\n",
       "      <td>8779-QRDMV</td>\n",
       "    </tr>\n",
       "    <tr>\n",
       "      <th>1</th>\n",
       "      <td>1</td>\n",
       "      <td>74</td>\n",
       "      <td>0</td>\n",
       "      <td>1</td>\n",
       "      <td>1</td>\n",
       "      <td>1</td>\n",
       "      <td>1</td>\n",
       "      <td>Los Angeles</td>\n",
       "      <td>8</td>\n",
       "      <td>1</td>\n",
       "      <td>1</td>\n",
       "      <td>Fiber optic</td>\n",
       "      <td>0</td>\n",
       "      <td>1</td>\n",
       "      <td>0</td>\n",
       "      <td>0</td>\n",
       "      <td>0</td>\n",
       "      <td>0</td>\n",
       "      <td>Month-to-month</td>\n",
       "      <td>1</td>\n",
       "      <td>Credit card (automatic)</td>\n",
       "      <td>1</td>\n",
       "      <td>69</td>\n",
       "      <td>5302</td>\n",
       "      <td>Competitor made better offer</td>\n",
       "      <td>1</td>\n",
       "      <td>1</td>\n",
       "      <td>Offer E</td>\n",
       "      <td>48.85</td>\n",
       "      <td>Fiber Optic</td>\n",
       "      <td>17</td>\n",
       "      <td>0</td>\n",
       "      <td>1</td>\n",
       "      <td>80.65</td>\n",
       "      <td>633.30</td>\n",
       "      <td>0.00</td>\n",
       "      <td>0</td>\n",
       "      <td>390.80</td>\n",
       "      <td>1024.10</td>\n",
       "      <td>3</td>\n",
       "      <td>1</td>\n",
       "      <td>Competitor</td>\n",
       "      <td>17038</td>\n",
       "      <td>0</td>\n",
       "      <td>price_sensitive</td>\n",
       "      <td>7495-OOKFY</td>\n",
       "    </tr>\n",
       "    <tr>\n",
       "      <th>2</th>\n",
       "      <td>0</td>\n",
       "      <td>71</td>\n",
       "      <td>0</td>\n",
       "      <td>1</td>\n",
       "      <td>0</td>\n",
       "      <td>1</td>\n",
       "      <td>3</td>\n",
       "      <td>Los Angeles</td>\n",
       "      <td>18</td>\n",
       "      <td>1</td>\n",
       "      <td>1</td>\n",
       "      <td>Fiber optic</td>\n",
       "      <td>0</td>\n",
       "      <td>0</td>\n",
       "      <td>0</td>\n",
       "      <td>0</td>\n",
       "      <td>1</td>\n",
       "      <td>1</td>\n",
       "      <td>Month-to-month</td>\n",
       "      <td>1</td>\n",
       "      <td>Electronic check</td>\n",
       "      <td>1</td>\n",
       "      <td>81</td>\n",
       "      <td>3179</td>\n",
       "      <td>Competitor made better offer</td>\n",
       "      <td>0</td>\n",
       "      <td>0</td>\n",
       "      <td>Offer D</td>\n",
       "      <td>11.33</td>\n",
       "      <td>Fiber Optic</td>\n",
       "      <td>52</td>\n",
       "      <td>1</td>\n",
       "      <td>1</td>\n",
       "      <td>95.45</td>\n",
       "      <td>1752.55</td>\n",
       "      <td>45.61</td>\n",
       "      <td>0</td>\n",
       "      <td>203.94</td>\n",
       "      <td>1910.88</td>\n",
       "      <td>2</td>\n",
       "      <td>1</td>\n",
       "      <td>Competitor</td>\n",
       "      <td>8625</td>\n",
       "      <td>0</td>\n",
       "      <td>price_sensitive</td>\n",
       "      <td>1658-BYGOY</td>\n",
       "    </tr>\n",
       "    <tr>\n",
       "      <th>3</th>\n",
       "      <td>1</td>\n",
       "      <td>78</td>\n",
       "      <td>0</td>\n",
       "      <td>1</td>\n",
       "      <td>1</td>\n",
       "      <td>1</td>\n",
       "      <td>1</td>\n",
       "      <td>Inglewood</td>\n",
       "      <td>25</td>\n",
       "      <td>1</td>\n",
       "      <td>0</td>\n",
       "      <td>Fiber optic</td>\n",
       "      <td>0</td>\n",
       "      <td>1</td>\n",
       "      <td>1</td>\n",
       "      <td>0</td>\n",
       "      <td>1</td>\n",
       "      <td>1</td>\n",
       "      <td>Month-to-month</td>\n",
       "      <td>1</td>\n",
       "      <td>Electronic check</td>\n",
       "      <td>1</td>\n",
       "      <td>88</td>\n",
       "      <td>5337</td>\n",
       "      <td>Limited range of services</td>\n",
       "      <td>1</td>\n",
       "      <td>1</td>\n",
       "      <td>Offer C</td>\n",
       "      <td>19.76</td>\n",
       "      <td>Fiber Optic</td>\n",
       "      <td>12</td>\n",
       "      <td>0</td>\n",
       "      <td>1</td>\n",
       "      <td>98.50</td>\n",
       "      <td>2514.50</td>\n",
       "      <td>13.43</td>\n",
       "      <td>0</td>\n",
       "      <td>494.00</td>\n",
       "      <td>2995.07</td>\n",
       "      <td>2</td>\n",
       "      <td>1</td>\n",
       "      <td>Dissatisfaction</td>\n",
       "      <td>11799</td>\n",
       "      <td>0</td>\n",
       "      <td>price_sensitive</td>\n",
       "      <td>4598-XLKNJ</td>\n",
       "    </tr>\n",
       "    <tr>\n",
       "      <th>4</th>\n",
       "      <td>1</td>\n",
       "      <td>80</td>\n",
       "      <td>0</td>\n",
       "      <td>1</td>\n",
       "      <td>1</td>\n",
       "      <td>1</td>\n",
       "      <td>1</td>\n",
       "      <td>Whittier</td>\n",
       "      <td>37</td>\n",
       "      <td>1</td>\n",
       "      <td>1</td>\n",
       "      <td>Fiber optic</td>\n",
       "      <td>0</td>\n",
       "      <td>0</td>\n",
       "      <td>0</td>\n",
       "      <td>0</td>\n",
       "      <td>0</td>\n",
       "      <td>0</td>\n",
       "      <td>Month-to-month</td>\n",
       "      <td>1</td>\n",
       "      <td>Electronic check</td>\n",
       "      <td>1</td>\n",
       "      <td>67</td>\n",
       "      <td>2793</td>\n",
       "      <td>Extra data charges</td>\n",
       "      <td>1</td>\n",
       "      <td>1</td>\n",
       "      <td>Offer C</td>\n",
       "      <td>6.33</td>\n",
       "      <td>Fiber Optic</td>\n",
       "      <td>14</td>\n",
       "      <td>0</td>\n",
       "      <td>1</td>\n",
       "      <td>76.50</td>\n",
       "      <td>2868.15</td>\n",
       "      <td>0.00</td>\n",
       "      <td>0</td>\n",
       "      <td>234.21</td>\n",
       "      <td>3102.36</td>\n",
       "      <td>2</td>\n",
       "      <td>1</td>\n",
       "      <td>Price</td>\n",
       "      <td>6947</td>\n",
       "      <td>0</td>\n",
       "      <td>price_sensitive</td>\n",
       "      <td>4846-WHAFZ</td>\n",
       "    </tr>\n",
       "  </tbody>\n",
       "</table>\n",
       "</div>"
      ],
      "text/plain": [
       "   gender  age  under_30  senior_citizen  married  dependents  \\\n",
       "0       0   78         0               1        0           0   \n",
       "1       1   74         0               1        1           1   \n",
       "2       0   71         0               1        0           1   \n",
       "3       1   78         0               1        1           1   \n",
       "4       1   80         0               1        1           1   \n",
       "\n",
       "   number_of_dependents         city  tenure_months  phone_service  \\\n",
       "0                     0  Los Angeles              1              0   \n",
       "1                     1  Los Angeles              8              1   \n",
       "2                     3  Los Angeles             18              1   \n",
       "3                     1    Inglewood             25              1   \n",
       "4                     1     Whittier             37              1   \n",
       "\n",
       "   multiple_lines internet_service  online_security  online_backup  \\\n",
       "0               0              DSL                0              0   \n",
       "1               1      Fiber optic                0              1   \n",
       "2               1      Fiber optic                0              0   \n",
       "3               0      Fiber optic                0              1   \n",
       "4               1      Fiber optic                0              0   \n",
       "\n",
       "   device_protection  tech_support  streaming_tv  streaming_movies  \\\n",
       "0                  1             0             0                 1   \n",
       "1                  0             0             0                 0   \n",
       "2                  0             0             1                 1   \n",
       "3                  1             0             1                 1   \n",
       "4                  0             0             0                 0   \n",
       "\n",
       "         contract  paperless_billing           payment_method  churn_value  \\\n",
       "0  Month-to-month                  1         Electronic check            1   \n",
       "1  Month-to-month                  1  Credit card (automatic)            1   \n",
       "2  Month-to-month                  1         Electronic check            1   \n",
       "3  Month-to-month                  1         Electronic check            1   \n",
       "4  Month-to-month                  1         Electronic check            1   \n",
       "\n",
       "   churn_score  cltv                  churn_reason  referred_a_friend  \\\n",
       "0          100  5433  Competitor offered more data                  0   \n",
       "1           69  5302  Competitor made better offer                  1   \n",
       "2           81  3179  Competitor made better offer                  0   \n",
       "3           88  5337     Limited range of services                  1   \n",
       "4           67  2793            Extra data charges                  1   \n",
       "\n",
       "   number_of_referrals    offer  avg_monthly_long_distance_charges  \\\n",
       "0                    0     None                               0.00   \n",
       "1                    1  Offer E                              48.85   \n",
       "2                    0  Offer D                              11.33   \n",
       "3                    1  Offer C                              19.76   \n",
       "4                    1  Offer C                               6.33   \n",
       "\n",
       "  internet_type  avg_monthly_gb_download  streaming_music  unlimited_data  \\\n",
       "0           DSL                        8                0               0   \n",
       "1   Fiber Optic                       17                0               1   \n",
       "2   Fiber Optic                       52                1               1   \n",
       "3   Fiber Optic                       12                0               1   \n",
       "4   Fiber Optic                       14                0               1   \n",
       "\n",
       "   monthly_charge  total_charges  total_refunds  total_extra_data_charges  \\\n",
       "0           39.65          39.65           0.00                        20   \n",
       "1           80.65         633.30           0.00                         0   \n",
       "2           95.45        1752.55          45.61                         0   \n",
       "3           98.50        2514.50          13.43                         0   \n",
       "4           76.50        2868.15           0.00                         0   \n",
       "\n",
       "   total_long_distance_charges  total_revenue  satisfaction_score  \\\n",
       "0                         0.00          59.65                   3   \n",
       "1                       390.80        1024.10                   3   \n",
       "2                       203.94        1910.88                   2   \n",
       "3                       494.00        2995.07                   2   \n",
       "4                       234.21        3102.36                   2   \n",
       "\n",
       "   customer_status   churn_category  pop_density  new_user          cluster  \\\n",
       "0                1       Competitor        15334         0  price_sensitive   \n",
       "1                1       Competitor        17038         0  price_sensitive   \n",
       "2                1       Competitor         8625         0  price_sensitive   \n",
       "3                1  Dissatisfaction        11799         0  price_sensitive   \n",
       "4                1            Price         6947         0  price_sensitive   \n",
       "\n",
       "  customer_id  \n",
       "0  8779-QRDMV  \n",
       "1  7495-OOKFY  \n",
       "2  1658-BYGOY  \n",
       "3  4598-XLKNJ  \n",
       "4  4846-WHAFZ  "
      ]
     },
     "execution_count": 4,
     "metadata": {},
     "output_type": "execute_result"
    }
   ],
   "source": [
    "telco.head()"
   ]
  },
  {
   "cell_type": "markdown",
   "id": "1d86fe70",
   "metadata": {},
   "source": [
    "## 5.2 Survival Analysis"
   ]
  },
  {
   "cell_type": "markdown",
   "id": "b2d6b8ab",
   "metadata": {},
   "source": [
    "Survival analysis is a statistical branch where it analyse the expected duration of time until one even occurs, commonly death, in this context is customer churn. Survival analysis models time until the event. We only have data up till date and during the time of this study, we have yet to know the probability of which customer would churn in the near future, known as censored observation [(STHDA, n.d.)](http://www.sthda.com/english/wiki/survival-analysis-basics).\n",
    "\n",
    "Censoring may arise in the following ways:\n",
    "1. a user has not (yet) experienced the event of interest, such as relapse or death, within the study time period;\n",
    "2. a user experiences a different event that makes further follow-up impossible, i.e. death.\n",
    "\n",
    "This type of censoring, named right censoring, is handled in survival analysis."
   ]
  },
  {
   "cell_type": "markdown",
   "id": "cca14814",
   "metadata": {},
   "source": [
    "### 5.2.1 Kaplan Meier Curves in General"
   ]
  },
  {
   "cell_type": "markdown",
   "id": "6cc8d75e",
   "metadata": {},
   "source": [
    "Kaplan Meier Estimator is a non parametric statistic to estimate the survival function from the lifetime data. Below is the Kaplan Meier method to estimate the survival function."
   ]
  },
  {
   "cell_type": "markdown",
   "id": "5fbfcc91",
   "metadata": {},
   "source": [
    "\\begin{align*}\n",
    "\\hat S_{t} = \\prod_{t_{t}\\leq t}[1 - \\frac{d_{i}}{n_{i}}]\n",
    "\\end{align*}"
   ]
  },
  {
   "cell_type": "markdown",
   "id": "705459f0",
   "metadata": {},
   "source": [
    "where $t$ is a time period known as the survival time, time to failure or time to event (such as death)"
   ]
  },
  {
   "cell_type": "code",
   "execution_count": 10,
   "id": "489ac5d4",
   "metadata": {},
   "outputs": [
    {
     "data": {
      "image/png": "[encoded data removed]",
      "text/plain": [
       "<Figure size 1440x864 with 2 Axes>"
      ]
     },
     "metadata": {
      "needs_background": "light"
     },
     "output_type": "display_data"
    }
   ],
   "source": [
    "duration = telco['tenure_months'] \n",
    "event_observed = telco['customer_status']  \n",
    "\n",
    "# instantiate km\n",
    "km = KaplanMeierFitter() \n",
    "\n",
    "#plot figure\n",
    "plt.figure(figsize=(20,12))\n",
    "# Fit\n",
    "km.fit(duration, event_observed,label='Kaplan Meier Estimate')\n",
    "\n",
    "# Create an estimate\n",
    "km.plot_survival_function(at_risk_counts=True)\n",
    "\n",
    "plt.title('Kaplan Meier Estimate - All Customer',fontsize=20)\n",
    "plt.ylabel(\"Probability\")\n",
    "plt.savefig('../images/surv_kmf_all.png')\n",
    "plt.show()"
   ]
  },
  {
   "cell_type": "markdown",
   "id": "f6da210a",
   "metadata": {},
   "source": [
    "*Interpretation: The kaplan meier curves provides us information on the survivability of the users, which were not able to be verify using previous modellings or EDA. Based on the above, over 7043 users, the retention probability is over 60% at the end of 72 months.*\n",
    "\n",
    "*At risk indicates the 532 number of customers with an observed tenure of more than 70 months.*\n",
    "\n",
    "*While censored is number of customers with a tenure equal to or less than the point in time, which were not churned. For example, 3,860 customers had a tenure of 60 months or less however, they had not churned then.* \n",
    "\n",
    "*Events in this case signifies number of customers with a tenure equal to or less than the point in time, which had churned by then. For instance, 1,681 customers had a tenure of 50 months or less and had churned by then.*"
   ]
  },
  {
   "cell_type": "markdown",
   "id": "fd4073ab",
   "metadata": {},
   "source": [
    "### 5.2.2 Kaplan Meier Curves by Cohorts"
   ]
  },
  {
   "cell_type": "markdown",
   "id": "7061bb8b",
   "metadata": {},
   "source": [
    "To cross reference to our observation based on the k-means clustered groups, we will also review the survival curves based on the clusters. "
   ]
  },
  {
   "cell_type": "code",
   "execution_count": 6,
   "id": "ecadf6e2",
   "metadata": {
    "scrolled": true
   },
   "outputs": [
    {
     "data": {
      "text/plain": [
       "price_sensitive    0.294051\n",
       "heavyweight        0.270339\n",
       "minimalist         0.218515\n",
       "vanilla            0.217095\n",
       "Name: cluster, dtype: float64"
      ]
     },
     "execution_count": 6,
     "metadata": {},
     "output_type": "execute_result"
    }
   ],
   "source": [
    "#proportion of clusters\n",
    "telco.cluster.value_counts(normalize=True)"
   ]
  },
  {
   "cell_type": "code",
   "execution_count": 7,
   "id": "b66b5de4",
   "metadata": {},
   "outputs": [],
   "source": [
    "def plot_categorical_KM_Curve(feature, t='tenure_months', event='customer_status', df=telco, ax=None):\n",
    "    '''function to plot kmcurve'''\n",
    "    #instantiater\n",
    "    kmf = KaplanMeierFitter() \n",
    "    \n",
    "    for cat in df[feature].unique():\n",
    "        idx = df[feature] == cat\n",
    "        kmf.fit(df[idx][t], event_observed=df[idx][event], label=cat)\n",
    "        rmst = restricted_mean_survival_time(kmf, t=time_limit)\n",
    "        print(f'Restricted Mean Survival Time ({cat}): {rmst:.2f} months')\n",
    "        kmf.plot(ax=ax, label=cat,)"
   ]
  },
  {
   "cell_type": "code",
   "execution_count": 50,
   "id": "37db2fa1",
   "metadata": {},
   "outputs": [
    {
     "name": "stdout",
     "output_type": "stream",
     "text": [
      "Restricted Mean Survival Time (price_sensitive): 23.13 months\n",
      "Restricted Mean Survival Time (vanilla): 40.22 months\n",
      "Restricted Mean Survival Time (heavyweight): 49.67 months\n",
      "Restricted Mean Survival Time (minimalist): 46.45 months\n"
     ]
    },
    {
     "data": {
      "image/png": "[encoded data removed]",
      "text/plain": [
       "<Figure size 1440x720 with 1 Axes>"
      ]
     },
     "metadata": {
      "needs_background": "light"
     },
     "output_type": "display_data"
    }
   ],
   "source": [
    "plt.subplots(nrows = 1, ncols = 1, figsize=(20,10),)\n",
    "\n",
    "#setting time limit \n",
    "time_limit = 50\n",
    "\n",
    "#plot km curve by cluster\n",
    "plot_categorical_KM_Curve(feature='cluster',t='tenure_months', event='customer_status', df=telco, ax=None,)\n",
    "\n",
    "plt.axhline(y=0.5, xmax=0.3,c='k', alpha=0.6, linestyle='--')\n",
    "plt.axvline(x=20, ymax=0.5, c='k', alpha=0.6, linestyle='--')\n",
    "plt.text(13, 0.52, '50%')\n",
    "plt.axhline(y=0.2, xmax=0.64,c='k', alpha=0.6, linestyle='--')\n",
    "plt.axvline(x=47, ymax=0.2, c='k', alpha=0.6, linestyle='--')\n",
    "plt.text(35, 0.22, '20%')\n",
    "plt.title('Kaplan Meier Survival Curve on Clusters',fontsize=20)\n",
    "plt.legend(loc='lower left')\n",
    "plt.ylabel(\"Probability\")\n",
    "plt.savefig('../images/surv_kmf_cohort.png')\n",
    "plt.show()"
   ]
  },
  {
   "cell_type": "markdown",
   "id": "c47c5c3a",
   "metadata": {},
   "source": [
    "*Interpretation: As in our clustering EDA estimation, the survival time expected from **price-sensitive** customers are the shortest with only 23 months(2 years contract) and highest for **heavyweight** users with 49 months, almost twice the tenure.*"
   ]
  },
  {
   "cell_type": "markdown",
   "id": "a0ed9a94",
   "metadata": {},
   "source": [
    "### 5.2.3 Covariate Analysis"
   ]
  },
  {
   "cell_type": "markdown",
   "id": "a0520398",
   "metadata": {},
   "source": [
    "For the covariates study, we will review the following columns on the business subscription offers and its direct effect in customer churn rate."
   ]
  },
  {
   "cell_type": "code",
   "execution_count": 11,
   "id": "dde1ab6a",
   "metadata": {},
   "outputs": [],
   "source": [
    "#covariate columns\n",
    "kmf_col = ['internet_service','offer','contract','payment_method']"
   ]
  },
  {
   "cell_type": "code",
   "execution_count": 12,
   "id": "13942d4b",
   "metadata": {},
   "outputs": [
    {
     "name": "stdout",
     "output_type": "stream",
     "text": [
      "Restricted Mean Survival Time (DSL): 42.16 months\n",
      "Restricted Mean Survival Time (Fiber optic): 35.81 months\n",
      "Restricted Mean Survival Time (No): 46.52 months\n",
      "Restricted Mean Survival Time (None): 39.78 months\n",
      "Restricted Mean Survival Time (Offer E): 14.15 months\n",
      "Restricted Mean Survival Time (Offer D): 32.27 months\n",
      "Restricted Mean Survival Time (Offer C): 40.60 months\n",
      "Restricted Mean Survival Time (Offer B): 49.66 months\n",
      "Restricted Mean Survival Time (Offer A): 50.00 months\n",
      "Restricted Mean Survival Time (Month-to-month): 30.09 months\n",
      "Restricted Mean Survival Time (One year): 48.57 months\n",
      "Restricted Mean Survival Time (Two year): 49.95 months\n",
      "Restricted Mean Survival Time (Electronic check): 32.30 months\n",
      "Restricted Mean Survival Time (Credit card (automatic)): 45.76 months\n",
      "Restricted Mean Survival Time (Mailed check): 40.28 months\n",
      "Restricted Mean Survival Time (Bank transfer (automatic)): 45.30 months\n"
     ]
    },
    {
     "data": {
      "image/png": "[encoded data removed]",
      "text/plain": [
       "<Figure size 1440x3600 with 4 Axes>"
      ]
     },
     "metadata": {
      "needs_background": "light"
     },
     "output_type": "display_data"
    }
   ],
   "source": [
    "fig, ax = plt.subplots(nrows = 4, ncols = 1, figsize=(20,50), sharex=False, sharey=True)\n",
    "ax = ax.flatten()\n",
    "\n",
    "for idx, col in enumerate(kmf_col):\n",
    "    #instantiater\n",
    "    kmf = KaplanMeierFitter() \n",
    "    #plot km curve by cluster\n",
    "    plot_categorical_KM_Curve(feature=col,t='tenure_months', event='customer_status', df=telco, ax=ax[idx])\n",
    "    ax[idx].set_title(col.title())\n",
    "\n",
    "plt.suptitle('Kaplan Meier Survival Curve by Categorical Features', y=0.9, fontsize=17)\n",
    "plt.savefig('../images/surv_kmf_covariate.png')\n",
    "plt.show()"
   ]
  },
  {
   "cell_type": "markdown",
   "id": "074528e8",
   "metadata": {},
   "source": [
    "*Interpretation:*\n",
    "\n",
    "1. `internet_services`, `offer`, and `contract` shows a good level of divergence as it indicates significance in the different parameters that can be useful for prediction. \n",
    "\n",
    "2. Specifically to `payment_method`, we observe overlap between credit card usage and bank transfer. In this overlap, we will the p value significance in the Cox Proportional Hazard Model."
   ]
  },
  {
   "cell_type": "markdown",
   "id": "43ac6a95",
   "metadata": {},
   "source": [
    "### 5.2.4 Cox Proportional Hazard Assesment"
   ]
  },
  {
   "cell_type": "markdown",
   "id": "e9f47b33",
   "metadata": {},
   "source": [
    "Cox Proportional Hazard model is a measure of association between the survival time of customer with one or more predictor variables. It is used to measure the hazard ratios between covairates (given ratio between groups)."
   ]
  },
  {
   "cell_type": "code",
   "execution_count": 13,
   "id": "707621d5",
   "metadata": {},
   "outputs": [
    {
     "data": {
      "text/plain": [
       "<lifelines.CoxPHFitter: fitted with 7043 total observations, 5174 right-censored observations>"
      ]
     },
     "execution_count": 13,
     "metadata": {},
     "output_type": "execute_result"
    }
   ],
   "source": [
    "#instantiate cph from lifelines\n",
    "cph = CoxPHFitter()\n",
    "#fit cph against the features\n",
    "cph.fit(telco, duration_col='tenure_months', event_col='customer_status', \n",
    "       formula=\"internet_service + offer + contract + payment_method\")\n"
   ]
  },
  {
   "cell_type": "markdown",
   "id": "92f7270e",
   "metadata": {},
   "source": [
    "As the CPH calculates the hazard ratio, the interpretation will follow as comparison to the baseline hazard. The hazard ratio represents the difference in hazard that exists between two individiuals (or groups). The hazard a measure of the probability of failure.\n",
    "\n",
    "| Features         | Baseline Hazard         |\n",
    "|------------------|--------------------------|\n",
    "| Contract         | None                     |\n",
    "| Internet Service | DSL                      |\n",
    "| Offer            | None                     |\n",
    "| Payment Method   | Bank Transfer(automatic) |"
   ]
  },
  {
   "cell_type": "code",
   "execution_count": 14,
   "id": "8ba247bc",
   "metadata": {},
   "outputs": [
    {
     "data": {
      "text/html": [
       "<div>\n",
       "<style scoped>\n",
       "    .dataframe tbody tr th:only-of-type {\n",
       "        vertical-align: middle;\n",
       "    }\n",
       "\n",
       "    .dataframe tbody tr th {\n",
       "        vertical-align: top;\n",
       "    }\n",
       "\n",
       "    .dataframe thead th {\n",
       "        text-align: right;\n",
       "    }\n",
       "</style>\n",
       "<table border=\"1\" class=\"dataframe\">\n",
       "  <tbody>\n",
       "    <tr>\n",
       "      <th>model</th>\n",
       "      <td>lifelines.CoxPHFitter</td>\n",
       "    </tr>\n",
       "    <tr>\n",
       "      <th>duration col</th>\n",
       "      <td>'tenure_months'</td>\n",
       "    </tr>\n",
       "    <tr>\n",
       "      <th>event col</th>\n",
       "      <td>'customer_status'</td>\n",
       "    </tr>\n",
       "    <tr>\n",
       "      <th>baseline estimation</th>\n",
       "      <td>breslow</td>\n",
       "    </tr>\n",
       "    <tr>\n",
       "      <th>number of observations</th>\n",
       "      <td>7043</td>\n",
       "    </tr>\n",
       "    <tr>\n",
       "      <th>number of events observed</th>\n",
       "      <td>1869</td>\n",
       "    </tr>\n",
       "    <tr>\n",
       "      <th>partial log-likelihood</th>\n",
       "      <td>-13765.82</td>\n",
       "    </tr>\n",
       "    <tr>\n",
       "      <th>time fit was run</th>\n",
       "      <td>2021-06-08 07:22:00 UTC</td>\n",
       "    </tr>\n",
       "  </tbody>\n",
       "</table>\n",
       "</div><table border=\"1\" class=\"dataframe\">\n",
       "  <thead>\n",
       "    <tr style=\"text-align: right;\">\n",
       "      <th style=\"min-width: 12px;\"></th>\n",
       "      <th style=\"min-width: 12px;\">coef</th>\n",
       "      <th style=\"min-width: 12px;\">exp(coef)</th>\n",
       "      <th style=\"min-width: 12px;\">se(coef)</th>\n",
       "      <th style=\"min-width: 12px;\">coef lower 95%</th>\n",
       "      <th style=\"min-width: 12px;\">coef upper 95%</th>\n",
       "      <th style=\"min-width: 12px;\">exp(coef) lower 95%</th>\n",
       "      <th style=\"min-width: 12px;\">exp(coef) upper 95%</th>\n",
       "      <th style=\"min-width: 12px;\">z</th>\n",
       "      <th style=\"min-width: 12px;\">p</th>\n",
       "      <th style=\"min-width: 12px;\">-log2(p)</th>\n",
       "    </tr>\n",
       "  </thead>\n",
       "  <tbody>\n",
       "    <tr>\n",
       "      <th>contract[T.One year]</th>\n",
       "      <td>-1.74</td>\n",
       "      <td>0.18</td>\n",
       "      <td>0.09</td>\n",
       "      <td>-1.91</td>\n",
       "      <td>-1.57</td>\n",
       "      <td>0.15</td>\n",
       "      <td>0.21</td>\n",
       "      <td>-20.08</td>\n",
       "      <td>&lt;0.005</td>\n",
       "      <td>295.37</td>\n",
       "    </tr>\n",
       "    <tr>\n",
       "      <th>contract[T.Two year]</th>\n",
       "      <td>-3.57</td>\n",
       "      <td>0.03</td>\n",
       "      <td>0.16</td>\n",
       "      <td>-3.89</td>\n",
       "      <td>-3.25</td>\n",
       "      <td>0.02</td>\n",
       "      <td>0.04</td>\n",
       "      <td>-22.16</td>\n",
       "      <td>&lt;0.005</td>\n",
       "      <td>359.07</td>\n",
       "    </tr>\n",
       "    <tr>\n",
       "      <th>internet_service[T.Fiber optic]</th>\n",
       "      <td>0.41</td>\n",
       "      <td>1.51</td>\n",
       "      <td>0.06</td>\n",
       "      <td>0.30</td>\n",
       "      <td>0.52</td>\n",
       "      <td>1.35</td>\n",
       "      <td>1.69</td>\n",
       "      <td>7.17</td>\n",
       "      <td>&lt;0.005</td>\n",
       "      <td>40.24</td>\n",
       "    </tr>\n",
       "    <tr>\n",
       "      <th>internet_service[T.No]</th>\n",
       "      <td>-0.45</td>\n",
       "      <td>0.64</td>\n",
       "      <td>0.11</td>\n",
       "      <td>-0.66</td>\n",
       "      <td>-0.24</td>\n",
       "      <td>0.52</td>\n",
       "      <td>0.79</td>\n",
       "      <td>-4.16</td>\n",
       "      <td>&lt;0.005</td>\n",
       "      <td>14.91</td>\n",
       "    </tr>\n",
       "    <tr>\n",
       "      <th>offer[T.Offer A]</th>\n",
       "      <td>-1.27</td>\n",
       "      <td>0.28</td>\n",
       "      <td>0.18</td>\n",
       "      <td>-1.63</td>\n",
       "      <td>-0.92</td>\n",
       "      <td>0.20</td>\n",
       "      <td>0.40</td>\n",
       "      <td>-7.07</td>\n",
       "      <td>&lt;0.005</td>\n",
       "      <td>39.21</td>\n",
       "    </tr>\n",
       "    <tr>\n",
       "      <th>offer[T.Offer B]</th>\n",
       "      <td>-1.22</td>\n",
       "      <td>0.29</td>\n",
       "      <td>0.11</td>\n",
       "      <td>-1.43</td>\n",
       "      <td>-1.02</td>\n",
       "      <td>0.24</td>\n",
       "      <td>0.36</td>\n",
       "      <td>-11.56</td>\n",
       "      <td>&lt;0.005</td>\n",
       "      <td>100.27</td>\n",
       "    </tr>\n",
       "    <tr>\n",
       "      <th>offer[T.Offer C]</th>\n",
       "      <td>-0.43</td>\n",
       "      <td>0.65</td>\n",
       "      <td>0.11</td>\n",
       "      <td>-0.65</td>\n",
       "      <td>-0.22</td>\n",
       "      <td>0.52</td>\n",
       "      <td>0.80</td>\n",
       "      <td>-3.98</td>\n",
       "      <td>&lt;0.005</td>\n",
       "      <td>13.83</td>\n",
       "    </tr>\n",
       "    <tr>\n",
       "      <th>offer[T.Offer D]</th>\n",
       "      <td>0.12</td>\n",
       "      <td>1.13</td>\n",
       "      <td>0.09</td>\n",
       "      <td>-0.05</td>\n",
       "      <td>0.30</td>\n",
       "      <td>0.95</td>\n",
       "      <td>1.35</td>\n",
       "      <td>1.39</td>\n",
       "      <td>0.17</td>\n",
       "      <td>2.60</td>\n",
       "    </tr>\n",
       "    <tr>\n",
       "      <th>offer[T.Offer E]</th>\n",
       "      <td>1.84</td>\n",
       "      <td>6.32</td>\n",
       "      <td>0.07</td>\n",
       "      <td>1.70</td>\n",
       "      <td>1.98</td>\n",
       "      <td>5.48</td>\n",
       "      <td>7.28</td>\n",
       "      <td>25.52</td>\n",
       "      <td>&lt;0.005</td>\n",
       "      <td>474.69</td>\n",
       "    </tr>\n",
       "    <tr>\n",
       "      <th>payment_method[T.Credit card (automatic)]</th>\n",
       "      <td>-0.04</td>\n",
       "      <td>0.96</td>\n",
       "      <td>0.09</td>\n",
       "      <td>-0.22</td>\n",
       "      <td>0.14</td>\n",
       "      <td>0.81</td>\n",
       "      <td>1.15</td>\n",
       "      <td>-0.42</td>\n",
       "      <td>0.67</td>\n",
       "      <td>0.57</td>\n",
       "    </tr>\n",
       "    <tr>\n",
       "      <th>payment_method[T.Electronic check]</th>\n",
       "      <td>0.54</td>\n",
       "      <td>1.71</td>\n",
       "      <td>0.07</td>\n",
       "      <td>0.40</td>\n",
       "      <td>0.68</td>\n",
       "      <td>1.49</td>\n",
       "      <td>1.97</td>\n",
       "      <td>7.59</td>\n",
       "      <td>&lt;0.005</td>\n",
       "      <td>44.81</td>\n",
       "    </tr>\n",
       "    <tr>\n",
       "      <th>payment_method[T.Mailed check]</th>\n",
       "      <td>0.56</td>\n",
       "      <td>1.76</td>\n",
       "      <td>0.09</td>\n",
       "      <td>0.39</td>\n",
       "      <td>0.74</td>\n",
       "      <td>1.48</td>\n",
       "      <td>2.09</td>\n",
       "      <td>6.35</td>\n",
       "      <td>&lt;0.005</td>\n",
       "      <td>32.10</td>\n",
       "    </tr>\n",
       "  </tbody>\n",
       "</table><br><div>\n",
       "<style scoped>\n",
       "    .dataframe tbody tr th:only-of-type {\n",
       "        vertical-align: middle;\n",
       "    }\n",
       "\n",
       "    .dataframe tbody tr th {\n",
       "        vertical-align: top;\n",
       "    }\n",
       "\n",
       "    .dataframe thead th {\n",
       "        text-align: right;\n",
       "    }\n",
       "</style>\n",
       "<table border=\"1\" class=\"dataframe\">\n",
       "  <tbody>\n",
       "    <tr>\n",
       "      <th>Concordance</th>\n",
       "      <td>0.87</td>\n",
       "    </tr>\n",
       "    <tr>\n",
       "      <th>Partial AIC</th>\n",
       "      <td>27555.64</td>\n",
       "    </tr>\n",
       "    <tr>\n",
       "      <th>log-likelihood ratio test</th>\n",
       "      <td>3774.44 on 12 df</td>\n",
       "    </tr>\n",
       "    <tr>\n",
       "      <th>-log2(p) of ll-ratio test</th>\n",
       "      <td>inf</td>\n",
       "    </tr>\n",
       "  </tbody>\n",
       "</table>\n",
       "</div>"
      ],
      "text/latex": [
       "\\begin{tabular}{lrrrrrrrrrr}\n",
       "\\toprule\n",
       "{} &  coef &  exp(coef) &  se(coef) &  coef lower 95\\% &  coef upper 95\\% &  exp(coef) lower 95\\% &  exp(coef) upper 95\\% &      z &    p &  -log2(p) \\\\\n",
       "covariate                                 &       &            &           &                 &                 &                      &                      &        &      &           \\\\\n",
       "\\midrule\n",
       "contract[T.One year]                      & -1.74 &       0.18 &      0.09 &           -1.91 &           -1.57 &                 0.15 &                 0.21 & -20.08 & 0.00 &    295.37 \\\\\n",
       "contract[T.Two year]                      & -3.57 &       0.03 &      0.16 &           -3.89 &           -3.25 &                 0.02 &                 0.04 & -22.16 & 0.00 &    359.07 \\\\\n",
       "internet\\_service[T.Fiber optic]           &  0.41 &       1.51 &      0.06 &            0.30 &            0.52 &                 1.35 &                 1.69 &   7.17 & 0.00 &     40.24 \\\\\n",
       "internet\\_service[T.No]                    & -0.45 &       0.64 &      0.11 &           -0.66 &           -0.24 &                 0.52 &                 0.79 &  -4.16 & 0.00 &     14.91 \\\\\n",
       "offer[T.Offer A]                          & -1.27 &       0.28 &      0.18 &           -1.63 &           -0.92 &                 0.20 &                 0.40 &  -7.07 & 0.00 &     39.21 \\\\\n",
       "offer[T.Offer B]                          & -1.22 &       0.29 &      0.11 &           -1.43 &           -1.02 &                 0.24 &                 0.36 & -11.56 & 0.00 &    100.27 \\\\\n",
       "offer[T.Offer C]                          & -0.43 &       0.65 &      0.11 &           -0.65 &           -0.22 &                 0.52 &                 0.80 &  -3.98 & 0.00 &     13.83 \\\\\n",
       "offer[T.Offer D]                          &  0.12 &       1.13 &      0.09 &           -0.05 &            0.30 &                 0.95 &                 1.35 &   1.39 & 0.17 &      2.60 \\\\\n",
       "offer[T.Offer E]                          &  1.84 &       6.32 &      0.07 &            1.70 &            1.98 &                 5.48 &                 7.28 &  25.52 & 0.00 &    474.69 \\\\\n",
       "payment\\_method[T.Credit card (automatic)] & -0.04 &       0.96 &      0.09 &           -0.22 &            0.14 &                 0.81 &                 1.15 &  -0.42 & 0.67 &      0.57 \\\\\n",
       "payment\\_method[T.Electronic check]        &  0.54 &       1.71 &      0.07 &            0.40 &            0.68 &                 1.49 &                 1.97 &   7.59 & 0.00 &     44.81 \\\\\n",
       "payment\\_method[T.Mailed check]            &  0.56 &       1.76 &      0.09 &            0.39 &            0.74 &                 1.48 &                 2.09 &   6.35 & 0.00 &     32.10 \\\\\n",
       "\\bottomrule\n",
       "\\end{tabular}\n"
      ],
      "text/plain": [
       "<lifelines.CoxPHFitter: fitted with 7043 total observations, 5174 right-censored observations>\n",
       "             duration col = 'tenure_months'\n",
       "                event col = 'customer_status'\n",
       "      baseline estimation = breslow\n",
       "   number of observations = 7043\n",
       "number of events observed = 1869\n",
       "   partial log-likelihood = -13765.82\n",
       "         time fit was run = 2021-06-08 07:22:00 UTC\n",
       "\n",
       "---\n",
       "                                            coef  exp(coef)   se(coef)   coef lower 95%   coef upper 95%  exp(coef) lower 95%  exp(coef) upper 95%\n",
       "covariate                                                                                                                                         \n",
       "contract[T.One year]                       -1.74       0.18       0.09            -1.91            -1.57                 0.15                 0.21\n",
       "contract[T.Two year]                       -3.57       0.03       0.16            -3.89            -3.25                 0.02                 0.04\n",
       "internet_service[T.Fiber optic]             0.41       1.51       0.06             0.30             0.52                 1.35                 1.69\n",
       "internet_service[T.No]                     -0.45       0.64       0.11            -0.66            -0.24                 0.52                 0.79\n",
       "offer[T.Offer A]                           -1.27       0.28       0.18            -1.63            -0.92                 0.20                 0.40\n",
       "offer[T.Offer B]                           -1.22       0.29       0.11            -1.43            -1.02                 0.24                 0.36\n",
       "offer[T.Offer C]                           -0.43       0.65       0.11            -0.65            -0.22                 0.52                 0.80\n",
       "offer[T.Offer D]                            0.12       1.13       0.09            -0.05             0.30                 0.95                 1.35\n",
       "offer[T.Offer E]                            1.84       6.32       0.07             1.70             1.98                 5.48                 7.28\n",
       "payment_method[T.Credit card (automatic)]  -0.04       0.96       0.09            -0.22             0.14                 0.81                 1.15\n",
       "payment_method[T.Electronic check]          0.54       1.71       0.07             0.40             0.68                 1.49                 1.97\n",
       "payment_method[T.Mailed check]              0.56       1.76       0.09             0.39             0.74                 1.48                 2.09\n",
       "\n",
       "                                               z      p   -log2(p)\n",
       "covariate                                                         \n",
       "contract[T.One year]                      -20.08 <0.005     295.37\n",
       "contract[T.Two year]                      -22.16 <0.005     359.07\n",
       "internet_service[T.Fiber optic]             7.17 <0.005      40.24\n",
       "internet_service[T.No]                     -4.16 <0.005      14.91\n",
       "offer[T.Offer A]                           -7.07 <0.005      39.21\n",
       "offer[T.Offer B]                          -11.56 <0.005     100.27\n",
       "offer[T.Offer C]                           -3.98 <0.005      13.83\n",
       "offer[T.Offer D]                            1.39   0.17       2.60\n",
       "offer[T.Offer E]                           25.52 <0.005     474.69\n",
       "payment_method[T.Credit card (automatic)]  -0.42   0.67       0.57\n",
       "payment_method[T.Electronic check]          7.59 <0.005      44.81\n",
       "payment_method[T.Mailed check]              6.35 <0.005      32.10\n",
       "---\n",
       "Concordance = 0.87\n",
       "Partial AIC = 27555.64\n",
       "log-likelihood ratio test = 3774.44 on 12 df\n",
       "-log2(p) of ll-ratio test = inf"
      ]
     },
     "metadata": {},
     "output_type": "display_data"
    }
   ],
   "source": [
    "#assesment of result\n",
    "cph.print_summary()"
   ]
  },
  {
   "cell_type": "markdown",
   "id": "d2be81d1",
   "metadata": {},
   "source": [
    "*Intepretation:*\n",
    "\n",
    "1. As like Pearsonr hypothesis testings, with **p-value** less than 0.05 indicates statistically significant difference. This denotes that we have to reject our null hypothesis and admit that the survival function for both groups is significantly different.\n",
    "\n",
    "2. **exp(coef)** is the hazard ratio, interpreted where less than 1 signifies lower risk of death with longer median survival against its baseline hazard. For instance, the one-year contract hazard ratio decreases by 0.18 factor compared to no-contract. Else for instance on offer D with exp(coef) of 1.13, the customer are 13% more likely to churn compared to none-offer, while we hold all other feature constant.  \n",
    "\n",
    "3. Model coefficients (**coef** column) tell us how each covariate impacts risk. A positive coef for a covariate indicates that a customer with that feature is more likely to churn and vice versa. This applies to Offer E with 84% more likely to churn.\n",
    "\n",
    "4. Model **Concordance** of 0.87 is interpreted similarly to a logistic regression’s AUCROC where 0.5 is the expected result from a random prediction and values closer to 1.0 showing a perfect predictive concordance."
   ]
  },
  {
   "cell_type": "code",
   "execution_count": 15,
   "id": "c22d24e2",
   "metadata": {},
   "outputs": [
    {
     "data": {
      "image/png": "[encoded data removed]",
      "text/plain": [
       "<Figure size 576x432 with 1 Axes>"
      ]
     },
     "metadata": {
      "needs_background": "light"
     },
     "output_type": "display_data"
    }
   ],
   "source": [
    "#plot with coef ci for visual\n",
    "ax = plt.subplots(figsize=(8, 6))\n",
    "cph.plot(ax=ax[1])\n",
    "plt.title('Log Hazard Ratio(HR) with 95% Confidence Interval')\n",
    "plt.show()"
   ]
  },
  {
   "cell_type": "markdown",
   "id": "2e3f027b",
   "metadata": {},
   "source": [
    "*Interpretation: Based on the values of coef upper and lower bounds with 95% confidence interval of the covariates. As the interpretation above, the likelihood of churn and vice versa are inferred from the exp(coef)*"
   ]
  },
  {
   "cell_type": "markdown",
   "id": "5637e8ab",
   "metadata": {},
   "source": [
    "## 5.3 Model Prediction Validation"
   ]
  },
  {
   "cell_type": "markdown",
   "id": "2e9e1b90",
   "metadata": {},
   "source": [
    "In this section, we will predict and compare the estimation of our random forest model prediction results on the customer churn tendency to draw inferences and verify the model's prediction capacity. "
   ]
  },
  {
   "cell_type": "markdown",
   "id": "3d0ff202",
   "metadata": {},
   "source": [
    "### 5.3.1 Survival Analysis Prediction Probability to Churn"
   ]
  },
  {
   "cell_type": "markdown",
   "id": "789244b9",
   "metadata": {},
   "source": [
    "Survival Analysis and the Lifeline Libraries are able to provide probability predictions on the customer survival tenure."
   ]
  },
  {
   "cell_type": "code",
   "execution_count": 16,
   "id": "e9565e61",
   "metadata": {},
   "outputs": [
    {
     "data": {
      "text/html": [
       "<div>\n",
       "<style scoped>\n",
       "    .dataframe tbody tr th:only-of-type {\n",
       "        vertical-align: middle;\n",
       "    }\n",
       "\n",
       "    .dataframe tbody tr th {\n",
       "        vertical-align: top;\n",
       "    }\n",
       "\n",
       "    .dataframe thead th {\n",
       "        text-align: right;\n",
       "    }\n",
       "</style>\n",
       "<table border=\"1\" class=\"dataframe\">\n",
       "  <thead>\n",
       "    <tr style=\"text-align: right;\">\n",
       "      <th></th>\n",
       "      <th>0.5</th>\n",
       "    </tr>\n",
       "  </thead>\n",
       "  <tbody>\n",
       "    <tr>\n",
       "      <th>477</th>\n",
       "      <td>9.0</td>\n",
       "    </tr>\n",
       "    <tr>\n",
       "      <th>478</th>\n",
       "      <td>12.0</td>\n",
       "    </tr>\n",
       "    <tr>\n",
       "      <th>479</th>\n",
       "      <td>26.0</td>\n",
       "    </tr>\n",
       "    <tr>\n",
       "      <th>480</th>\n",
       "      <td>40.0</td>\n",
       "    </tr>\n",
       "    <tr>\n",
       "      <th>484</th>\n",
       "      <td>16.0</td>\n",
       "    </tr>\n",
       "  </tbody>\n",
       "</table>\n",
       "</div>"
      ],
      "text/plain": [
       "      0.5\n",
       "477   9.0\n",
       "478  12.0\n",
       "479  26.0\n",
       "480  40.0\n",
       "484  16.0"
      ]
     },
     "execution_count": 16,
     "metadata": {},
     "output_type": "execute_result"
    }
   ],
   "source": [
    "#filter censored customers \n",
    "censored_data = telco[telco['customer_status'] == 0]\n",
    "\n",
    "# create the tenure column for each customer\n",
    "censored_data_last_obs = censored_data['tenure_months']\n",
    "\n",
    "# Predict the survival function for each customer from this day onwards\n",
    "conditioned_sf = cph.predict_survival_function(censored_data, conditional_after = censored_data_last_obs)\n",
    "\n",
    "# Predict the month where the survival probability falls below the median\n",
    "predictions_50 = median_survival_times(conditioned_sf)\n",
    "\n",
    "#drop customer that doesnt churn \n",
    "surv_preds = predictions_50.T.replace(np.inf, np.nan).dropna()\n",
    "surv_preds.head()"
   ]
  },
  {
   "cell_type": "markdown",
   "id": "e478871c",
   "metadata": {},
   "source": [
    "In this prediction, we have selected the customers in which is still active, with a prediction of survival probability lower than 50%. In this context, the customer of index 477 has a survival probability another 9 months. "
   ]
  },
  {
   "cell_type": "markdown",
   "id": "62b796f5",
   "metadata": {},
   "source": [
    "### 5.3.2 Comparison Survival Analysis Prediction and Random Forest Model Prediction"
   ]
  },
  {
   "cell_type": "markdown",
   "id": "677adc26",
   "metadata": {},
   "source": [
    "From the last notebook, we have extracted the false positve and false negative predictions. In this section, we will make quick comparison to evaluate our model false positive prediction to the survival analysis prediction."
   ]
  },
  {
   "cell_type": "code",
   "execution_count": 17,
   "id": "c248c2d0",
   "metadata": {},
   "outputs": [],
   "source": [
    "#extract index from the predicted \n",
    "surv_preds_index = surv_preds.index"
   ]
  },
  {
   "cell_type": "code",
   "execution_count": 18,
   "id": "2ca4683d-7873-4ea3-82da-355dfae7e7c3",
   "metadata": {},
   "outputs": [
    {
     "data": {
      "text/html": [
       "<div>\n",
       "<style scoped>\n",
       "    .dataframe tbody tr th:only-of-type {\n",
       "        vertical-align: middle;\n",
       "    }\n",
       "\n",
       "    .dataframe tbody tr th {\n",
       "        vertical-align: top;\n",
       "    }\n",
       "\n",
       "    .dataframe thead th {\n",
       "        text-align: right;\n",
       "    }\n",
       "</style>\n",
       "<table border=\"1\" class=\"dataframe\">\n",
       "  <thead>\n",
       "    <tr style=\"text-align: right;\">\n",
       "      <th></th>\n",
       "      <th>0.5</th>\n",
       "    </tr>\n",
       "  </thead>\n",
       "  <tbody>\n",
       "    <tr>\n",
       "      <th>477</th>\n",
       "      <td>9.0</td>\n",
       "    </tr>\n",
       "    <tr>\n",
       "      <th>478</th>\n",
       "      <td>12.0</td>\n",
       "    </tr>\n",
       "    <tr>\n",
       "      <th>479</th>\n",
       "      <td>26.0</td>\n",
       "    </tr>\n",
       "    <tr>\n",
       "      <th>480</th>\n",
       "      <td>40.0</td>\n",
       "    </tr>\n",
       "    <tr>\n",
       "      <th>484</th>\n",
       "      <td>16.0</td>\n",
       "    </tr>\n",
       "    <tr>\n",
       "      <th>...</th>\n",
       "      <td>...</td>\n",
       "    </tr>\n",
       "    <tr>\n",
       "      <th>7034</th>\n",
       "      <td>11.0</td>\n",
       "    </tr>\n",
       "    <tr>\n",
       "      <th>7035</th>\n",
       "      <td>23.0</td>\n",
       "    </tr>\n",
       "    <tr>\n",
       "      <th>7036</th>\n",
       "      <td>35.0</td>\n",
       "    </tr>\n",
       "    <tr>\n",
       "      <th>7037</th>\n",
       "      <td>60.0</td>\n",
       "    </tr>\n",
       "    <tr>\n",
       "      <th>7041</th>\n",
       "      <td>37.0</td>\n",
       "    </tr>\n",
       "  </tbody>\n",
       "</table>\n",
       "<p>2299 rows × 1 columns</p>\n",
       "</div>"
      ],
      "text/plain": [
       "       0.5\n",
       "477    9.0\n",
       "478   12.0\n",
       "479   26.0\n",
       "480   40.0\n",
       "484   16.0\n",
       "...    ...\n",
       "7034  11.0\n",
       "7035  23.0\n",
       "7036  35.0\n",
       "7037  60.0\n",
       "7041  37.0\n",
       "\n",
       "[2299 rows x 1 columns]"
      ]
     },
     "execution_count": 18,
     "metadata": {},
     "output_type": "execute_result"
    }
   ],
   "source": [
    "surv_preds"
   ]
  },
  {
   "cell_type": "code",
   "execution_count": 19,
   "id": "8add4e93",
   "metadata": {},
   "outputs": [
    {
     "name": "stdout",
     "output_type": "stream",
     "text": [
      "False Positive Prediction: 1134\n",
      "False Negative Prediction: 0\n"
     ]
    }
   ],
   "source": [
    "#provide counts to compare the false positive counts made\n",
    "falsepo_count = []\n",
    "falseneg_count = []\n",
    "\n",
    "for i in pd.Series(surv_preds_index):\n",
    "    for j in false_po['Unnamed: 0']:\n",
    "        if i == j:\n",
    "            falsepo_count.append(i)\n",
    "    for j in false_neg['Unnamed: 0']:\n",
    "        if i == j:\n",
    "            falseneg_count.append(i)\n",
    "            \n",
    "print(f'False Positive Prediction: {len(falsepo_count)}') #1134 out of  1201\n",
    "print(f'False Negative Prediction: {len(falseneg_count)}') #0 out of 233"
   ]
  },
  {
   "cell_type": "markdown",
   "id": "b8dcef74",
   "metadata": {},
   "source": [
    "We can conclude that the hypothesis where the models predicts on false positives are indication of high churn likelihood customers. In this note, we will extract the predictions on the survival analysis on the churn months, we can implement this information along with its call to action for dashboard implementation."
   ]
  },
  {
   "cell_type": "markdown",
   "id": "cd27e006",
   "metadata": {},
   "source": [
    "## 5.4 Merge Predictions for Dashboard Deployment"
   ]
  },
  {
   "cell_type": "code",
   "execution_count": 20,
   "id": "b92a283a",
   "metadata": {},
   "outputs": [],
   "source": [
    "#to merge with surv pred for dashboard\n",
    "dash_df = pd.merge(telco, predictions_50.T, left_index=True, right_index=True, how='outer')"
   ]
  },
  {
   "cell_type": "code",
   "execution_count": 21,
   "id": "05f401ba",
   "metadata": {},
   "outputs": [],
   "source": [
    "#drop unused cols\n",
    "dash_df = dash_df.rename(columns={0.5:'months_to_churn'}).drop(columns=['pop_density','new_user','under_30','senior_citizen','dependents','number_of_dependents'])"
   ]
  },
  {
   "cell_type": "code",
   "execution_count": 22,
   "id": "1a97b586",
   "metadata": {},
   "outputs": [],
   "source": [
    "def rename_str(df,target_col):\n",
    "    rename_col = []\n",
    "    for i in range(len(dash_df)):\n",
    "        rename = df.loc[i][target_col].replace('_',' ').title()\n",
    "        rename_col.append(rename)\n",
    "    return rename_col"
   ]
  },
  {
   "cell_type": "code",
   "execution_count": 23,
   "id": "11996bc4",
   "metadata": {},
   "outputs": [],
   "source": [
    "#rename cluster\n",
    "dash_df['cluster'] = rename_str(dash_df,'cluster')\n",
    "\n",
    "#convert values\n",
    "dash_df.months_to_churn = dash_df.months_to_churn.replace({np.inf : 80, np.nan : 0})\n",
    "dash_df['gender'] = dash_df['gender'].replace({0:'Male', 1:'Female'})\n",
    "\n",
    "#export for dashboard\n",
    "dash_df.to_csv('../data/telco_clustered_dash.csv', index=False)"
   ]
  },
  {
   "cell_type": "markdown",
   "id": "05db809b",
   "metadata": {},
   "source": [
    "## 5.5 Conclusion and Recommendations"
   ]
  },
  {
   "cell_type": "markdown",
   "id": "496ef5ca",
   "metadata": {},
   "source": [
    "Looking back at Random Forest Model predictions, we have successfully model and predict the customer churn of the telco dataset with 69% F1 Harmonic Score. With 5174 currently still active customer, we are able to identify 1201 customers with tendency to churn. These information are look ahead for the business and translated for a call to action via the customer quadrant.\n",
    "\n",
    "Survival Analysis that was conducted with under the following caveat on the assumptions. As our goal in this project is survival prediction, we will not take into account on the proportional hazards assumption violations. More can be found in the lifelines documentation [(Lifelines, 2021)](https://lifelines.readthedocs.io/en/latest/jupyter_notebooks/Proportional%20hazard%20assumption.html).\n",
    "\n",
    "Married users are 1.51 times more likely to churn, whereas contract users of two years are 0.43 times more likely to stay. In summary, internet_service using fiber optic, payment method using electronic check, offer E, and streaming tv services are features that the business needs to look into. The driving factors that affects the customer churn are month-to-month basis contract customers, payment via electronic checks, fibre optic and streaming services connectivity which requires more investigation on the logistics and hardware of the actual services.\n",
    "\n",
    "The following shall be taken account for as well as we build retention strategy:\n",
    "\n",
    "**Questions to ask:**\n",
    "\n",
    "1. Does *Offer E* has an combination of promotion that has high turnover rate? If yes, what can be done to improve the promotional value of Offer E, else shall Offer E be terminated entirely and be replaced.\n",
    "\n",
    "2. Does *internet service users of fiber optic* has difficulty in connectivity? Is the logistic support for performance of the fiber optic well optimized for the majority of the user base. Is the technical support team well equipt with the knowledge to assist users in need?\n",
    "\n",
    "3. Does the payment using *electronic check* issue inconvenience to users during payment? If other payment method is viable, is the a lack of information of other payment methods made known to users?\n",
    "\n",
    "4. Does *streaming tv* encounter data speed limitation? If there is connectivity issues, are these due to lack of infrastucture to support the signal transmissons?\n",
    "\n",
    "Alternatively, the long term contracts offers, online security, tech support, online back up has prove to be a value-added service to the users as the subscription to it led to user more likely to stay with the business. \n",
    "\n",
    "This model has been limited for further investigation and exploration due to its lack of time-series features in the original dataset, which is considered a key feature in customer-driven analysis. Hence with modification, the model can be retrained for other business use case especially on the clustering of customer base. "
   ]
  }
 ],
 "metadata": {
  "kernelspec": {
   "display_name": "Python 3",
   "language": "python",
   "name": "python3"
  },
  "language_info": {
   "codemirror_mode": {
    "name": "ipython",
    "version": 3
   },
   "file_extension": ".py",
   "mimetype": "text/x-python",
   "name": "python",
   "nbconvert_exporter": "python",
   "pygments_lexer": "ipython3",
   "version": "3.8.10"
  }
 },
 "nbformat": 4,
 "nbformat_minor": 5
}
