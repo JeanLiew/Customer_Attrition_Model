{
 "cells": [
  {
   "cell_type": "code",
   "execution_count": 57,
   "id": "0bbedf3c",
   "metadata": {},
   "outputs": [],
   "source": [
    "import numpy as np\n",
    "import pandas as pd\n",
    "import matplotlib.pyplot as plt\n",
    "import seaborn as sns\n",
    "\n",
    "#import preprocessing library\n",
    "from sklearn.model_selection import train_test_split, GridSearchCV, cross_val_score\n",
    "\n",
    "#import prepocessing\n",
    "from sklearn.preprocessing import StandardScaler\n",
    "\n",
    "#import models\n",
    "from sklearn.linear_model import LogisticRegression\n",
    "from sklearn.ensemble import RandomForestClassifier\n",
    "from sklearn.svm import SVC\n",
    "from tensorflow.keras.models import Sequential\n",
    "from tensorflow.keras.layers import Dense\n",
    "from tensorflow.keras.wrappers.scikit_learn import KerasClassifier\n",
    "from tensorflow.keras.regularizers import l2\n",
    "from tensorflow.keras.layers import Dropout\n",
    "from tensorflow.keras.callbacks import EarlyStopping\n",
    "\n",
    "#import metrics\n",
    "from sklearn.metrics import confusion_matrix, plot_roc_curve, r2_score\n",
    "\n",
    "#import bootstrap libs\n",
    "from imblearn.over_sampling import SMOTE\n",
    "from imblearn.pipeline import make_pipeline, Pipeline"
   ]
  },
  {
   "cell_type": "code",
   "execution_count": 2,
   "id": "031dbb3d",
   "metadata": {},
   "outputs": [],
   "source": [
    "telco_final = pd.read_csv('../data/telco_clustered.csv')\n",
    "pd.set_option('display.max_columns',99)"
   ]
  },
  {
   "cell_type": "code",
   "execution_count": 3,
   "id": "ac42f0ad",
   "metadata": {},
   "outputs": [],
   "source": [
    "#drop cities\n",
    "telco = telco_final.copy().drop(columns=['city','churn_reason','churn_category','churn_value', 'churn_score',\n",
    "                            'internet_type','pop_density', 'tenure_months', 'dependents','satisfaction_score','new_user',\n",
    "                            'referred_a_friend'])"
   ]
  },
  {
   "cell_type": "markdown",
   "id": "a59ac462",
   "metadata": {},
   "source": [
    "## OHE"
   ]
  },
  {
   "cell_type": "code",
   "execution_count": 4,
   "id": "ab832a1e",
   "metadata": {},
   "outputs": [],
   "source": [
    "telco_dummies = pd.get_dummies(telco, drop_first=True)"
   ]
  },
  {
   "cell_type": "code",
   "execution_count": 5,
   "id": "81a6c983",
   "metadata": {},
   "outputs": [
    {
     "data": {
      "text/html": [
       "<div>\n",
       "<style scoped>\n",
       "    .dataframe tbody tr th:only-of-type {\n",
       "        vertical-align: middle;\n",
       "    }\n",
       "\n",
       "    .dataframe tbody tr th {\n",
       "        vertical-align: top;\n",
       "    }\n",
       "\n",
       "    .dataframe thead th {\n",
       "        text-align: right;\n",
       "    }\n",
       "</style>\n",
       "<table border=\"1\" class=\"dataframe\">\n",
       "  <thead>\n",
       "    <tr style=\"text-align: right;\">\n",
       "      <th></th>\n",
       "      <th>gender</th>\n",
       "      <th>age</th>\n",
       "      <th>under_30</th>\n",
       "      <th>senior_citizen</th>\n",
       "      <th>married</th>\n",
       "      <th>number_of_dependents</th>\n",
       "      <th>phone_service</th>\n",
       "      <th>multiple_lines</th>\n",
       "      <th>online_security</th>\n",
       "      <th>online_backup</th>\n",
       "      <th>device_protection</th>\n",
       "      <th>tech_support</th>\n",
       "      <th>streaming_tv</th>\n",
       "      <th>streaming_movies</th>\n",
       "      <th>paperless_billing</th>\n",
       "      <th>cltv</th>\n",
       "      <th>number_of_referrals</th>\n",
       "      <th>avg_monthly_long_distance_charges</th>\n",
       "      <th>avg_monthly_gb_download</th>\n",
       "      <th>streaming_music</th>\n",
       "      <th>unlimited_data</th>\n",
       "      <th>monthly_charge</th>\n",
       "      <th>total_charges</th>\n",
       "      <th>total_refunds</th>\n",
       "      <th>total_extra_data_charges</th>\n",
       "      <th>total_long_distance_charges</th>\n",
       "      <th>total_revenue</th>\n",
       "      <th>customer_status</th>\n",
       "      <th>internet_service_Fiber optic</th>\n",
       "      <th>internet_service_No</th>\n",
       "      <th>contract_One year</th>\n",
       "      <th>contract_Two year</th>\n",
       "      <th>payment_method_Credit card (automatic)</th>\n",
       "      <th>payment_method_Electronic check</th>\n",
       "      <th>payment_method_Mailed check</th>\n",
       "      <th>offer_Offer A</th>\n",
       "      <th>offer_Offer B</th>\n",
       "      <th>offer_Offer C</th>\n",
       "      <th>offer_Offer D</th>\n",
       "      <th>offer_Offer E</th>\n",
       "      <th>cluster_minimalist</th>\n",
       "      <th>cluster_price_sensitive</th>\n",
       "      <th>cluster_vanilla</th>\n",
       "    </tr>\n",
       "  </thead>\n",
       "  <tbody>\n",
       "    <tr>\n",
       "      <th>0</th>\n",
       "      <td>0</td>\n",
       "      <td>78</td>\n",
       "      <td>0</td>\n",
       "      <td>1</td>\n",
       "      <td>0</td>\n",
       "      <td>0</td>\n",
       "      <td>0</td>\n",
       "      <td>0</td>\n",
       "      <td>0</td>\n",
       "      <td>0</td>\n",
       "      <td>1</td>\n",
       "      <td>0</td>\n",
       "      <td>0</td>\n",
       "      <td>1</td>\n",
       "      <td>1</td>\n",
       "      <td>5433</td>\n",
       "      <td>0</td>\n",
       "      <td>0.00</td>\n",
       "      <td>8</td>\n",
       "      <td>0</td>\n",
       "      <td>0</td>\n",
       "      <td>39.65</td>\n",
       "      <td>39.65</td>\n",
       "      <td>0.00</td>\n",
       "      <td>20</td>\n",
       "      <td>0.00</td>\n",
       "      <td>59.65</td>\n",
       "      <td>1</td>\n",
       "      <td>0</td>\n",
       "      <td>0</td>\n",
       "      <td>0</td>\n",
       "      <td>0</td>\n",
       "      <td>0</td>\n",
       "      <td>1</td>\n",
       "      <td>0</td>\n",
       "      <td>0</td>\n",
       "      <td>0</td>\n",
       "      <td>0</td>\n",
       "      <td>0</td>\n",
       "      <td>0</td>\n",
       "      <td>0</td>\n",
       "      <td>0</td>\n",
       "      <td>1</td>\n",
       "    </tr>\n",
       "    <tr>\n",
       "      <th>1</th>\n",
       "      <td>1</td>\n",
       "      <td>74</td>\n",
       "      <td>0</td>\n",
       "      <td>1</td>\n",
       "      <td>1</td>\n",
       "      <td>1</td>\n",
       "      <td>1</td>\n",
       "      <td>1</td>\n",
       "      <td>0</td>\n",
       "      <td>1</td>\n",
       "      <td>0</td>\n",
       "      <td>0</td>\n",
       "      <td>0</td>\n",
       "      <td>0</td>\n",
       "      <td>1</td>\n",
       "      <td>5302</td>\n",
       "      <td>1</td>\n",
       "      <td>48.85</td>\n",
       "      <td>17</td>\n",
       "      <td>0</td>\n",
       "      <td>1</td>\n",
       "      <td>80.65</td>\n",
       "      <td>633.30</td>\n",
       "      <td>0.00</td>\n",
       "      <td>0</td>\n",
       "      <td>390.80</td>\n",
       "      <td>1024.10</td>\n",
       "      <td>1</td>\n",
       "      <td>1</td>\n",
       "      <td>0</td>\n",
       "      <td>0</td>\n",
       "      <td>0</td>\n",
       "      <td>1</td>\n",
       "      <td>0</td>\n",
       "      <td>0</td>\n",
       "      <td>0</td>\n",
       "      <td>0</td>\n",
       "      <td>0</td>\n",
       "      <td>0</td>\n",
       "      <td>1</td>\n",
       "      <td>0</td>\n",
       "      <td>1</td>\n",
       "      <td>0</td>\n",
       "    </tr>\n",
       "    <tr>\n",
       "      <th>2</th>\n",
       "      <td>0</td>\n",
       "      <td>71</td>\n",
       "      <td>0</td>\n",
       "      <td>1</td>\n",
       "      <td>0</td>\n",
       "      <td>3</td>\n",
       "      <td>1</td>\n",
       "      <td>1</td>\n",
       "      <td>0</td>\n",
       "      <td>0</td>\n",
       "      <td>0</td>\n",
       "      <td>0</td>\n",
       "      <td>1</td>\n",
       "      <td>1</td>\n",
       "      <td>1</td>\n",
       "      <td>3179</td>\n",
       "      <td>0</td>\n",
       "      <td>11.33</td>\n",
       "      <td>52</td>\n",
       "      <td>1</td>\n",
       "      <td>1</td>\n",
       "      <td>95.45</td>\n",
       "      <td>1752.55</td>\n",
       "      <td>45.61</td>\n",
       "      <td>0</td>\n",
       "      <td>203.94</td>\n",
       "      <td>1910.88</td>\n",
       "      <td>1</td>\n",
       "      <td>1</td>\n",
       "      <td>0</td>\n",
       "      <td>0</td>\n",
       "      <td>0</td>\n",
       "      <td>0</td>\n",
       "      <td>1</td>\n",
       "      <td>0</td>\n",
       "      <td>0</td>\n",
       "      <td>0</td>\n",
       "      <td>0</td>\n",
       "      <td>1</td>\n",
       "      <td>0</td>\n",
       "      <td>0</td>\n",
       "      <td>1</td>\n",
       "      <td>0</td>\n",
       "    </tr>\n",
       "    <tr>\n",
       "      <th>3</th>\n",
       "      <td>1</td>\n",
       "      <td>78</td>\n",
       "      <td>0</td>\n",
       "      <td>1</td>\n",
       "      <td>1</td>\n",
       "      <td>1</td>\n",
       "      <td>1</td>\n",
       "      <td>0</td>\n",
       "      <td>0</td>\n",
       "      <td>1</td>\n",
       "      <td>1</td>\n",
       "      <td>0</td>\n",
       "      <td>1</td>\n",
       "      <td>1</td>\n",
       "      <td>1</td>\n",
       "      <td>5337</td>\n",
       "      <td>1</td>\n",
       "      <td>19.76</td>\n",
       "      <td>12</td>\n",
       "      <td>0</td>\n",
       "      <td>1</td>\n",
       "      <td>98.50</td>\n",
       "      <td>2514.50</td>\n",
       "      <td>13.43</td>\n",
       "      <td>0</td>\n",
       "      <td>494.00</td>\n",
       "      <td>2995.07</td>\n",
       "      <td>1</td>\n",
       "      <td>1</td>\n",
       "      <td>0</td>\n",
       "      <td>0</td>\n",
       "      <td>0</td>\n",
       "      <td>0</td>\n",
       "      <td>1</td>\n",
       "      <td>0</td>\n",
       "      <td>0</td>\n",
       "      <td>0</td>\n",
       "      <td>1</td>\n",
       "      <td>0</td>\n",
       "      <td>0</td>\n",
       "      <td>0</td>\n",
       "      <td>1</td>\n",
       "      <td>0</td>\n",
       "    </tr>\n",
       "    <tr>\n",
       "      <th>4</th>\n",
       "      <td>1</td>\n",
       "      <td>80</td>\n",
       "      <td>0</td>\n",
       "      <td>1</td>\n",
       "      <td>1</td>\n",
       "      <td>1</td>\n",
       "      <td>1</td>\n",
       "      <td>1</td>\n",
       "      <td>0</td>\n",
       "      <td>0</td>\n",
       "      <td>0</td>\n",
       "      <td>0</td>\n",
       "      <td>0</td>\n",
       "      <td>0</td>\n",
       "      <td>1</td>\n",
       "      <td>2793</td>\n",
       "      <td>1</td>\n",
       "      <td>6.33</td>\n",
       "      <td>14</td>\n",
       "      <td>0</td>\n",
       "      <td>1</td>\n",
       "      <td>76.50</td>\n",
       "      <td>2868.15</td>\n",
       "      <td>0.00</td>\n",
       "      <td>0</td>\n",
       "      <td>234.21</td>\n",
       "      <td>3102.36</td>\n",
       "      <td>1</td>\n",
       "      <td>1</td>\n",
       "      <td>0</td>\n",
       "      <td>0</td>\n",
       "      <td>0</td>\n",
       "      <td>0</td>\n",
       "      <td>1</td>\n",
       "      <td>0</td>\n",
       "      <td>0</td>\n",
       "      <td>0</td>\n",
       "      <td>1</td>\n",
       "      <td>0</td>\n",
       "      <td>0</td>\n",
       "      <td>0</td>\n",
       "      <td>1</td>\n",
       "      <td>0</td>\n",
       "    </tr>\n",
       "  </tbody>\n",
       "</table>\n",
       "</div>"
      ],
      "text/plain": [
       "   gender  age  under_30  senior_citizen  married  number_of_dependents  \\\n",
       "0       0   78         0               1        0                     0   \n",
       "1       1   74         0               1        1                     1   \n",
       "2       0   71         0               1        0                     3   \n",
       "3       1   78         0               1        1                     1   \n",
       "4       1   80         0               1        1                     1   \n",
       "\n",
       "   phone_service  multiple_lines  online_security  online_backup  \\\n",
       "0              0               0                0              0   \n",
       "1              1               1                0              1   \n",
       "2              1               1                0              0   \n",
       "3              1               0                0              1   \n",
       "4              1               1                0              0   \n",
       "\n",
       "   device_protection  tech_support  streaming_tv  streaming_movies  \\\n",
       "0                  1             0             0                 1   \n",
       "1                  0             0             0                 0   \n",
       "2                  0             0             1                 1   \n",
       "3                  1             0             1                 1   \n",
       "4                  0             0             0                 0   \n",
       "\n",
       "   paperless_billing  cltv  number_of_referrals  \\\n",
       "0                  1  5433                    0   \n",
       "1                  1  5302                    1   \n",
       "2                  1  3179                    0   \n",
       "3                  1  5337                    1   \n",
       "4                  1  2793                    1   \n",
       "\n",
       "   avg_monthly_long_distance_charges  avg_monthly_gb_download  \\\n",
       "0                               0.00                        8   \n",
       "1                              48.85                       17   \n",
       "2                              11.33                       52   \n",
       "3                              19.76                       12   \n",
       "4                               6.33                       14   \n",
       "\n",
       "   streaming_music  unlimited_data  monthly_charge  total_charges  \\\n",
       "0                0               0           39.65          39.65   \n",
       "1                0               1           80.65         633.30   \n",
       "2                1               1           95.45        1752.55   \n",
       "3                0               1           98.50        2514.50   \n",
       "4                0               1           76.50        2868.15   \n",
       "\n",
       "   total_refunds  total_extra_data_charges  total_long_distance_charges  \\\n",
       "0           0.00                        20                         0.00   \n",
       "1           0.00                         0                       390.80   \n",
       "2          45.61                         0                       203.94   \n",
       "3          13.43                         0                       494.00   \n",
       "4           0.00                         0                       234.21   \n",
       "\n",
       "   total_revenue  customer_status  internet_service_Fiber optic  \\\n",
       "0          59.65                1                             0   \n",
       "1        1024.10                1                             1   \n",
       "2        1910.88                1                             1   \n",
       "3        2995.07                1                             1   \n",
       "4        3102.36                1                             1   \n",
       "\n",
       "   internet_service_No  contract_One year  contract_Two year  \\\n",
       "0                    0                  0                  0   \n",
       "1                    0                  0                  0   \n",
       "2                    0                  0                  0   \n",
       "3                    0                  0                  0   \n",
       "4                    0                  0                  0   \n",
       "\n",
       "   payment_method_Credit card (automatic)  payment_method_Electronic check  \\\n",
       "0                                       0                                1   \n",
       "1                                       1                                0   \n",
       "2                                       0                                1   \n",
       "3                                       0                                1   \n",
       "4                                       0                                1   \n",
       "\n",
       "   payment_method_Mailed check  offer_Offer A  offer_Offer B  offer_Offer C  \\\n",
       "0                            0              0              0              0   \n",
       "1                            0              0              0              0   \n",
       "2                            0              0              0              0   \n",
       "3                            0              0              0              1   \n",
       "4                            0              0              0              1   \n",
       "\n",
       "   offer_Offer D  offer_Offer E  cluster_minimalist  cluster_price_sensitive  \\\n",
       "0              0              0                   0                        0   \n",
       "1              0              1                   0                        1   \n",
       "2              1              0                   0                        1   \n",
       "3              0              0                   0                        1   \n",
       "4              0              0                   0                        1   \n",
       "\n",
       "   cluster_vanilla  \n",
       "0                1  \n",
       "1                0  \n",
       "2                0  \n",
       "3                0  \n",
       "4                0  "
      ]
     },
     "execution_count": 5,
     "metadata": {},
     "output_type": "execute_result"
    }
   ],
   "source": [
    "telco_dummies.head()"
   ]
  },
  {
   "cell_type": "markdown",
   "id": "54ca16a0",
   "metadata": {},
   "source": [
    "## Train Test Split"
   ]
  },
  {
   "cell_type": "code",
   "execution_count": 6,
   "id": "f47d0cca",
   "metadata": {},
   "outputs": [],
   "source": [
    "X = telco_dummies.drop(columns=['customer_status'])\n",
    "y = telco_dummies.customer_status"
   ]
  },
  {
   "cell_type": "code",
   "execution_count": 7,
   "id": "b25dc78c",
   "metadata": {},
   "outputs": [],
   "source": [
    "X_train, X_test, y_train, y_test = train_test_split(X, y,\n",
    "                                                   stratify = y, \n",
    "                                                    test_size=0.2,\n",
    "                                                   random_state=42)"
   ]
  },
  {
   "cell_type": "code",
   "execution_count": 8,
   "id": "2670e176",
   "metadata": {},
   "outputs": [
    {
     "data": {
      "text/plain": [
       "0    0.73463\n",
       "1    0.26537\n",
       "Name: customer_status, dtype: float64"
      ]
     },
     "execution_count": 8,
     "metadata": {},
     "output_type": "execute_result"
    }
   ],
   "source": [
    "y.value_counts(normalize=True)"
   ]
  },
  {
   "cell_type": "markdown",
   "id": "1ac6a426",
   "metadata": {},
   "source": [
    "## Logistic Regression with SMOTE"
   ]
  },
  {
   "cell_type": "code",
   "execution_count": 9,
   "id": "37e3ec3f",
   "metadata": {},
   "outputs": [
    {
     "name": "stdout",
     "output_type": "stream",
     "text": [
      "Training Accuracy: 0.78\n",
      "Testing Accuracy: 0.79\n",
      "\n",
      "\n"
     ]
    },
    {
     "data": {
      "text/plain": [
       "{'logreg__C': 0.01,\n",
       " 'logreg__class_weight': 'balanced',\n",
       " 'logreg__penalty': 'l2',\n",
       " 'logreg__solver': 'lbfgs'}"
      ]
     },
     "execution_count": 9,
     "metadata": {},
     "output_type": "execute_result"
    }
   ],
   "source": [
    "#Instantiate pipeline \n",
    "pipe = Pipeline([\n",
    "    ('ss' , StandardScaler()),\n",
    "    ('oversample', SMOTE(random_state=42)),\n",
    "    ('logreg', LogisticRegression(random_state=42, max_iter=10000))\n",
    "])\n",
    "\n",
    "#set pipe params\n",
    "pipe_params = {\n",
    "    'logreg__penalty' : ['l2'],\n",
    "    'logreg__solver' : ['lbfgs','liblinear'],\n",
    "    'logreg__C': np.logspace(-2, 1, 1),\n",
    "    'logreg__class_weight':[\"balanced\",]\n",
    "}\n",
    "\n",
    "#gridsearch\n",
    "gs = GridSearchCV(pipe, pipe_params,  cv=5,n_jobs=-1, scoring='accuracy')\n",
    "#fit model\n",
    "gs.fit(X_train, y_train)\n",
    "best_logreg = gs.best_estimator_\n",
    "\n",
    "print(f'Training Accuracy: {best_logreg.score(X_train, y_train):.2f}')\n",
    "print(f'Testing Accuracy: {best_logreg.score(X_test, y_test):.2f}')\n",
    "print('\\n')\n",
    "gs.best_params_"
   ]
  },
  {
   "cell_type": "code",
   "execution_count": 10,
   "id": "10caa804",
   "metadata": {},
   "outputs": [
    {
     "data": {
      "text/plain": [
       "0.7845225417110401"
      ]
     },
     "execution_count": 10,
     "metadata": {},
     "output_type": "execute_result"
    }
   ],
   "source": [
    "best_logreg.score(X_train, y_train)"
   ]
  },
  {
   "cell_type": "markdown",
   "id": "0bd47524",
   "metadata": {},
   "source": [
    "## Random Forests with SMOTE"
   ]
  },
  {
   "cell_type": "code",
   "execution_count": 11,
   "id": "474c8b65",
   "metadata": {},
   "outputs": [
    {
     "name": "stdout",
     "output_type": "stream",
     "text": [
      "Training Accuracy: 0.82\n",
      "Testing Accuracy: 0.80\n",
      "\n",
      "\n"
     ]
    },
    {
     "data": {
      "text/plain": [
       "{'rf__max_depth': 7, 'rf__n_estimators': 100}"
      ]
     },
     "execution_count": 11,
     "metadata": {},
     "output_type": "execute_result"
    }
   ],
   "source": [
    "#Instantiate pipeline \n",
    "pipe = Pipeline([\n",
    "    ('ss' , StandardScaler()),\n",
    "    ('oversample', SMOTE(random_state=42)),\n",
    "    ('rf', RandomForestClassifier(random_state=42))\n",
    "])\n",
    "\n",
    "#set pipe params\n",
    "pipe_params = {\n",
    "    'rf__n_estimators': [100, 150, 200],\n",
    "    'rf__max_depth': [5, 7],\n",
    "}\n",
    "\n",
    "#gridsearch\n",
    "gs = GridSearchCV(pipe, pipe_params,  cv=5, n_jobs=-1, scoring='accuracy')\n",
    "#fit model\n",
    "gs.fit(X_train, y_train)\n",
    "best_rf = gs.best_estimator_\n",
    "\n",
    "print(f'Training Accuracy: {best_rf.score(X_train, y_train):.2f}')\n",
    "print(f'Testing Accuracy: {best_rf.score(X_test, y_test):.2f}')\n",
    "print('\\n')\n",
    "gs.best_params_"
   ]
  },
  {
   "cell_type": "markdown",
   "id": "6026ad29",
   "metadata": {},
   "source": [
    "## SVM with SMOTE"
   ]
  },
  {
   "cell_type": "code",
   "execution_count": 12,
   "id": "876e6b71",
   "metadata": {},
   "outputs": [
    {
     "name": "stdout",
     "output_type": "stream",
     "text": [
      "Training Accuracy: 0.83\n",
      "Testing Accuracy:0.80\n",
      "\n",
      "\n"
     ]
    },
    {
     "data": {
      "text/plain": [
       "{'svc__C': 0.5, 'svc__kernel': 'rbf'}"
      ]
     },
     "execution_count": 12,
     "metadata": {},
     "output_type": "execute_result"
    }
   ],
   "source": [
    "#Instantiate pipeline \n",
    "pipe = Pipeline([\n",
    "    ('ss' , StandardScaler()),\n",
    "    ('oversample', SMOTE(random_state=42)),\n",
    "    ('svc', SVC(random_state=42))\n",
    "])\n",
    "\n",
    "#set pipe params\n",
    "pipe_params = {\n",
    "    'svc__kernel': ['rbf','poly'],\n",
    "    'svc__C': [0.01,0.1,0.5],\n",
    "}\n",
    "\n",
    "#gridsearch\n",
    "gs = GridSearchCV(pipe, pipe_params,  cv=5,n_jobs=-1, scoring='accuracy')\n",
    "#fit model\n",
    "gs.fit(X_train, y_train)\n",
    "best_svc = gs.best_estimator_\n",
    "\n",
    "print(f'Training Accuracy: {best_svc.score(X_train, y_train):.2f}')\n",
    "print(f'Testing Accuracy:{ best_svc.score(X_test, y_test):.2f}')\n",
    "print('\\n')\n",
    "gs.best_params_"
   ]
  },
  {
   "cell_type": "markdown",
   "id": "d65c7fd8",
   "metadata": {},
   "source": [
    "## Model Selection"
   ]
  },
  {
   "cell_type": "code",
   "execution_count": 13,
   "id": "ff5b8484",
   "metadata": {},
   "outputs": [
    {
     "data": {
      "text/html": [
       "<div>\n",
       "<style scoped>\n",
       "    .dataframe tbody tr th:only-of-type {\n",
       "        vertical-align: middle;\n",
       "    }\n",
       "\n",
       "    .dataframe tbody tr th {\n",
       "        vertical-align: top;\n",
       "    }\n",
       "\n",
       "    .dataframe thead th {\n",
       "        text-align: right;\n",
       "    }\n",
       "</style>\n",
       "<table border=\"1\" class=\"dataframe\">\n",
       "  <thead>\n",
       "    <tr style=\"text-align: right;\">\n",
       "      <th></th>\n",
       "      <th>Model</th>\n",
       "      <th>Training Accuracy</th>\n",
       "      <th>Test Accuracy</th>\n",
       "    </tr>\n",
       "  </thead>\n",
       "  <tbody>\n",
       "    <tr>\n",
       "      <th>0</th>\n",
       "      <td>Balanced Baseline</td>\n",
       "      <td>0.500</td>\n",
       "      <td>0.500</td>\n",
       "    </tr>\n",
       "    <tr>\n",
       "      <th>1</th>\n",
       "      <td>Logistic Regression</td>\n",
       "      <td>0.785</td>\n",
       "      <td>0.788</td>\n",
       "    </tr>\n",
       "    <tr>\n",
       "      <th>2</th>\n",
       "      <td>Random Forest</td>\n",
       "      <td>0.821</td>\n",
       "      <td>0.799</td>\n",
       "    </tr>\n",
       "    <tr>\n",
       "      <th>3</th>\n",
       "      <td>SVM</td>\n",
       "      <td>0.833</td>\n",
       "      <td>0.797</td>\n",
       "    </tr>\n",
       "  </tbody>\n",
       "</table>\n",
       "</div>"
      ],
      "text/plain": [
       "                 Model  Training Accuracy  Test Accuracy\n",
       "0    Balanced Baseline              0.500          0.500\n",
       "1  Logistic Regression              0.785          0.788\n",
       "2        Random Forest              0.821          0.799\n",
       "3                  SVM              0.833          0.797"
      ]
     },
     "execution_count": 13,
     "metadata": {},
     "output_type": "execute_result"
    }
   ],
   "source": [
    "#display result in dataframe\n",
    "model_df = pd.DataFrame({\n",
    "    'Model' :['Balanced Baseline','Logistic Regression','Random Forest', 'SVM'],\n",
    "    'Training Accuracy' : [0.5, best_logreg.score(X_train, y_train), best_rf.score(X_train, y_train), best_svc.score(X_train, y_train)],\n",
    "    'Test Accuracy' : [0.5 ,best_logreg.score(X_test, y_test), best_rf.score(X_test, y_test), best_svc.score(X_test, y_test)]\n",
    "})\n",
    "\n",
    "model_df[['Training Accuracy', 'Test Accuracy']] = model_df[['Training Accuracy', 'Test Accuracy']].round(3)\n",
    "model_df"
   ]
  },
  {
   "cell_type": "markdown",
   "id": "669758b6",
   "metadata": {},
   "source": [
    "## Neural Networks "
   ]
  },
  {
   "cell_type": "code",
   "execution_count": 15,
   "id": "b3884bd0",
   "metadata": {},
   "outputs": [],
   "source": [
    "ss = StandardScaler()\n",
    "X_train_sc = ss.fit_transform(X_train)\n",
    "X_test_sc = ss.transform(X_test)"
   ]
  },
  {
   "cell_type": "code",
   "execution_count": 18,
   "id": "0d31c5e9",
   "metadata": {},
   "outputs": [],
   "source": [
    "over = SMOTE(random_state=42)\n",
    "X_train_res, y_train_res = over.fit_resample(X_train_sc, y_train)"
   ]
  },
  {
   "cell_type": "code",
   "execution_count": 21,
   "id": "fe870f05",
   "metadata": {},
   "outputs": [
    {
     "name": "stdout",
     "output_type": "stream",
     "text": [
      "Epoch 1/80\n",
      "33/33 [==============================] - 1s 21ms/step - loss: 2.9330 - accuracy: 0.5118 - val_loss: 2.4994 - val_accuracy: 0.7197\n",
      "Epoch 2/80\n",
      "33/33 [==============================] - 0s 3ms/step - loss: 2.3837 - accuracy: 0.5668 - val_loss: 1.9832 - val_accuracy: 0.7523\n",
      "Epoch 3/80\n",
      "33/33 [==============================] - 0s 3ms/step - loss: 1.8993 - accuracy: 0.6769 - val_loss: 1.5208 - val_accuracy: 0.7502\n",
      "Epoch 4/80\n",
      "33/33 [==============================] - 0s 4ms/step - loss: 1.4760 - accuracy: 0.7429 - val_loss: 1.1779 - val_accuracy: 0.7566\n",
      "Epoch 5/80\n",
      "33/33 [==============================] - 0s 4ms/step - loss: 1.1516 - accuracy: 0.7675 - val_loss: 0.9253 - val_accuracy: 0.7630\n",
      "Epoch 6/80\n",
      "33/33 [==============================] - 0s 4ms/step - loss: 0.8949 - accuracy: 0.7921 - val_loss: 0.7514 - val_accuracy: 0.7544\n",
      "Epoch 7/80\n",
      "33/33 [==============================] - 0s 5ms/step - loss: 0.7147 - accuracy: 0.8064 - val_loss: 0.6172 - val_accuracy: 0.7764\n",
      "Epoch 8/80\n",
      "33/33 [==============================] - 0s 3ms/step - loss: 0.5902 - accuracy: 0.8156 - val_loss: 0.5444 - val_accuracy: 0.7679\n",
      "Epoch 9/80\n",
      "33/33 [==============================] - 0s 3ms/step - loss: 0.5346 - accuracy: 0.8120 - val_loss: 0.4813 - val_accuracy: 0.8091\n",
      "Epoch 10/80\n",
      "33/33 [==============================] - 0s 3ms/step - loss: 0.5086 - accuracy: 0.8178 - val_loss: 0.5238 - val_accuracy: 0.7757\n",
      "Epoch 11/80\n",
      "33/33 [==============================] - 0s 3ms/step - loss: 0.4970 - accuracy: 0.8180 - val_loss: 0.4640 - val_accuracy: 0.8105\n",
      "Epoch 12/80\n",
      "33/33 [==============================] - 0s 3ms/step - loss: 0.4784 - accuracy: 0.8172 - val_loss: 0.4814 - val_accuracy: 0.7807\n",
      "Epoch 13/80\n",
      "33/33 [==============================] - 0s 3ms/step - loss: 0.4720 - accuracy: 0.8236 - val_loss: 0.4960 - val_accuracy: 0.7729\n",
      "Epoch 14/80\n",
      "33/33 [==============================] - 0s 3ms/step - loss: 0.4660 - accuracy: 0.8288 - val_loss: 0.4805 - val_accuracy: 0.7857\n",
      "Epoch 15/80\n",
      "33/33 [==============================] - 0s 3ms/step - loss: 0.4546 - accuracy: 0.8192 - val_loss: 0.4677 - val_accuracy: 0.7977\n",
      "Epoch 16/80\n",
      "33/33 [==============================] - 0s 3ms/step - loss: 0.4519 - accuracy: 0.8328 - val_loss: 0.4487 - val_accuracy: 0.7956\n",
      "Epoch 17/80\n",
      "33/33 [==============================] - 0s 3ms/step - loss: 0.4538 - accuracy: 0.8220 - val_loss: 0.4520 - val_accuracy: 0.8027\n"
     ]
    }
   ],
   "source": [
    "model = Sequential()\n",
    "\n",
    "model.add(Dense(n_features, input_dim=n_features, activation='relu', kernel_regularizer='l1'))\n",
    "model.add(Dense(64, activation='relu'))\n",
    "model.add(Dropout(0.5))\n",
    "model.add(Dense(128, activation='relu'))\n",
    "model.add(Dropout(0.5))\n",
    "model.add(Dense(64, activation='relu'))\n",
    "model.add(Dropout(0.5))\n",
    "model.add(Dense(32, activation='relu'))\n",
    "model.add(Dropout(0.5))\n",
    "model.add(Dense(1, activation='sigmoid'))\n",
    "          \n",
    "model.compile(loss='binary_crossentropy', optimizer='adam', metrics=['accuracy'])\n",
    "early_stop = EarlyStopping(monitor='val_accuracy', min_delta=0.05, patience=10)\n",
    "\n",
    "hist = model.fit(X_train_res, y_train_res, validation_data=(X_test_sc, y_test), epochs=80, \n",
    "                 batch_size=256, callbacks=[early_stop])"
   ]
  },
  {
   "cell_type": "code",
   "execution_count": 22,
   "id": "5f343065",
   "metadata": {},
   "outputs": [
    {
     "data": {
      "image/png": "[encoded data removed]",
      "text/plain": [
       "<Figure size 864x576 with 1 Axes>"
      ]
     },
     "metadata": {
      "needs_background": "light"
     },
     "output_type": "display_data"
    }
   ],
   "source": [
    "plt.figure(figsize=(12, 8))\n",
    "plt.plot(hist.history['accuracy'], label='Train accuracy')\n",
    "plt.plot(hist.history['val_accuracy'], label='Val accuracy')\n",
    "# plt.plot(hist_es.history['accuracy'], label='Train ES accuracy')\n",
    "# plt.plot(hist_es.history['val_accuracy'], label='Val ES accuracy')\n",
    "plt.legend();"
   ]
  },
  {
   "cell_type": "code",
   "execution_count": 23,
   "id": "4330332c",
   "metadata": {
    "scrolled": true
   },
   "outputs": [
    {
     "name": "stdout",
     "output_type": "stream",
     "text": [
      "Train Accuracy: 0.819\n",
      "Test Accuracy: 0.803\n"
     ]
    }
   ],
   "source": [
    "nn_train_accuracy = model.evaluate(X_train_sc, y_train, verbose=0)[1]\n",
    "nn_test_accuracy = model.evaluate(X_test_sc, y_test, verbose=0)[1]\n",
    "print(f'Train Accuracy: {nn_train_accuracy:.3f}')\n",
    "print(f'Test Accuracy: {nn_test_accuracy:.3f}')"
   ]
  },
  {
   "cell_type": "code",
   "execution_count": 24,
   "id": "d555c826",
   "metadata": {},
   "outputs": [],
   "source": [
    "# train_loss = hist.history['loss']\n",
    "# test_loss = hist.history['val_loss']\n",
    "# # train_loss_es = hist_es.history['loss']\n",
    "# # test_loss_es = hist_es.history['val_loss']\n",
    "\n",
    "# plt.figure(figsize=(12, 8))\n",
    "# plt.plot(train_loss, label='Training loss', color='navy')\n",
    "# plt.plot(test_loss, label='Testing loss', color='skyblue')\n",
    "# # plt.plot(train_loss_es, label='ES Training loss', color='violet')\n",
    "# # plt.plot(test_loss_es, label='ES Testing loss', color='lavender')\n",
    "\n",
    "# plt.legend();"
   ]
  },
  {
   "cell_type": "code",
   "execution_count": 25,
   "id": "0d0d559b",
   "metadata": {},
   "outputs": [
    {
     "data": {
      "text/plain": [
       "0.0    915\n",
       "1.0    494\n",
       "dtype: int64"
      ]
     },
     "execution_count": 25,
     "metadata": {},
     "output_type": "execute_result"
    }
   ],
   "source": [
    "pd.Series([num[0].round() for num in model.predict(X_test_sc)]).value_counts()"
   ]
  },
  {
   "cell_type": "code",
   "execution_count": 26,
   "id": "86ee3e9d",
   "metadata": {},
   "outputs": [
    {
     "data": {
      "text/plain": [
       "0    1035\n",
       "1     374\n",
       "Name: customer_status, dtype: int64"
      ]
     },
     "execution_count": 26,
     "metadata": {},
     "output_type": "execute_result"
    }
   ],
   "source": [
    "y_test.value_counts()"
   ]
  },
  {
   "cell_type": "markdown",
   "id": "a2ab7e29",
   "metadata": {},
   "source": [
    "### Feature Importance"
   ]
  },
  {
   "cell_type": "code",
   "execution_count": 27,
   "id": "e2e1e373",
   "metadata": {},
   "outputs": [],
   "source": [
    "important_coef = pd.Series(best_rf.named_steps['rf'].coef_[0],X.columns)"
   ]
  },
  {
   "cell_type": "code",
   "execution_count": 28,
   "id": "967e6eb4",
   "metadata": {},
   "outputs": [
    {
     "data": {
      "text/plain": [
       "married                                   0.459433\n",
       "internet_service_Fiber optic              0.322433\n",
       "payment_method_Electronic check           0.194466\n",
       "paperless_billing                         0.174383\n",
       "monthly_charge                            0.141617\n",
       "offer_Offer E                             0.128635\n",
       "streaming_music                           0.117111\n",
       "offer_Offer A                             0.114284\n",
       "streaming_tv                              0.104710\n",
       "unlimited_data                            0.093892\n",
       "total_extra_data_charges                  0.072924\n",
       "avg_monthly_long_distance_charges         0.063293\n",
       "multiple_lines                            0.058867\n",
       "age                                       0.048711\n",
       "streaming_movies                          0.008444\n",
       "avg_monthly_gb_download                   0.005985\n",
       "senior_citizen                            0.003527\n",
       "payment_method_Mailed check              -0.008443\n",
       "gender                                   -0.017815\n",
       "cltv                                     -0.024678\n",
       "device_protection                        -0.024707\n",
       "payment_method_Credit card (automatic)   -0.040041\n",
       "cluster_price_sensitive                  -0.049197\n",
       "under_30                                 -0.049682\n",
       "offer_Offer B                            -0.062636\n",
       "phone_service                            -0.075769\n",
       "total_refunds                            -0.084708\n",
       "cluster_vanilla                          -0.090823\n",
       "offer_Offer C                            -0.119646\n",
       "total_long_distance_charges              -0.133614\n",
       "offer_Offer D                            -0.143213\n",
       "online_security                          -0.153268\n",
       "internet_service_No                      -0.153462\n",
       "cluster_minimalist                       -0.153836\n",
       "online_backup                            -0.163975\n",
       "tech_support                             -0.164317\n",
       "total_revenue                            -0.223871\n",
       "total_charges                            -0.234251\n",
       "contract_One year                        -0.338442\n",
       "number_of_dependents                     -0.482406\n",
       "contract_Two year                        -0.642108\n",
       "number_of_referrals                      -1.113063\n",
       "dtype: float64"
      ]
     },
     "execution_count": 28,
     "metadata": {},
     "output_type": "execute_result"
    }
   ],
   "source": [
    "important_coef.sort_values(ascending=False)"
   ]
  },
  {
   "cell_type": "code",
   "execution_count": 123,
   "id": "2ffda33d",
   "metadata": {},
   "outputs": [
    {
     "data": {
      "text/plain": [
       "senior_citizen                            0.003527\n",
       "avg_monthly_gb_download                   0.005985\n",
       "payment_method_Mailed check               0.008443\n",
       "streaming_movies                          0.008444\n",
       "gender                                    0.017815\n",
       "cltv                                      0.024678\n",
       "device_protection                         0.024707\n",
       "payment_method_Credit card (automatic)    0.040041\n",
       "age                                       0.048711\n",
       "cluster_price_sensitive                   0.049197\n",
       "under_30                                  0.049682\n",
       "multiple_lines                            0.058867\n",
       "offer_Offer B                             0.062636\n",
       "avg_monthly_long_distance_charges         0.063293\n",
       "total_extra_data_charges                  0.072924\n",
       "phone_service                             0.075769\n",
       "total_refunds                             0.084708\n",
       "cluster_vanilla                           0.090823\n",
       "unlimited_data                            0.093892\n",
       "streaming_tv                              0.104710\n",
       "offer_Offer A                             0.114284\n",
       "streaming_music                           0.117111\n",
       "offer_Offer C                             0.119646\n",
       "offer_Offer E                             0.128635\n",
       "total_long_distance_charges               0.133614\n",
       "monthly_charge                            0.141617\n",
       "offer_Offer D                             0.143213\n",
       "online_security                           0.153268\n",
       "internet_service_No                       0.153462\n",
       "cluster_minimalist                        0.153836\n",
       "online_backup                             0.163975\n",
       "tech_support                              0.164317\n",
       "paperless_billing                         0.174383\n",
       "payment_method_Electronic check           0.194466\n",
       "total_revenue                             0.223871\n",
       "total_charges                             0.234251\n",
       "internet_service_Fiber optic              0.322433\n",
       "contract_One year                         0.338442\n",
       "married                                   0.459433\n",
       "number_of_dependents                      0.482406\n",
       "contract_Two year                         0.642108\n",
       "number_of_referrals                       1.113063\n",
       "dtype: float64"
      ]
     },
     "execution_count": 123,
     "metadata": {},
     "output_type": "execute_result"
    }
   ],
   "source": [
    "important_coef.abs().sort_values()"
   ]
  },
  {
   "cell_type": "markdown",
   "id": "13750d1d",
   "metadata": {},
   "source": [
    "## Feature selection important cols  without standard scaler"
   ]
  },
  {
   "cell_type": "markdown",
   "id": "af407200",
   "metadata": {},
   "source": [
    "indication satisfaction score.,check cluster importance"
   ]
  },
  {
   "cell_type": "code",
   "execution_count": 29,
   "id": "ca6698d5",
   "metadata": {},
   "outputs": [],
   "source": [
    "important_cols = important_coef.abs().sort_values().tail(20).index"
   ]
  },
  {
   "cell_type": "code",
   "execution_count": 30,
   "id": "236fe1a0",
   "metadata": {},
   "outputs": [],
   "source": [
    "X_imp = telco_dummies[important_cols]\n",
    "y_imp = telco_dummies.customer_status"
   ]
  },
  {
   "cell_type": "code",
   "execution_count": 31,
   "id": "2a6ac84a",
   "metadata": {},
   "outputs": [],
   "source": [
    "X_imp_train, X_imp_test, y_imp_train, y_imp_test = train_test_split(X_imp, y_imp,\n",
    "                                                   stratify = y_imp, \n",
    "                                                    test_size=0.2,\n",
    "                                                   random_state=42)"
   ]
  },
  {
   "cell_type": "code",
   "execution_count": 34,
   "id": "c45c15b9",
   "metadata": {},
   "outputs": [
    {
     "name": "stdout",
     "output_type": "stream",
     "text": [
      "Training Accuracy: 0.78\n",
      "Testing Accuracy: 0.78\n",
      "\n",
      "\n"
     ]
    },
    {
     "data": {
      "text/plain": [
       "{'logreg__C': 0.01,\n",
       " 'logreg__class_weight': 'balanced',\n",
       " 'logreg__penalty': 'l2',\n",
       " 'logreg__solver': 'liblinear'}"
      ]
     },
     "execution_count": 34,
     "metadata": {},
     "output_type": "execute_result"
    }
   ],
   "source": [
    "#Instantiate pipeline \n",
    "pipe = Pipeline([\n",
    "    ('oversample', SMOTE(random_state=42)),\n",
    "    ('logreg', LogisticRegression(random_state=42, max_iter=10000))\n",
    "])\n",
    "\n",
    "#set pipe params\n",
    "pipe_params = {\n",
    "    'logreg__penalty' : ['l2'],\n",
    "    'logreg__solver' : ['liblinear'],\n",
    "    'logreg__C': np.logspace(-2, 1, 1),\n",
    "    'logreg__class_weight':[\"balanced\",]\n",
    "}\n",
    "\n",
    "#gridsearch\n",
    "gs = GridSearchCV(pipe, pipe_params,  cv=5,n_jobs=-1, scoring='accuracy')\n",
    "#fit model\n",
    "gs.fit(X_imp_train, y_imp_train)\n",
    "best_logreg = gs.best_estimator_\n",
    "\n",
    "print(f'Training Accuracy: {best_logreg.score(X_imp_train, y_imp_train):.2f}')\n",
    "print(f'Testing Accuracy: {best_logreg.score(X_imp_test, y_imp_test):.2f}')\n",
    "print('\\n')\n",
    "gs.best_params_"
   ]
  },
  {
   "cell_type": "code",
   "execution_count": 35,
   "id": "23033712",
   "metadata": {
    "scrolled": false
   },
   "outputs": [
    {
     "data": {
      "text/plain": [
       "tech_support                       0.454427\n",
       "online_security                    0.490719\n",
       "contract_Two year                  0.526389\n",
       "contract_One year                  0.530054\n",
       "online_backup                      0.579523\n",
       "number_of_dependents               0.610858\n",
       "number_of_referrals                0.680360\n",
       "offer_Offer D                      0.689468\n",
       "cluster_minimalist                 0.696275\n",
       "internet_service_No                0.696337\n",
       "offer_Offer C                      0.778335\n",
       "paperless_billing                  0.952879\n",
       "payment_method_Electronic check    0.977241\n",
       "total_long_distance_charges        0.997185\n",
       "total_charges                      0.997194\n",
       "total_revenue                      1.002592\n",
       "offer_Offer E                      1.009778\n",
       "monthly_charge                     1.030428\n",
       "internet_service_Fiber optic       1.166515\n",
       "married                            1.250999\n",
       "dtype: float64"
      ]
     },
     "execution_count": 35,
     "metadata": {},
     "output_type": "execute_result"
    }
   ],
   "source": [
    "pd.Series(np.exp(best_logreg.named_steps['logreg'].coef_[0]),X_imp.columns).sort_values()"
   ]
  },
  {
   "cell_type": "markdown",
   "id": "af3165e4",
   "metadata": {},
   "source": [
    "internet service is 1.76 more likely to churn. satisfaction score is 0.3 more likely to stay (less likely to churn)"
   ]
  },
  {
   "cell_type": "markdown",
   "id": "0984239f",
   "metadata": {},
   "source": [
    "## Model Prediction "
   ]
  },
  {
   "cell_type": "code",
   "execution_count": 36,
   "id": "62bcc679",
   "metadata": {},
   "outputs": [],
   "source": [
    "X_sc = StandardScaler().fit_transform(X)"
   ]
  },
  {
   "cell_type": "code",
   "execution_count": 37,
   "id": "6559bd60",
   "metadata": {},
   "outputs": [],
   "source": [
    "best_model = best_rf.named_steps['rf']"
   ]
  },
  {
   "cell_type": "code",
   "execution_count": 124,
   "id": "596edb08",
   "metadata": {},
   "outputs": [],
   "source": [
    "#churn prob\n",
    "y_preds = best_model.predict(X_sc)\n",
    "y_preds = pd.DataFrame(y_preds)[0]\n",
    "y_preds = y_preds >= 0.5"
   ]
  },
  {
   "cell_type": "code",
   "execution_count": 125,
   "id": "a7d64988",
   "metadata": {
    "scrolled": true
   },
   "outputs": [
    {
     "data": {
      "text/html": [
       "<div>\n",
       "<style scoped>\n",
       "    .dataframe tbody tr th:only-of-type {\n",
       "        vertical-align: middle;\n",
       "    }\n",
       "\n",
       "    .dataframe tbody tr th {\n",
       "        vertical-align: top;\n",
       "    }\n",
       "\n",
       "    .dataframe thead th {\n",
       "        text-align: right;\n",
       "    }\n",
       "</style>\n",
       "<table border=\"1\" class=\"dataframe\">\n",
       "  <thead>\n",
       "    <tr style=\"text-align: right;\">\n",
       "      <th></th>\n",
       "      <th>true_values</th>\n",
       "      <th>preds_value</th>\n",
       "    </tr>\n",
       "  </thead>\n",
       "  <tbody>\n",
       "    <tr>\n",
       "      <th>0</th>\n",
       "      <td>1</td>\n",
       "      <td>1</td>\n",
       "    </tr>\n",
       "    <tr>\n",
       "      <th>1</th>\n",
       "      <td>1</td>\n",
       "      <td>1</td>\n",
       "    </tr>\n",
       "    <tr>\n",
       "      <th>2</th>\n",
       "      <td>1</td>\n",
       "      <td>1</td>\n",
       "    </tr>\n",
       "    <tr>\n",
       "      <th>3</th>\n",
       "      <td>1</td>\n",
       "      <td>1</td>\n",
       "    </tr>\n",
       "    <tr>\n",
       "      <th>4</th>\n",
       "      <td>1</td>\n",
       "      <td>1</td>\n",
       "    </tr>\n",
       "  </tbody>\n",
       "</table>\n",
       "</div>"
      ],
      "text/plain": [
       "   true_values  preds_value\n",
       "0            1            1\n",
       "1            1            1\n",
       "2            1            1\n",
       "3            1            1\n",
       "4            1            1"
      ]
     },
     "execution_count": 125,
     "metadata": {},
     "output_type": "execute_result"
    }
   ],
   "source": [
    "#compare ytest and prediction\n",
    "pred_df = pd.merge(y, pd.DataFrame(y_preds.astype(int)), left_index=True, right_index=True)\n",
    "pred_df = pred_df.rename(columns={'customer_status':'true_values',0:'preds_value'})\n",
    "pred_df.head()"
   ]
  },
  {
   "cell_type": "markdown",
   "id": "9e71c8ea",
   "metadata": {},
   "source": [
    "## Confusion Matrix"
   ]
  },
  {
   "cell_type": "code",
   "execution_count": 126,
   "id": "77f29444",
   "metadata": {},
   "outputs": [],
   "source": [
    "cm = confusion_matrix(y, y_preds)"
   ]
  },
  {
   "cell_type": "code",
   "execution_count": 127,
   "id": "8a7f8b82",
   "metadata": {},
   "outputs": [],
   "source": [
    "tn,fp,fn,tp = cm.ravel()"
   ]
  },
  {
   "cell_type": "code",
   "execution_count": 128,
   "id": "bc3edcd5",
   "metadata": {},
   "outputs": [
    {
     "name": "stdout",
     "output_type": "stream",
     "text": [
      "True Negatives: 3870\n",
      "False Positives: 1304\n",
      "False Negatives: 231\n",
      "True Positives: 1638\n"
     ]
    }
   ],
   "source": [
    "print(f'True Negatives: {tn}') #predict stay and stayed\n",
    "print(f'False Positives: {fp}') #predict churn but stayed\n",
    "print(f'False Negatives: {fn}') #predict stay but churn\n",
    "print(f'True Positives: {tp}') #predict churn and churned"
   ]
  },
  {
   "cell_type": "code",
   "execution_count": 129,
   "id": "6be66a48",
   "metadata": {},
   "outputs": [
    {
     "data": {
      "image/png": "[encoded data removed]",
      "text/plain": [
       "<Figure size 576x576 with 2 Axes>"
      ]
     },
     "metadata": {
      "needs_background": "light"
     },
     "output_type": "display_data"
    }
   ],
   "source": [
    "plt.figure(figsize=(8,8))\n",
    "sns.heatmap(cm, annot=True, fmt=\"d\", cmap='Blues',square=True, cbar_kws={'shrink':0.5})\n",
    "plt.title('Confusion Matrix')\n",
    "plt.ylabel('Actual Churn')\n",
    "plt.xlabel('Predicted Churn')\n",
    "# plt.savefig('../images/confusion_matrix.png')\n",
    "\n",
    "plt.show()"
   ]
  },
  {
   "cell_type": "code",
   "execution_count": 130,
   "id": "a0d3101e",
   "metadata": {},
   "outputs": [
    {
     "name": "stdout",
     "output_type": "stream",
     "text": [
      "Sensitivity:  0.88\n",
      "Specificity:  0.75\n",
      "Precision: 0.56\n",
      "Accuracy:  0.78\n",
      "Misclassification:  0.22\n"
     ]
    }
   ],
   "source": [
    "sensitivity = tp / (tp + fn)\n",
    "specificity = tn / (tn + fp)\n",
    "precision = tp / (fp + tp) \n",
    "\n",
    "print(\"Sensitivity: \", round(sensitivity,2))\n",
    "print(\"Specificity: \", round(specificity,2))\n",
    "print(\"Precision:\", round(precision ,2))\n",
    "print(\"Accuracy: \", round((tn + tp) / (tn + fp + tp + fn),2))\n",
    "print(\"Misclassification: \", round((1-(tn + tp) / (tn + fp + tp + fn)),2))"
   ]
  },
  {
   "cell_type": "markdown",
   "id": "26e56524",
   "metadata": {},
   "source": [
    "## ROC AUC"
   ]
  },
  {
   "cell_type": "code",
   "execution_count": 131,
   "id": "15b69d62",
   "metadata": {},
   "outputs": [
    {
     "name": "stdout",
     "output_type": "stream",
     "text": [
      "True Positive Rate:  0.88\n",
      "True Negative Rate (False Positive Rate) 0.25\n"
     ]
    }
   ],
   "source": [
    "#calculate TPR and TNR\n",
    "TPR = sensitivity\n",
    "print(\"True Positive Rate: \", round(TPR,2))\n",
    "TNR = 1 - specificity\n",
    "print(\"True Negative Rate (False Positive Rate)\", round(TNR,2))"
   ]
  },
  {
   "cell_type": "code",
   "execution_count": 132,
   "id": "43c2be4b",
   "metadata": {
    "scrolled": false
   },
   "outputs": [
    {
     "data": {
      "image/png": "[encoded data removed]",
      "text/plain": [
       "<Figure size 1080x720 with 1 Axes>"
      ]
     },
     "metadata": {
      "needs_background": "light"
     },
     "output_type": "display_data"
    }
   ],
   "source": [
    "#plot ROC AUC curve for RF model\n",
    "fig, ax = plt.subplots(figsize=(15, 10))\n",
    "plot_roc_curve(best_model,X,y,ax=ax)\n",
    "plt.plot([0,1],[0,1], color='tab:orange', linestyle='--', label='Baseline')\n",
    "\n",
    "plt.title('ROC AUC Curve - Random Forest + SMOTE Model')\n",
    "plt.legend()\n",
    "# plt.savefig('../images/ROC_AUC.png')\n",
    "plt.show()"
   ]
  },
  {
   "cell_type": "code",
   "execution_count": null,
   "id": "b7375cc3",
   "metadata": {},
   "outputs": [],
   "source": [
    "#focus is reduce FPR, "
   ]
  },
  {
   "cell_type": "code",
   "execution_count": null,
   "id": "80374fcb",
   "metadata": {},
   "outputs": [],
   "source": []
  },
  {
   "cell_type": "code",
   "execution_count": null,
   "id": "3c257ef3",
   "metadata": {},
   "outputs": [],
   "source": [
    "#whether false positive is a prealert"
   ]
  },
  {
   "cell_type": "code",
   "execution_count": null,
   "id": "4d3c7431",
   "metadata": {},
   "outputs": [],
   "source": []
  },
  {
   "cell_type": "markdown",
   "id": "947d18c0",
   "metadata": {},
   "source": [
    "### Checking False Negative Classification to learn from and implement for false positive customer"
   ]
  },
  {
   "cell_type": "code",
   "execution_count": 69,
   "id": "f793485d",
   "metadata": {},
   "outputs": [
    {
     "data": {
      "text/html": [
       "<div>\n",
       "<style scoped>\n",
       "    .dataframe tbody tr th:only-of-type {\n",
       "        vertical-align: middle;\n",
       "    }\n",
       "\n",
       "    .dataframe tbody tr th {\n",
       "        vertical-align: top;\n",
       "    }\n",
       "\n",
       "    .dataframe thead th {\n",
       "        text-align: right;\n",
       "    }\n",
       "</style>\n",
       "<table border=\"1\" class=\"dataframe\">\n",
       "  <thead>\n",
       "    <tr style=\"text-align: right;\">\n",
       "      <th></th>\n",
       "      <th>true_values</th>\n",
       "      <th>preds_value</th>\n",
       "    </tr>\n",
       "  </thead>\n",
       "  <tbody>\n",
       "    <tr>\n",
       "      <th>7</th>\n",
       "      <td>1</td>\n",
       "      <td>0</td>\n",
       "    </tr>\n",
       "    <tr>\n",
       "      <th>21</th>\n",
       "      <td>1</td>\n",
       "      <td>0</td>\n",
       "    </tr>\n",
       "    <tr>\n",
       "      <th>25</th>\n",
       "      <td>1</td>\n",
       "      <td>0</td>\n",
       "    </tr>\n",
       "    <tr>\n",
       "      <th>35</th>\n",
       "      <td>1</td>\n",
       "      <td>0</td>\n",
       "    </tr>\n",
       "    <tr>\n",
       "      <th>36</th>\n",
       "      <td>1</td>\n",
       "      <td>0</td>\n",
       "    </tr>\n",
       "    <tr>\n",
       "      <th>...</th>\n",
       "      <td>...</td>\n",
       "      <td>...</td>\n",
       "    </tr>\n",
       "    <tr>\n",
       "      <th>2487</th>\n",
       "      <td>1</td>\n",
       "      <td>0</td>\n",
       "    </tr>\n",
       "    <tr>\n",
       "      <th>2501</th>\n",
       "      <td>1</td>\n",
       "      <td>0</td>\n",
       "    </tr>\n",
       "    <tr>\n",
       "      <th>2506</th>\n",
       "      <td>1</td>\n",
       "      <td>0</td>\n",
       "    </tr>\n",
       "    <tr>\n",
       "      <th>2525</th>\n",
       "      <td>1</td>\n",
       "      <td>0</td>\n",
       "    </tr>\n",
       "    <tr>\n",
       "      <th>2534</th>\n",
       "      <td>1</td>\n",
       "      <td>0</td>\n",
       "    </tr>\n",
       "  </tbody>\n",
       "</table>\n",
       "<p>231 rows × 2 columns</p>\n",
       "</div>"
      ],
      "text/plain": [
       "      true_values  preds_value\n",
       "7               1            0\n",
       "21              1            0\n",
       "25              1            0\n",
       "35              1            0\n",
       "36              1            0\n",
       "...           ...          ...\n",
       "2487            1            0\n",
       "2501            1            0\n",
       "2506            1            0\n",
       "2525            1            0\n",
       "2534            1            0\n",
       "\n",
       "[231 rows x 2 columns]"
      ]
     },
     "execution_count": 69,
     "metadata": {},
     "output_type": "execute_result"
    }
   ],
   "source": [
    "#predicted to stay but churned\n",
    "miss_cust = pred_df[(pred_df.true_values == 1) & (pred_df.preds_value == 0)]\n",
    "miss_cust"
   ]
  },
  {
   "cell_type": "code",
   "execution_count": 89,
   "id": "2bead1f0",
   "metadata": {},
   "outputs": [],
   "source": [
    "miss_df = telco_final.loc[miss_cust.index]"
   ]
  },
  {
   "cell_type": "code",
   "execution_count": 92,
   "id": "9b54701a",
   "metadata": {},
   "outputs": [
    {
     "data": {
      "text/html": [
       "<div>\n",
       "<style scoped>\n",
       "    .dataframe tbody tr th:only-of-type {\n",
       "        vertical-align: middle;\n",
       "    }\n",
       "\n",
       "    .dataframe tbody tr th {\n",
       "        vertical-align: top;\n",
       "    }\n",
       "\n",
       "    .dataframe thead th {\n",
       "        text-align: right;\n",
       "    }\n",
       "</style>\n",
       "<table border=\"1\" class=\"dataframe\">\n",
       "  <thead>\n",
       "    <tr style=\"text-align: right;\">\n",
       "      <th></th>\n",
       "      <th>gender</th>\n",
       "      <th>age</th>\n",
       "      <th>under_30</th>\n",
       "      <th>senior_citizen</th>\n",
       "      <th>married</th>\n",
       "      <th>dependents</th>\n",
       "      <th>number_of_dependents</th>\n",
       "      <th>city</th>\n",
       "      <th>tenure_months</th>\n",
       "      <th>phone_service</th>\n",
       "      <th>multiple_lines</th>\n",
       "      <th>internet_service</th>\n",
       "      <th>online_security</th>\n",
       "      <th>online_backup</th>\n",
       "      <th>device_protection</th>\n",
       "      <th>tech_support</th>\n",
       "      <th>streaming_tv</th>\n",
       "      <th>streaming_movies</th>\n",
       "      <th>contract</th>\n",
       "      <th>paperless_billing</th>\n",
       "      <th>payment_method</th>\n",
       "      <th>churn_value</th>\n",
       "      <th>churn_score</th>\n",
       "      <th>cltv</th>\n",
       "      <th>churn_reason</th>\n",
       "      <th>referred_a_friend</th>\n",
       "      <th>number_of_referrals</th>\n",
       "      <th>offer</th>\n",
       "      <th>avg_monthly_long_distance_charges</th>\n",
       "      <th>internet_type</th>\n",
       "      <th>avg_monthly_gb_download</th>\n",
       "      <th>streaming_music</th>\n",
       "      <th>unlimited_data</th>\n",
       "      <th>monthly_charge</th>\n",
       "      <th>total_charges</th>\n",
       "      <th>total_refunds</th>\n",
       "      <th>total_extra_data_charges</th>\n",
       "      <th>total_long_distance_charges</th>\n",
       "      <th>total_revenue</th>\n",
       "      <th>satisfaction_score</th>\n",
       "      <th>customer_status</th>\n",
       "      <th>churn_category</th>\n",
       "      <th>pop_density</th>\n",
       "      <th>new_user</th>\n",
       "      <th>cluster</th>\n",
       "    </tr>\n",
       "  </thead>\n",
       "  <tbody>\n",
       "    <tr>\n",
       "      <th>7</th>\n",
       "      <td>0</td>\n",
       "      <td>66</td>\n",
       "      <td>0</td>\n",
       "      <td>1</td>\n",
       "      <td>1</td>\n",
       "      <td>0</td>\n",
       "      <td>0</td>\n",
       "      <td>Sierra Madre</td>\n",
       "      <td>58</td>\n",
       "      <td>0</td>\n",
       "      <td>0</td>\n",
       "      <td>DSL</td>\n",
       "      <td>0</td>\n",
       "      <td>1</td>\n",
       "      <td>1</td>\n",
       "      <td>0</td>\n",
       "      <td>0</td>\n",
       "      <td>1</td>\n",
       "      <td>Month-to-month</td>\n",
       "      <td>1</td>\n",
       "      <td>Electronic check</td>\n",
       "      <td>1</td>\n",
       "      <td>100</td>\n",
       "      <td>5444</td>\n",
       "      <td>Service dissatisfaction</td>\n",
       "      <td>1</td>\n",
       "      <td>6</td>\n",
       "      <td>Offer B</td>\n",
       "      <td>0.00</td>\n",
       "      <td>DSL</td>\n",
       "      <td>24</td>\n",
       "      <td>0</td>\n",
       "      <td>1</td>\n",
       "      <td>45.30</td>\n",
       "      <td>2651.20</td>\n",
       "      <td>40.95</td>\n",
       "      <td>0</td>\n",
       "      <td>0.00</td>\n",
       "      <td>2610.25</td>\n",
       "      <td>1</td>\n",
       "      <td>1</td>\n",
       "      <td>Dissatisfaction</td>\n",
       "      <td>3698</td>\n",
       "      <td>0</td>\n",
       "      <td>vanilla</td>\n",
       "    </tr>\n",
       "    <tr>\n",
       "      <th>21</th>\n",
       "      <td>1</td>\n",
       "      <td>70</td>\n",
       "      <td>0</td>\n",
       "      <td>1</td>\n",
       "      <td>0</td>\n",
       "      <td>0</td>\n",
       "      <td>0</td>\n",
       "      <td>El Cajon</td>\n",
       "      <td>54</td>\n",
       "      <td>1</td>\n",
       "      <td>1</td>\n",
       "      <td>DSL</td>\n",
       "      <td>1</td>\n",
       "      <td>1</td>\n",
       "      <td>0</td>\n",
       "      <td>1</td>\n",
       "      <td>1</td>\n",
       "      <td>1</td>\n",
       "      <td>One year</td>\n",
       "      <td>0</td>\n",
       "      <td>Bank transfer (automatic)</td>\n",
       "      <td>1</td>\n",
       "      <td>83</td>\n",
       "      <td>4149</td>\n",
       "      <td>Long distance charges</td>\n",
       "      <td>0</td>\n",
       "      <td>0</td>\n",
       "      <td>Offer B</td>\n",
       "      <td>12.08</td>\n",
       "      <td>DSL</td>\n",
       "      <td>5</td>\n",
       "      <td>1</td>\n",
       "      <td>1</td>\n",
       "      <td>82.45</td>\n",
       "      <td>4350.10</td>\n",
       "      <td>0.00</td>\n",
       "      <td>0</td>\n",
       "      <td>652.32</td>\n",
       "      <td>5002.42</td>\n",
       "      <td>1</td>\n",
       "      <td>1</td>\n",
       "      <td>Competitor</td>\n",
       "      <td>5188</td>\n",
       "      <td>0</td>\n",
       "      <td>heavyweight</td>\n",
       "    </tr>\n",
       "    <tr>\n",
       "      <th>25</th>\n",
       "      <td>0</td>\n",
       "      <td>79</td>\n",
       "      <td>0</td>\n",
       "      <td>1</td>\n",
       "      <td>1</td>\n",
       "      <td>0</td>\n",
       "      <td>0</td>\n",
       "      <td>Indian Wells</td>\n",
       "      <td>11</td>\n",
       "      <td>1</td>\n",
       "      <td>0</td>\n",
       "      <td>No</td>\n",
       "      <td>0</td>\n",
       "      <td>0</td>\n",
       "      <td>0</td>\n",
       "      <td>0</td>\n",
       "      <td>0</td>\n",
       "      <td>0</td>\n",
       "      <td>Month-to-month</td>\n",
       "      <td>0</td>\n",
       "      <td>Mailed check</td>\n",
       "      <td>1</td>\n",
       "      <td>80</td>\n",
       "      <td>5888</td>\n",
       "      <td>Limited range of services</td>\n",
       "      <td>1</td>\n",
       "      <td>1</td>\n",
       "      <td>None</td>\n",
       "      <td>29.54</td>\n",
       "      <td>None</td>\n",
       "      <td>0</td>\n",
       "      <td>0</td>\n",
       "      <td>0</td>\n",
       "      <td>19.95</td>\n",
       "      <td>214.75</td>\n",
       "      <td>0.00</td>\n",
       "      <td>0</td>\n",
       "      <td>324.94</td>\n",
       "      <td>539.69</td>\n",
       "      <td>1</td>\n",
       "      <td>1</td>\n",
       "      <td>Competitor</td>\n",
       "      <td>358</td>\n",
       "      <td>0</td>\n",
       "      <td>minimalist</td>\n",
       "    </tr>\n",
       "    <tr>\n",
       "      <th>35</th>\n",
       "      <td>1</td>\n",
       "      <td>78</td>\n",
       "      <td>0</td>\n",
       "      <td>1</td>\n",
       "      <td>1</td>\n",
       "      <td>0</td>\n",
       "      <td>0</td>\n",
       "      <td>Yorba Linda</td>\n",
       "      <td>65</td>\n",
       "      <td>1</td>\n",
       "      <td>1</td>\n",
       "      <td>Fiber optic</td>\n",
       "      <td>1</td>\n",
       "      <td>0</td>\n",
       "      <td>1</td>\n",
       "      <td>0</td>\n",
       "      <td>1</td>\n",
       "      <td>1</td>\n",
       "      <td>Month-to-month</td>\n",
       "      <td>0</td>\n",
       "      <td>Bank transfer (automatic)</td>\n",
       "      <td>1</td>\n",
       "      <td>91</td>\n",
       "      <td>4196</td>\n",
       "      <td>Competitor offered higher download speeds</td>\n",
       "      <td>1</td>\n",
       "      <td>3</td>\n",
       "      <td>Offer B</td>\n",
       "      <td>18.39</td>\n",
       "      <td>Fiber Optic</td>\n",
       "      <td>28</td>\n",
       "      <td>0</td>\n",
       "      <td>1</td>\n",
       "      <td>105.25</td>\n",
       "      <td>6786.40</td>\n",
       "      <td>0.00</td>\n",
       "      <td>0</td>\n",
       "      <td>1195.35</td>\n",
       "      <td>7981.75</td>\n",
       "      <td>1</td>\n",
       "      <td>1</td>\n",
       "      <td>Attitude</td>\n",
       "      <td>2226</td>\n",
       "      <td>0</td>\n",
       "      <td>heavyweight</td>\n",
       "    </tr>\n",
       "    <tr>\n",
       "      <th>36</th>\n",
       "      <td>0</td>\n",
       "      <td>75</td>\n",
       "      <td>0</td>\n",
       "      <td>1</td>\n",
       "      <td>1</td>\n",
       "      <td>0</td>\n",
       "      <td>0</td>\n",
       "      <td>Summerland</td>\n",
       "      <td>49</td>\n",
       "      <td>1</td>\n",
       "      <td>1</td>\n",
       "      <td>Fiber optic</td>\n",
       "      <td>0</td>\n",
       "      <td>1</td>\n",
       "      <td>0</td>\n",
       "      <td>0</td>\n",
       "      <td>0</td>\n",
       "      <td>1</td>\n",
       "      <td>Month-to-month</td>\n",
       "      <td>0</td>\n",
       "      <td>Credit card (automatic)</td>\n",
       "      <td>1</td>\n",
       "      <td>96</td>\n",
       "      <td>5059</td>\n",
       "      <td>Competitor made better offer</td>\n",
       "      <td>1</td>\n",
       "      <td>3</td>\n",
       "      <td>Offer B</td>\n",
       "      <td>22.92</td>\n",
       "      <td>Fiber Optic</td>\n",
       "      <td>14</td>\n",
       "      <td>0</td>\n",
       "      <td>1</td>\n",
       "      <td>90.05</td>\n",
       "      <td>4547.25</td>\n",
       "      <td>0.00</td>\n",
       "      <td>0</td>\n",
       "      <td>1123.08</td>\n",
       "      <td>5670.33</td>\n",
       "      <td>2</td>\n",
       "      <td>1</td>\n",
       "      <td>Competitor</td>\n",
       "      <td>1519</td>\n",
       "      <td>0</td>\n",
       "      <td>heavyweight</td>\n",
       "    </tr>\n",
       "  </tbody>\n",
       "</table>\n",
       "</div>"
      ],
      "text/plain": [
       "    gender  age  under_30  senior_citizen  married  dependents  \\\n",
       "7        0   66         0               1        1           0   \n",
       "21       1   70         0               1        0           0   \n",
       "25       0   79         0               1        1           0   \n",
       "35       1   78         0               1        1           0   \n",
       "36       0   75         0               1        1           0   \n",
       "\n",
       "    number_of_dependents          city  tenure_months  phone_service  \\\n",
       "7                      0  Sierra Madre             58              0   \n",
       "21                     0      El Cajon             54              1   \n",
       "25                     0  Indian Wells             11              1   \n",
       "35                     0   Yorba Linda             65              1   \n",
       "36                     0    Summerland             49              1   \n",
       "\n",
       "    multiple_lines internet_service  online_security  online_backup  \\\n",
       "7                0              DSL                0              1   \n",
       "21               1              DSL                1              1   \n",
       "25               0               No                0              0   \n",
       "35               1      Fiber optic                1              0   \n",
       "36               1      Fiber optic                0              1   \n",
       "\n",
       "    device_protection  tech_support  streaming_tv  streaming_movies  \\\n",
       "7                   1             0             0                 1   \n",
       "21                  0             1             1                 1   \n",
       "25                  0             0             0                 0   \n",
       "35                  1             0             1                 1   \n",
       "36                  0             0             0                 1   \n",
       "\n",
       "          contract  paperless_billing             payment_method  churn_value  \\\n",
       "7   Month-to-month                  1           Electronic check            1   \n",
       "21        One year                  0  Bank transfer (automatic)            1   \n",
       "25  Month-to-month                  0               Mailed check            1   \n",
       "35  Month-to-month                  0  Bank transfer (automatic)            1   \n",
       "36  Month-to-month                  0    Credit card (automatic)            1   \n",
       "\n",
       "    churn_score  cltv                               churn_reason  \\\n",
       "7           100  5444                    Service dissatisfaction   \n",
       "21           83  4149                      Long distance charges   \n",
       "25           80  5888                  Limited range of services   \n",
       "35           91  4196  Competitor offered higher download speeds   \n",
       "36           96  5059               Competitor made better offer   \n",
       "\n",
       "    referred_a_friend  number_of_referrals    offer  \\\n",
       "7                   1                    6  Offer B   \n",
       "21                  0                    0  Offer B   \n",
       "25                  1                    1     None   \n",
       "35                  1                    3  Offer B   \n",
       "36                  1                    3  Offer B   \n",
       "\n",
       "    avg_monthly_long_distance_charges internet_type  avg_monthly_gb_download  \\\n",
       "7                                0.00           DSL                       24   \n",
       "21                              12.08           DSL                        5   \n",
       "25                              29.54          None                        0   \n",
       "35                              18.39   Fiber Optic                       28   \n",
       "36                              22.92   Fiber Optic                       14   \n",
       "\n",
       "    streaming_music  unlimited_data  monthly_charge  total_charges  \\\n",
       "7                 0               1           45.30        2651.20   \n",
       "21                1               1           82.45        4350.10   \n",
       "25                0               0           19.95         214.75   \n",
       "35                0               1          105.25        6786.40   \n",
       "36                0               1           90.05        4547.25   \n",
       "\n",
       "    total_refunds  total_extra_data_charges  total_long_distance_charges  \\\n",
       "7           40.95                         0                         0.00   \n",
       "21           0.00                         0                       652.32   \n",
       "25           0.00                         0                       324.94   \n",
       "35           0.00                         0                      1195.35   \n",
       "36           0.00                         0                      1123.08   \n",
       "\n",
       "    total_revenue  satisfaction_score  customer_status   churn_category  \\\n",
       "7         2610.25                   1                1  Dissatisfaction   \n",
       "21        5002.42                   1                1       Competitor   \n",
       "25         539.69                   1                1       Competitor   \n",
       "35        7981.75                   1                1         Attitude   \n",
       "36        5670.33                   2                1       Competitor   \n",
       "\n",
       "    pop_density  new_user      cluster  \n",
       "7          3698         0      vanilla  \n",
       "21         5188         0  heavyweight  \n",
       "25          358         0   minimalist  \n",
       "35         2226         0  heavyweight  \n",
       "36         1519         0  heavyweight  "
      ]
     },
     "execution_count": 92,
     "metadata": {},
     "output_type": "execute_result"
    }
   ],
   "source": [
    "miss_df.head()"
   ]
  },
  {
   "cell_type": "code",
   "execution_count": 100,
   "id": "5aeef75a",
   "metadata": {},
   "outputs": [
    {
     "data": {
      "text/plain": [
       "4     17\n",
       "1     11\n",
       "2     11\n",
       "3     11\n",
       "5      7\n",
       "6      4\n",
       "7      4\n",
       "10     1\n",
       "Name: tenure_months, dtype: int64"
      ]
     },
     "execution_count": 100,
     "metadata": {},
     "output_type": "execute_result"
    }
   ],
   "source": [
    "miss_df.tenure_months.value_counts().value_counts()\n",
    "#far lesser than predicted survival analysis"
   ]
  },
  {
   "cell_type": "code",
   "execution_count": 119,
   "id": "e3544ffc",
   "metadata": {},
   "outputs": [
    {
     "data": {
      "text/plain": [
       "Month-to-month    124\n",
       "One year           65\n",
       "Two year           42\n",
       "Name: contract, dtype: int64"
      ]
     },
     "execution_count": 119,
     "metadata": {},
     "output_type": "execute_result"
    }
   ],
   "source": [
    "miss_df.contract.value_counts()"
   ]
  },
  {
   "cell_type": "code",
   "execution_count": 117,
   "id": "bd996e63",
   "metadata": {},
   "outputs": [
    {
     "data": {
      "image/png": "[encoded data removed]",
      "text/plain": [
       "<Figure size 864x864 with 1 Axes>"
      ]
     },
     "metadata": {
      "needs_background": "light"
     },
     "output_type": "display_data"
    }
   ],
   "source": [
    "plt.figure(figsize=(12,12))\n",
    "miss_df.churn_reason.value_counts().sort_values(ascending=True).plot(kind='barh')\n",
    "plt.show()"
   ]
  },
  {
   "cell_type": "code",
   "execution_count": 120,
   "id": "e0765b94",
   "metadata": {},
   "outputs": [
    {
     "data": {
      "text/plain": [
       "None       121\n",
       "Offer B     32\n",
       "Offer D     25\n",
       "Offer A     20\n",
       "Offer E     19\n",
       "Offer C     14\n",
       "Name: offer, dtype: int64"
      ]
     },
     "execution_count": 120,
     "metadata": {},
     "output_type": "execute_result"
    }
   ],
   "source": [
    "miss_df.offer.value_counts()"
   ]
  },
  {
   "cell_type": "code",
   "execution_count": 122,
   "id": "a9464a8a",
   "metadata": {},
   "outputs": [
    {
     "data": {
      "text/html": [
       "<div>\n",
       "<style scoped>\n",
       "    .dataframe tbody tr th:only-of-type {\n",
       "        vertical-align: middle;\n",
       "    }\n",
       "\n",
       "    .dataframe tbody tr th {\n",
       "        vertical-align: top;\n",
       "    }\n",
       "\n",
       "    .dataframe thead th {\n",
       "        text-align: right;\n",
       "    }\n",
       "</style>\n",
       "<table border=\"1\" class=\"dataframe\">\n",
       "  <thead>\n",
       "    <tr style=\"text-align: right;\">\n",
       "      <th>contract</th>\n",
       "      <th>Month-to-month</th>\n",
       "      <th>One year</th>\n",
       "      <th>Two year</th>\n",
       "    </tr>\n",
       "    <tr>\n",
       "      <th>offer</th>\n",
       "      <th></th>\n",
       "      <th></th>\n",
       "      <th></th>\n",
       "    </tr>\n",
       "  </thead>\n",
       "  <tbody>\n",
       "    <tr>\n",
       "      <th>None</th>\n",
       "      <td>69</td>\n",
       "      <td>32</td>\n",
       "      <td>20</td>\n",
       "    </tr>\n",
       "    <tr>\n",
       "      <th>Offer A</th>\n",
       "      <td>1</td>\n",
       "      <td>5</td>\n",
       "      <td>14</td>\n",
       "    </tr>\n",
       "    <tr>\n",
       "      <th>Offer B</th>\n",
       "      <td>10</td>\n",
       "      <td>15</td>\n",
       "      <td>7</td>\n",
       "    </tr>\n",
       "    <tr>\n",
       "      <th>Offer C</th>\n",
       "      <td>7</td>\n",
       "      <td>6</td>\n",
       "      <td>1</td>\n",
       "    </tr>\n",
       "    <tr>\n",
       "      <th>Offer D</th>\n",
       "      <td>21</td>\n",
       "      <td>4</td>\n",
       "      <td>0</td>\n",
       "    </tr>\n",
       "    <tr>\n",
       "      <th>Offer E</th>\n",
       "      <td>16</td>\n",
       "      <td>3</td>\n",
       "      <td>0</td>\n",
       "    </tr>\n",
       "  </tbody>\n",
       "</table>\n",
       "</div>"
      ],
      "text/plain": [
       "contract  Month-to-month  One year  Two year\n",
       "offer                                       \n",
       "None                  69        32        20\n",
       "Offer A                1         5        14\n",
       "Offer B               10        15         7\n",
       "Offer C                7         6         1\n",
       "Offer D               21         4         0\n",
       "Offer E               16         3         0"
      ]
     },
     "execution_count": 122,
     "metadata": {},
     "output_type": "execute_result"
    }
   ],
   "source": [
    "pd.crosstab(index=miss_df.offer, columns=miss_df.contract)"
   ]
  },
  {
   "cell_type": "code",
   "execution_count": 133,
   "id": "3e070550",
   "metadata": {},
   "outputs": [
    {
     "data": {
      "text/plain": [
       "vanilla            90\n",
       "heavyweight        82\n",
       "minimalist         48\n",
       "price_sensitive    11\n",
       "Name: cluster, dtype: int64"
      ]
     },
     "execution_count": 133,
     "metadata": {},
     "output_type": "execute_result"
    }
   ],
   "source": [
    "miss_df.cluster.value_counts() "
   ]
  },
  {
   "cell_type": "code",
   "execution_count": 141,
   "id": "3545a87b",
   "metadata": {},
   "outputs": [
    {
     "data": {
      "text/html": [
       "<div>\n",
       "<style scoped>\n",
       "    .dataframe tbody tr th:only-of-type {\n",
       "        vertical-align: middle;\n",
       "    }\n",
       "\n",
       "    .dataframe tbody tr th {\n",
       "        vertical-align: top;\n",
       "    }\n",
       "\n",
       "    .dataframe thead th {\n",
       "        text-align: right;\n",
       "    }\n",
       "</style>\n",
       "<table border=\"1\" class=\"dataframe\">\n",
       "  <thead>\n",
       "    <tr style=\"text-align: right;\">\n",
       "      <th>contract</th>\n",
       "      <th>Month-to-month</th>\n",
       "      <th>One year</th>\n",
       "      <th>Two year</th>\n",
       "    </tr>\n",
       "    <tr>\n",
       "      <th>cluster</th>\n",
       "      <th></th>\n",
       "      <th></th>\n",
       "      <th></th>\n",
       "    </tr>\n",
       "  </thead>\n",
       "  <tbody>\n",
       "    <tr>\n",
       "      <th>heavyweight</th>\n",
       "      <td>20</td>\n",
       "      <td>28</td>\n",
       "      <td>34</td>\n",
       "    </tr>\n",
       "    <tr>\n",
       "      <th>minimalist</th>\n",
       "      <td>34</td>\n",
       "      <td>9</td>\n",
       "      <td>5</td>\n",
       "    </tr>\n",
       "    <tr>\n",
       "      <th>price_sensitive</th>\n",
       "      <td>10</td>\n",
       "      <td>1</td>\n",
       "      <td>0</td>\n",
       "    </tr>\n",
       "    <tr>\n",
       "      <th>vanilla</th>\n",
       "      <td>60</td>\n",
       "      <td>27</td>\n",
       "      <td>3</td>\n",
       "    </tr>\n",
       "  </tbody>\n",
       "</table>\n",
       "</div>"
      ],
      "text/plain": [
       "contract         Month-to-month  One year  Two year\n",
       "cluster                                            \n",
       "heavyweight                  20        28        34\n",
       "minimalist                   34         9         5\n",
       "price_sensitive              10         1         0\n",
       "vanilla                      60        27         3"
      ]
     },
     "execution_count": 141,
     "metadata": {},
     "output_type": "execute_result"
    }
   ],
   "source": [
    "pd.crosstab(index=miss_df.cluster, columns=miss_df.contract)"
   ]
  },
  {
   "cell_type": "code",
   "execution_count": 169,
   "id": "e28754e5",
   "metadata": {},
   "outputs": [],
   "source": [
    "mode_df = miss_df.select_dtypes(exclude='number')"
   ]
  },
  {
   "cell_type": "code",
   "execution_count": 173,
   "id": "e7255182",
   "metadata": {},
   "outputs": [
    {
     "data": {
      "text/html": [
       "<div>\n",
       "<style scoped>\n",
       "    .dataframe tbody tr th:only-of-type {\n",
       "        vertical-align: middle;\n",
       "    }\n",
       "\n",
       "    .dataframe tbody tr th {\n",
       "        vertical-align: top;\n",
       "    }\n",
       "\n",
       "    .dataframe thead tr th {\n",
       "        text-align: left;\n",
       "    }\n",
       "\n",
       "    .dataframe thead tr:last-of-type th {\n",
       "        text-align: right;\n",
       "    }\n",
       "</style>\n",
       "<table border=\"1\" class=\"dataframe\">\n",
       "  <thead>\n",
       "    <tr>\n",
       "      <th></th>\n",
       "      <th>city</th>\n",
       "      <th>internet_service</th>\n",
       "      <th>contract</th>\n",
       "      <th>payment_method</th>\n",
       "      <th>churn_reason</th>\n",
       "      <th>offer</th>\n",
       "      <th>internet_type</th>\n",
       "      <th>churn_category</th>\n",
       "    </tr>\n",
       "    <tr>\n",
       "      <th></th>\n",
       "      <th>mode</th>\n",
       "      <th>mode</th>\n",
       "      <th>mode</th>\n",
       "      <th>mode</th>\n",
       "      <th>mode</th>\n",
       "      <th>mode</th>\n",
       "      <th>mode</th>\n",
       "      <th>mode</th>\n",
       "    </tr>\n",
       "    <tr>\n",
       "      <th>cluster</th>\n",
       "      <th></th>\n",
       "      <th></th>\n",
       "      <th></th>\n",
       "      <th></th>\n",
       "      <th></th>\n",
       "      <th></th>\n",
       "      <th></th>\n",
       "      <th></th>\n",
       "    </tr>\n",
       "  </thead>\n",
       "  <tbody>\n",
       "    <tr>\n",
       "      <th>heavyweight</th>\n",
       "      <td>San Jose</td>\n",
       "      <td>Fiber optic</td>\n",
       "      <td>Two year</td>\n",
       "      <td>Bank transfer (automatic)</td>\n",
       "      <td>Competitor offered more data</td>\n",
       "      <td>None</td>\n",
       "      <td>Fiber Optic</td>\n",
       "      <td>Competitor</td>\n",
       "    </tr>\n",
       "    <tr>\n",
       "      <th>minimalist</th>\n",
       "      <td>[Los Angeles, San Diego]</td>\n",
       "      <td>No</td>\n",
       "      <td>Month-to-month</td>\n",
       "      <td>Mailed check</td>\n",
       "      <td>[Attitude of support person, Competitor offere...</td>\n",
       "      <td>None</td>\n",
       "      <td>None</td>\n",
       "      <td>Attitude</td>\n",
       "    </tr>\n",
       "    <tr>\n",
       "      <th>price_sensitive</th>\n",
       "      <td>[Altadena, Camp Nelson, Huntington Beach, Jack...</td>\n",
       "      <td>Fiber optic</td>\n",
       "      <td>Month-to-month</td>\n",
       "      <td>Electronic check</td>\n",
       "      <td>Attitude of support person</td>\n",
       "      <td>None</td>\n",
       "      <td>Fiber Optic</td>\n",
       "      <td>Competitor</td>\n",
       "    </tr>\n",
       "    <tr>\n",
       "      <th>vanilla</th>\n",
       "      <td>Los Angeles</td>\n",
       "      <td>DSL</td>\n",
       "      <td>Month-to-month</td>\n",
       "      <td>Mailed check</td>\n",
       "      <td>Don't know</td>\n",
       "      <td>None</td>\n",
       "      <td>DSL</td>\n",
       "      <td>Competitor</td>\n",
       "    </tr>\n",
       "  </tbody>\n",
       "</table>\n",
       "</div>"
      ],
      "text/plain": [
       "                                                              city  \\\n",
       "                                                              mode   \n",
       "cluster                                                              \n",
       "heavyweight                                               San Jose   \n",
       "minimalist                                [Los Angeles, San Diego]   \n",
       "price_sensitive  [Altadena, Camp Nelson, Huntington Beach, Jack...   \n",
       "vanilla                                                Los Angeles   \n",
       "\n",
       "                internet_service        contract             payment_method  \\\n",
       "                            mode            mode                       mode   \n",
       "cluster                                                                       \n",
       "heavyweight          Fiber optic        Two year  Bank transfer (automatic)   \n",
       "minimalist                    No  Month-to-month               Mailed check   \n",
       "price_sensitive      Fiber optic  Month-to-month           Electronic check   \n",
       "vanilla                      DSL  Month-to-month               Mailed check   \n",
       "\n",
       "                                                      churn_reason offer  \\\n",
       "                                                              mode  mode   \n",
       "cluster                                                                    \n",
       "heavyweight                           Competitor offered more data  None   \n",
       "minimalist       [Attitude of support person, Competitor offere...  None   \n",
       "price_sensitive                         Attitude of support person  None   \n",
       "vanilla                                                 Don't know  None   \n",
       "\n",
       "                internet_type churn_category  \n",
       "                         mode           mode  \n",
       "cluster                                       \n",
       "heavyweight       Fiber Optic     Competitor  \n",
       "minimalist               None       Attitude  \n",
       "price_sensitive   Fiber Optic     Competitor  \n",
       "vanilla                   DSL     Competitor  "
      ]
     },
     "execution_count": 173,
     "metadata": {},
     "output_type": "execute_result"
    }
   ],
   "source": [
    "mode_df.groupby('cluster').agg([pd.Series.mode])"
   ]
  },
  {
   "cell_type": "code",
   "execution_count": 178,
   "id": "7a0c3f3d",
   "metadata": {},
   "outputs": [
    {
     "data": {
      "text/html": [
       "<div>\n",
       "<style scoped>\n",
       "    .dataframe tbody tr th:only-of-type {\n",
       "        vertical-align: middle;\n",
       "    }\n",
       "\n",
       "    .dataframe tbody tr th {\n",
       "        vertical-align: top;\n",
       "    }\n",
       "\n",
       "    .dataframe thead tr th {\n",
       "        text-align: left;\n",
       "    }\n",
       "\n",
       "    .dataframe thead tr:last-of-type th {\n",
       "        text-align: right;\n",
       "    }\n",
       "</style>\n",
       "<table border=\"1\" class=\"dataframe\">\n",
       "  <thead>\n",
       "    <tr>\n",
       "      <th></th>\n",
       "      <th colspan=\"2\" halign=\"left\">age</th>\n",
       "      <th colspan=\"2\" halign=\"left\">tenure_months</th>\n",
       "      <th colspan=\"2\" halign=\"left\">churn_score</th>\n",
       "      <th colspan=\"2\" halign=\"left\">cltv</th>\n",
       "      <th colspan=\"2\" halign=\"left\">avg_monthly_long_distance_charges</th>\n",
       "      <th colspan=\"2\" halign=\"left\">avg_monthly_gb_download</th>\n",
       "      <th colspan=\"2\" halign=\"left\">monthly_charge</th>\n",
       "      <th colspan=\"2\" halign=\"left\">total_charges</th>\n",
       "      <th colspan=\"2\" halign=\"left\">total_extra_data_charges</th>\n",
       "      <th colspan=\"2\" halign=\"left\">total_long_distance_charges</th>\n",
       "      <th colspan=\"2\" halign=\"left\">total_revenue</th>\n",
       "    </tr>\n",
       "    <tr>\n",
       "      <th></th>\n",
       "      <th>min</th>\n",
       "      <th>max</th>\n",
       "      <th>min</th>\n",
       "      <th>max</th>\n",
       "      <th>min</th>\n",
       "      <th>max</th>\n",
       "      <th>min</th>\n",
       "      <th>max</th>\n",
       "      <th>min</th>\n",
       "      <th>max</th>\n",
       "      <th>min</th>\n",
       "      <th>max</th>\n",
       "      <th>min</th>\n",
       "      <th>max</th>\n",
       "      <th>min</th>\n",
       "      <th>max</th>\n",
       "      <th>min</th>\n",
       "      <th>max</th>\n",
       "      <th>min</th>\n",
       "      <th>max</th>\n",
       "      <th>min</th>\n",
       "      <th>max</th>\n",
       "    </tr>\n",
       "    <tr>\n",
       "      <th>cluster</th>\n",
       "      <th></th>\n",
       "      <th></th>\n",
       "      <th></th>\n",
       "      <th></th>\n",
       "      <th></th>\n",
       "      <th></th>\n",
       "      <th></th>\n",
       "      <th></th>\n",
       "      <th></th>\n",
       "      <th></th>\n",
       "      <th></th>\n",
       "      <th></th>\n",
       "      <th></th>\n",
       "      <th></th>\n",
       "      <th></th>\n",
       "      <th></th>\n",
       "      <th></th>\n",
       "      <th></th>\n",
       "      <th></th>\n",
       "      <th></th>\n",
       "      <th></th>\n",
       "      <th></th>\n",
       "    </tr>\n",
       "  </thead>\n",
       "  <tbody>\n",
       "    <tr>\n",
       "      <th>heavyweight</th>\n",
       "      <td>20</td>\n",
       "      <td>80</td>\n",
       "      <td>35</td>\n",
       "      <td>72</td>\n",
       "      <td>65</td>\n",
       "      <td>100</td>\n",
       "      <td>2459</td>\n",
       "      <td>6452</td>\n",
       "      <td>0.00</td>\n",
       "      <td>49.98</td>\n",
       "      <td>2</td>\n",
       "      <td>82</td>\n",
       "      <td>54.20</td>\n",
       "      <td>118.35</td>\n",
       "      <td>3182.95</td>\n",
       "      <td>8684.80</td>\n",
       "      <td>0</td>\n",
       "      <td>150</td>\n",
       "      <td>0.00</td>\n",
       "      <td>3508.82</td>\n",
       "      <td>3937.45</td>\n",
       "      <td>11195.44</td>\n",
       "    </tr>\n",
       "    <tr>\n",
       "      <th>minimalist</th>\n",
       "      <td>19</td>\n",
       "      <td>79</td>\n",
       "      <td>1</td>\n",
       "      <td>61</td>\n",
       "      <td>65</td>\n",
       "      <td>100</td>\n",
       "      <td>2102</td>\n",
       "      <td>6484</td>\n",
       "      <td>2.01</td>\n",
       "      <td>49.74</td>\n",
       "      <td>0</td>\n",
       "      <td>0</td>\n",
       "      <td>18.95</td>\n",
       "      <td>25.90</td>\n",
       "      <td>19.75</td>\n",
       "      <td>1334.00</td>\n",
       "      <td>0</td>\n",
       "      <td>0</td>\n",
       "      <td>3.09</td>\n",
       "      <td>2822.47</td>\n",
       "      <td>23.24</td>\n",
       "      <td>4005.02</td>\n",
       "    </tr>\n",
       "    <tr>\n",
       "      <th>price_sensitive</th>\n",
       "      <td>26</td>\n",
       "      <td>75</td>\n",
       "      <td>17</td>\n",
       "      <td>55</td>\n",
       "      <td>68</td>\n",
       "      <td>98</td>\n",
       "      <td>3364</td>\n",
       "      <td>5719</td>\n",
       "      <td>3.73</td>\n",
       "      <td>40.25</td>\n",
       "      <td>4</td>\n",
       "      <td>51</td>\n",
       "      <td>70.30</td>\n",
       "      <td>104.30</td>\n",
       "      <td>1460.65</td>\n",
       "      <td>4458.15</td>\n",
       "      <td>0</td>\n",
       "      <td>80</td>\n",
       "      <td>106.20</td>\n",
       "      <td>1569.75</td>\n",
       "      <td>1765.12</td>\n",
       "      <td>5525.70</td>\n",
       "    </tr>\n",
       "    <tr>\n",
       "      <th>vanilla</th>\n",
       "      <td>19</td>\n",
       "      <td>80</td>\n",
       "      <td>1</td>\n",
       "      <td>64</td>\n",
       "      <td>65</td>\n",
       "      <td>100</td>\n",
       "      <td>2003</td>\n",
       "      <td>6347</td>\n",
       "      <td>0.00</td>\n",
       "      <td>49.43</td>\n",
       "      <td>2</td>\n",
       "      <td>85</td>\n",
       "      <td>30.10</td>\n",
       "      <td>85.95</td>\n",
       "      <td>49.25</td>\n",
       "      <td>3160.55</td>\n",
       "      <td>0</td>\n",
       "      <td>150</td>\n",
       "      <td>0.00</td>\n",
       "      <td>2079.20</td>\n",
       "      <td>57.63</td>\n",
       "      <td>4691.93</td>\n",
       "    </tr>\n",
       "  </tbody>\n",
       "</table>\n",
       "</div>"
      ],
      "text/plain": [
       "                age     tenure_months     churn_score       cltv        \\\n",
       "                min max           min max         min  max   min   max   \n",
       "cluster                                                                  \n",
       "heavyweight      20  80            35  72          65  100  2459  6452   \n",
       "minimalist       19  79             1  61          65  100  2102  6484   \n",
       "price_sensitive  26  75            17  55          68   98  3364  5719   \n",
       "vanilla          19  80             1  64          65  100  2003  6347   \n",
       "\n",
       "                avg_monthly_long_distance_charges         \\\n",
       "                                              min    max   \n",
       "cluster                                                    \n",
       "heavyweight                                  0.00  49.98   \n",
       "minimalist                                   2.01  49.74   \n",
       "price_sensitive                              3.73  40.25   \n",
       "vanilla                                      0.00  49.43   \n",
       "\n",
       "                avg_monthly_gb_download     monthly_charge          \\\n",
       "                                    min max            min     max   \n",
       "cluster                                                              \n",
       "heavyweight                           2  82          54.20  118.35   \n",
       "minimalist                            0   0          18.95   25.90   \n",
       "price_sensitive                       4  51          70.30  104.30   \n",
       "vanilla                               2  85          30.10   85.95   \n",
       "\n",
       "                total_charges          total_extra_data_charges       \\\n",
       "                          min      max                      min  max   \n",
       "cluster                                                                \n",
       "heavyweight           3182.95  8684.80                        0  150   \n",
       "minimalist              19.75  1334.00                        0    0   \n",
       "price_sensitive       1460.65  4458.15                        0   80   \n",
       "vanilla                 49.25  3160.55                        0  150   \n",
       "\n",
       "                total_long_distance_charges          total_revenue            \n",
       "                                        min      max           min       max  \n",
       "cluster                                                                       \n",
       "heavyweight                            0.00  3508.82       3937.45  11195.44  \n",
       "minimalist                             3.09  2822.47         23.24   4005.02  \n",
       "price_sensitive                      106.20  1569.75       1765.12   5525.70  \n",
       "vanilla                                0.00  2079.20         57.63   4691.93  "
      ]
     },
     "execution_count": 178,
     "metadata": {},
     "output_type": "execute_result"
    }
   ],
   "source": [
    "miss_df.groupby('cluster').agg(['min', 'max'])[['age','tenure_months','churn_score','cltv','avg_monthly_long_distance_charges',\n",
    "                                                'avg_monthly_gb_download','monthly_charge','total_charges','total_extra_data_charges',\n",
    "                                               'total_long_distance_charges','total_revenue']]"
   ]
  },
  {
   "cell_type": "markdown",
   "id": "9fddb153",
   "metadata": {},
   "source": [
    " # Quadrant targetting"
   ]
  },
  {
   "cell_type": "code",
   "execution_count": 182,
   "id": "8e53d6f6",
   "metadata": {},
   "outputs": [
    {
     "data": {
      "text/plain": [
       "<matplotlib.legend.Legend at 0x7fab080848b0>"
      ]
     },
     "execution_count": 182,
     "metadata": {},
     "output_type": "execute_result"
    },
    {
     "data": {
      "image/png": "[encoded data removed]",
      "text/plain": [
       "<Figure size 1080x720 with 1 Axes>"
      ]
     },
     "metadata": {
      "needs_background": "light"
     },
     "output_type": "display_data"
    }
   ],
   "source": [
    "plt.figure(figsize=(15,10))\n",
    "sns.scatterplot(data=telco_final.loc[miss_cust.index], x='cltv',y='churn_score', hue='cluster', hue_order=['vanilla','minimalist','heavyweight','price_sensitive'], size='total_revenue', alpha=0.8)\n",
    "# plt.ylim(0,110)\n",
    "plt.legend(loc='lower left')\n",
    "#marking for top value"
   ]
  },
  {
   "cell_type": "code",
   "execution_count": null,
   "id": "19717029",
   "metadata": {},
   "outputs": [],
   "source": []
  }
 ],
 "metadata": {
  "kernelspec": {
   "display_name": "Python 3",
   "language": "python",
   "name": "python3"
  },
  "language_info": {
   "codemirror_mode": {
    "name": "ipython",
    "version": 3
   },
   "file_extension": ".py",
   "mimetype": "text/x-python",
   "name": "python",
   "nbconvert_exporter": "python",
   "pygments_lexer": "ipython3",
   "version": "3.8.10"
  }
 },
 "nbformat": 4,
 "nbformat_minor": 5
}
