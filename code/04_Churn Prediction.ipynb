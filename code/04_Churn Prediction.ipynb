{
 "cells": [
  {
   "cell_type": "markdown",
   "id": "4ef0a89a",
   "metadata": {},
   "source": [
    "# Customer Attrition Model - Part 4\n",
    "## Customer Churn Prediction"
   ]
  },
  {
   "cell_type": "markdown",
   "id": "ac0f80d0",
   "metadata": {},
   "source": [
    "# 4.0 Notebook Brief"
   ]
  },
  {
   "cell_type": "markdown",
   "id": "e403f903",
   "metadata": {},
   "source": [
    "With a large and competitive service such as telecommunication company, it is critical for us be able to predict the customer churn. As stated in early introduction, the goal is to be able to identify then churn customers and ultimately forecast churn on individual customers.\n",
    "\n",
    "Upon clustering of the customer type for 4 clusters, these information are then used to train the prediction model for churn. In this notebook, we will attempt to model a churn prediction based on past data and measure the model accuracy. We will also investigate what are the important features affecting the churn rate. We will then further dive into the precision-recall curve on the model estimation of churn probability. "
   ]
  },
  {
   "cell_type": "markdown",
   "id": "d7281345",
   "metadata": {},
   "source": [
    "## 4.1 Data Import"
   ]
  },
  {
   "cell_type": "code",
   "execution_count": 1,
   "id": "0bbedf3c",
   "metadata": {},
   "outputs": [],
   "source": [
    "import numpy as np\n",
    "import pandas as pd\n",
    "import matplotlib.pyplot as plt\n",
    "import seaborn as sns\n",
    "\n",
    "#import preprocessing library\n",
    "from sklearn.model_selection import train_test_split, GridSearchCV, cross_validate\n",
    "\n",
    "#import prepocessing\n",
    "from sklearn.preprocessing import StandardScaler\n",
    "from sklearn.dummy import DummyClassifier\n",
    "\n",
    "#import classifier models\n",
    "from sklearn.linear_model import LogisticRegression\n",
    "from sklearn.ensemble import RandomForestClassifier\n",
    "from sklearn.svm import SVC\n",
    "from tensorflow.keras.models import Sequential\n",
    "from tensorflow.keras.layers import Dense\n",
    "from tensorflow.keras.wrappers.scikit_learn import KerasClassifier\n",
    "from tensorflow.keras.regularizers import l2\n",
    "from tensorflow.keras.layers import Dropout\n",
    "from tensorflow.keras.callbacks import EarlyStopping\n",
    "from sklearn.naive_bayes import GaussianNB\n",
    "\n",
    "#import metrics\n",
    "from sklearn.metrics import confusion_matrix, precision_recall_curve, f1_score, auc\n",
    "\n",
    "#import bootstrap libs\n",
    "from imblearn.over_sampling import SMOTE\n",
    "from imblearn.pipeline import make_pipeline, Pipeline"
   ]
  },
  {
   "cell_type": "code",
   "execution_count": 2,
   "id": "031dbb3d",
   "metadata": {},
   "outputs": [],
   "source": [
    "telco_final = pd.read_csv('../data/telco_clustered.csv')\n",
    "pd.set_option('display.max_columns',99)"
   ]
  },
  {
   "cell_type": "code",
   "execution_count": 3,
   "id": "ac42f0ad",
   "metadata": {},
   "outputs": [],
   "source": [
    "#drop collinear columns\n",
    "telco = telco_final.copy().drop(columns=['city','churn_reason', 'churn_category','churn_value', 'churn_score',\n",
    "                            'internet_type','pop_density', 'tenure_months', 'dependents','satisfaction_score','new_user',\n",
    "                            'referred_a_friend','total_charges','monthly_charge','avg_monthly_long_distance_charges'])"
   ]
  },
  {
   "cell_type": "markdown",
   "id": "51c36798",
   "metadata": {},
   "source": [
    "## 4.2 Preprocessing"
   ]
  },
  {
   "cell_type": "markdown",
   "id": "a59ac462",
   "metadata": {},
   "source": [
    "### 4.2.1 One Hot Encoding"
   ]
  },
  {
   "cell_type": "code",
   "execution_count": 4,
   "id": "ab832a1e",
   "metadata": {},
   "outputs": [
    {
     "data": {
      "text/html": [
       "<div>\n",
       "<style scoped>\n",
       "    .dataframe tbody tr th:only-of-type {\n",
       "        vertical-align: middle;\n",
       "    }\n",
       "\n",
       "    .dataframe tbody tr th {\n",
       "        vertical-align: top;\n",
       "    }\n",
       "\n",
       "    .dataframe thead th {\n",
       "        text-align: right;\n",
       "    }\n",
       "</style>\n",
       "<table border=\"1\" class=\"dataframe\">\n",
       "  <thead>\n",
       "    <tr style=\"text-align: right;\">\n",
       "      <th></th>\n",
       "      <th>gender</th>\n",
       "      <th>age</th>\n",
       "      <th>under_30</th>\n",
       "      <th>senior_citizen</th>\n",
       "      <th>married</th>\n",
       "      <th>number_of_dependents</th>\n",
       "      <th>phone_service</th>\n",
       "      <th>multiple_lines</th>\n",
       "      <th>online_security</th>\n",
       "      <th>online_backup</th>\n",
       "      <th>device_protection</th>\n",
       "      <th>tech_support</th>\n",
       "      <th>streaming_tv</th>\n",
       "      <th>streaming_movies</th>\n",
       "      <th>paperless_billing</th>\n",
       "      <th>cltv</th>\n",
       "      <th>number_of_referrals</th>\n",
       "      <th>avg_monthly_gb_download</th>\n",
       "      <th>streaming_music</th>\n",
       "      <th>unlimited_data</th>\n",
       "      <th>total_refunds</th>\n",
       "      <th>total_extra_data_charges</th>\n",
       "      <th>total_long_distance_charges</th>\n",
       "      <th>total_revenue</th>\n",
       "      <th>customer_status</th>\n",
       "      <th>internet_service_Fiber optic</th>\n",
       "      <th>internet_service_No</th>\n",
       "      <th>contract_One year</th>\n",
       "      <th>contract_Two year</th>\n",
       "      <th>payment_method_Credit card (automatic)</th>\n",
       "      <th>payment_method_Electronic check</th>\n",
       "      <th>payment_method_Mailed check</th>\n",
       "      <th>offer_Offer A</th>\n",
       "      <th>offer_Offer B</th>\n",
       "      <th>offer_Offer C</th>\n",
       "      <th>offer_Offer D</th>\n",
       "      <th>offer_Offer E</th>\n",
       "      <th>cluster_minimalist</th>\n",
       "      <th>cluster_price_sensitive</th>\n",
       "      <th>cluster_vanilla</th>\n",
       "    </tr>\n",
       "  </thead>\n",
       "  <tbody>\n",
       "    <tr>\n",
       "      <th>0</th>\n",
       "      <td>0</td>\n",
       "      <td>78</td>\n",
       "      <td>0</td>\n",
       "      <td>1</td>\n",
       "      <td>0</td>\n",
       "      <td>0</td>\n",
       "      <td>0</td>\n",
       "      <td>0</td>\n",
       "      <td>0</td>\n",
       "      <td>0</td>\n",
       "      <td>1</td>\n",
       "      <td>0</td>\n",
       "      <td>0</td>\n",
       "      <td>1</td>\n",
       "      <td>1</td>\n",
       "      <td>5433</td>\n",
       "      <td>0</td>\n",
       "      <td>8</td>\n",
       "      <td>0</td>\n",
       "      <td>0</td>\n",
       "      <td>0.00</td>\n",
       "      <td>20</td>\n",
       "      <td>0.00</td>\n",
       "      <td>59.65</td>\n",
       "      <td>1</td>\n",
       "      <td>0</td>\n",
       "      <td>0</td>\n",
       "      <td>0</td>\n",
       "      <td>0</td>\n",
       "      <td>0</td>\n",
       "      <td>1</td>\n",
       "      <td>0</td>\n",
       "      <td>0</td>\n",
       "      <td>0</td>\n",
       "      <td>0</td>\n",
       "      <td>0</td>\n",
       "      <td>0</td>\n",
       "      <td>0</td>\n",
       "      <td>1</td>\n",
       "      <td>0</td>\n",
       "    </tr>\n",
       "    <tr>\n",
       "      <th>1</th>\n",
       "      <td>1</td>\n",
       "      <td>74</td>\n",
       "      <td>0</td>\n",
       "      <td>1</td>\n",
       "      <td>1</td>\n",
       "      <td>1</td>\n",
       "      <td>1</td>\n",
       "      <td>1</td>\n",
       "      <td>0</td>\n",
       "      <td>1</td>\n",
       "      <td>0</td>\n",
       "      <td>0</td>\n",
       "      <td>0</td>\n",
       "      <td>0</td>\n",
       "      <td>1</td>\n",
       "      <td>5302</td>\n",
       "      <td>1</td>\n",
       "      <td>17</td>\n",
       "      <td>0</td>\n",
       "      <td>1</td>\n",
       "      <td>0.00</td>\n",
       "      <td>0</td>\n",
       "      <td>390.80</td>\n",
       "      <td>1024.10</td>\n",
       "      <td>1</td>\n",
       "      <td>1</td>\n",
       "      <td>0</td>\n",
       "      <td>0</td>\n",
       "      <td>0</td>\n",
       "      <td>1</td>\n",
       "      <td>0</td>\n",
       "      <td>0</td>\n",
       "      <td>0</td>\n",
       "      <td>0</td>\n",
       "      <td>0</td>\n",
       "      <td>0</td>\n",
       "      <td>1</td>\n",
       "      <td>0</td>\n",
       "      <td>1</td>\n",
       "      <td>0</td>\n",
       "    </tr>\n",
       "    <tr>\n",
       "      <th>2</th>\n",
       "      <td>0</td>\n",
       "      <td>71</td>\n",
       "      <td>0</td>\n",
       "      <td>1</td>\n",
       "      <td>0</td>\n",
       "      <td>3</td>\n",
       "      <td>1</td>\n",
       "      <td>1</td>\n",
       "      <td>0</td>\n",
       "      <td>0</td>\n",
       "      <td>0</td>\n",
       "      <td>0</td>\n",
       "      <td>1</td>\n",
       "      <td>1</td>\n",
       "      <td>1</td>\n",
       "      <td>3179</td>\n",
       "      <td>0</td>\n",
       "      <td>52</td>\n",
       "      <td>1</td>\n",
       "      <td>1</td>\n",
       "      <td>45.61</td>\n",
       "      <td>0</td>\n",
       "      <td>203.94</td>\n",
       "      <td>1910.88</td>\n",
       "      <td>1</td>\n",
       "      <td>1</td>\n",
       "      <td>0</td>\n",
       "      <td>0</td>\n",
       "      <td>0</td>\n",
       "      <td>0</td>\n",
       "      <td>1</td>\n",
       "      <td>0</td>\n",
       "      <td>0</td>\n",
       "      <td>0</td>\n",
       "      <td>0</td>\n",
       "      <td>1</td>\n",
       "      <td>0</td>\n",
       "      <td>0</td>\n",
       "      <td>1</td>\n",
       "      <td>0</td>\n",
       "    </tr>\n",
       "    <tr>\n",
       "      <th>3</th>\n",
       "      <td>1</td>\n",
       "      <td>78</td>\n",
       "      <td>0</td>\n",
       "      <td>1</td>\n",
       "      <td>1</td>\n",
       "      <td>1</td>\n",
       "      <td>1</td>\n",
       "      <td>0</td>\n",
       "      <td>0</td>\n",
       "      <td>1</td>\n",
       "      <td>1</td>\n",
       "      <td>0</td>\n",
       "      <td>1</td>\n",
       "      <td>1</td>\n",
       "      <td>1</td>\n",
       "      <td>5337</td>\n",
       "      <td>1</td>\n",
       "      <td>12</td>\n",
       "      <td>0</td>\n",
       "      <td>1</td>\n",
       "      <td>13.43</td>\n",
       "      <td>0</td>\n",
       "      <td>494.00</td>\n",
       "      <td>2995.07</td>\n",
       "      <td>1</td>\n",
       "      <td>1</td>\n",
       "      <td>0</td>\n",
       "      <td>0</td>\n",
       "      <td>0</td>\n",
       "      <td>0</td>\n",
       "      <td>1</td>\n",
       "      <td>0</td>\n",
       "      <td>0</td>\n",
       "      <td>0</td>\n",
       "      <td>1</td>\n",
       "      <td>0</td>\n",
       "      <td>0</td>\n",
       "      <td>0</td>\n",
       "      <td>1</td>\n",
       "      <td>0</td>\n",
       "    </tr>\n",
       "    <tr>\n",
       "      <th>4</th>\n",
       "      <td>1</td>\n",
       "      <td>80</td>\n",
       "      <td>0</td>\n",
       "      <td>1</td>\n",
       "      <td>1</td>\n",
       "      <td>1</td>\n",
       "      <td>1</td>\n",
       "      <td>1</td>\n",
       "      <td>0</td>\n",
       "      <td>0</td>\n",
       "      <td>0</td>\n",
       "      <td>0</td>\n",
       "      <td>0</td>\n",
       "      <td>0</td>\n",
       "      <td>1</td>\n",
       "      <td>2793</td>\n",
       "      <td>1</td>\n",
       "      <td>14</td>\n",
       "      <td>0</td>\n",
       "      <td>1</td>\n",
       "      <td>0.00</td>\n",
       "      <td>0</td>\n",
       "      <td>234.21</td>\n",
       "      <td>3102.36</td>\n",
       "      <td>1</td>\n",
       "      <td>1</td>\n",
       "      <td>0</td>\n",
       "      <td>0</td>\n",
       "      <td>0</td>\n",
       "      <td>0</td>\n",
       "      <td>1</td>\n",
       "      <td>0</td>\n",
       "      <td>0</td>\n",
       "      <td>0</td>\n",
       "      <td>1</td>\n",
       "      <td>0</td>\n",
       "      <td>0</td>\n",
       "      <td>0</td>\n",
       "      <td>1</td>\n",
       "      <td>0</td>\n",
       "    </tr>\n",
       "  </tbody>\n",
       "</table>\n",
       "</div>"
      ],
      "text/plain": [
       "   gender  age  under_30  senior_citizen  married  number_of_dependents  \\\n",
       "0       0   78         0               1        0                     0   \n",
       "1       1   74         0               1        1                     1   \n",
       "2       0   71         0               1        0                     3   \n",
       "3       1   78         0               1        1                     1   \n",
       "4       1   80         0               1        1                     1   \n",
       "\n",
       "   phone_service  multiple_lines  online_security  online_backup  \\\n",
       "0              0               0                0              0   \n",
       "1              1               1                0              1   \n",
       "2              1               1                0              0   \n",
       "3              1               0                0              1   \n",
       "4              1               1                0              0   \n",
       "\n",
       "   device_protection  tech_support  streaming_tv  streaming_movies  \\\n",
       "0                  1             0             0                 1   \n",
       "1                  0             0             0                 0   \n",
       "2                  0             0             1                 1   \n",
       "3                  1             0             1                 1   \n",
       "4                  0             0             0                 0   \n",
       "\n",
       "   paperless_billing  cltv  number_of_referrals  avg_monthly_gb_download  \\\n",
       "0                  1  5433                    0                        8   \n",
       "1                  1  5302                    1                       17   \n",
       "2                  1  3179                    0                       52   \n",
       "3                  1  5337                    1                       12   \n",
       "4                  1  2793                    1                       14   \n",
       "\n",
       "   streaming_music  unlimited_data  total_refunds  total_extra_data_charges  \\\n",
       "0                0               0           0.00                        20   \n",
       "1                0               1           0.00                         0   \n",
       "2                1               1          45.61                         0   \n",
       "3                0               1          13.43                         0   \n",
       "4                0               1           0.00                         0   \n",
       "\n",
       "   total_long_distance_charges  total_revenue  customer_status  \\\n",
       "0                         0.00          59.65                1   \n",
       "1                       390.80        1024.10                1   \n",
       "2                       203.94        1910.88                1   \n",
       "3                       494.00        2995.07                1   \n",
       "4                       234.21        3102.36                1   \n",
       "\n",
       "   internet_service_Fiber optic  internet_service_No  contract_One year  \\\n",
       "0                             0                    0                  0   \n",
       "1                             1                    0                  0   \n",
       "2                             1                    0                  0   \n",
       "3                             1                    0                  0   \n",
       "4                             1                    0                  0   \n",
       "\n",
       "   contract_Two year  payment_method_Credit card (automatic)  \\\n",
       "0                  0                                       0   \n",
       "1                  0                                       1   \n",
       "2                  0                                       0   \n",
       "3                  0                                       0   \n",
       "4                  0                                       0   \n",
       "\n",
       "   payment_method_Electronic check  payment_method_Mailed check  \\\n",
       "0                                1                            0   \n",
       "1                                0                            0   \n",
       "2                                1                            0   \n",
       "3                                1                            0   \n",
       "4                                1                            0   \n",
       "\n",
       "   offer_Offer A  offer_Offer B  offer_Offer C  offer_Offer D  offer_Offer E  \\\n",
       "0              0              0              0              0              0   \n",
       "1              0              0              0              0              1   \n",
       "2              0              0              0              1              0   \n",
       "3              0              0              1              0              0   \n",
       "4              0              0              1              0              0   \n",
       "\n",
       "   cluster_minimalist  cluster_price_sensitive  cluster_vanilla  \n",
       "0                   0                        1                0  \n",
       "1                   0                        1                0  \n",
       "2                   0                        1                0  \n",
       "3                   0                        1                0  \n",
       "4                   0                        1                0  "
      ]
     },
     "execution_count": 4,
     "metadata": {},
     "output_type": "execute_result"
    }
   ],
   "source": [
    "telco_dummified = pd.get_dummies(telco, drop_first=True)\n",
    "telco_dummified.head()"
   ]
  },
  {
   "cell_type": "markdown",
   "id": "54ca16a0",
   "metadata": {},
   "source": [
    "### 4.2.2 Train Test Split"
   ]
  },
  {
   "cell_type": "code",
   "execution_count": 5,
   "id": "f47d0cca",
   "metadata": {},
   "outputs": [],
   "source": [
    "X = telco_dummified.drop(columns=['customer_status'])\n",
    "y = telco_dummified.customer_status"
   ]
  },
  {
   "cell_type": "code",
   "execution_count": 6,
   "id": "b25dc78c",
   "metadata": {},
   "outputs": [],
   "source": [
    "#split with stratify and test size 20%\n",
    "X_train, X_test, y_train, y_test = train_test_split(X, y,\n",
    "                                                   stratify = y, \n",
    "                                                    test_size=0.2,\n",
    "                                                   random_state=42)"
   ]
  },
  {
   "cell_type": "markdown",
   "id": "e400f5ec",
   "metadata": {},
   "source": [
    "## 4.3 Modelling "
   ]
  },
  {
   "cell_type": "markdown",
   "id": "e5063a37",
   "metadata": {},
   "source": [
    "### 4.3.1 Baseline Accuracy "
   ]
  },
  {
   "cell_type": "code",
   "execution_count": 7,
   "id": "61025285",
   "metadata": {
    "scrolled": true
   },
   "outputs": [
    {
     "name": "stdout",
     "output_type": "stream",
     "text": [
      "Dataset: 73.46% for Class 0 and 26.54% for Class 1\n"
     ]
    }
   ],
   "source": [
    "baseline = y.value_counts(normalize=True)\n",
    "print(f'Dataset: {(baseline[0]*100):.2f}% for Class 0 and {(baseline[1]*100):.2f}% for Class 1')"
   ]
  },
  {
   "cell_type": "markdown",
   "id": "0c3b671f",
   "metadata": {},
   "source": [
    "At first review, we note that the dataset is already unbalanced with 73% retained customers. In order for the modeling prediction to provide a better insights, we will provide bootstrapping on the target (churn customers) to balance out the Baseline score. "
   ]
  },
  {
   "cell_type": "code",
   "execution_count": 8,
   "id": "f6b4b68e",
   "metadata": {},
   "outputs": [
    {
     "name": "stdout",
     "output_type": "stream",
     "text": [
      "Accuracy score : 0.735\n",
      "Balanced accuracy score : 0.500\n"
     ]
    }
   ],
   "source": [
    "dummy_clf = DummyClassifier(strategy=\"most_frequent\")\n",
    "scoring = [\"accuracy\", \"balanced_accuracy\"]\n",
    "cv_result = cross_validate(dummy_clf, X, y, scoring=scoring)\n",
    "print(f\"Accuracy score : {cv_result['test_accuracy'].mean():.3f}\")\n",
    "print(f\"Balanced accuracy score : {cv_result['test_balanced_accuracy'].mean():.3f}\")"
   ]
  },
  {
   "cell_type": "markdown",
   "id": "70a74bab",
   "metadata": {},
   "source": [
    "Ideally, the balance dataset accuracy would be 50% hence this will be the used benchmark for the model prediction accuracy. We will use several classifier models paired with standard scaling, SMOTE via oversampling and classifier models in the pipeline for Gridsearch. "
   ]
  },
  {
   "cell_type": "markdown",
   "id": "1ac6a426",
   "metadata": {},
   "source": [
    "### 4.3.2 Logistic Regression with SMOTE"
   ]
  },
  {
   "cell_type": "code",
   "execution_count": 9,
   "id": "37e3ec3f",
   "metadata": {},
   "outputs": [
    {
     "name": "stdout",
     "output_type": "stream",
     "text": [
      "Logistic Regression Training Accuracy: 0.783\n",
      "Logistic Regression Testing Accuracy: 0.785\n",
      "\n",
      "\n"
     ]
    },
    {
     "data": {
      "text/plain": [
       "{'logreg__C': 0.01,\n",
       " 'logreg__class_weight': 'balanced',\n",
       " 'logreg__penalty': 'l2',\n",
       " 'logreg__solver': 'lbfgs'}"
      ]
     },
     "execution_count": 9,
     "metadata": {},
     "output_type": "execute_result"
    }
   ],
   "source": [
    "#Instantiate pipeline \n",
    "pipe = Pipeline([\n",
    "    ('ss' , StandardScaler()),\n",
    "    ('oversample', SMOTE(random_state=42)),\n",
    "    ('logreg', LogisticRegression(random_state=42, max_iter=10000))\n",
    "])\n",
    "\n",
    "#set pipe params\n",
    "pipe_params = {\n",
    "    'logreg__penalty' : ['l2'],\n",
    "    'logreg__solver' : ['lbfgs'],\n",
    "    'logreg__C': np.logspace(-2, 1, 1),\n",
    "    'logreg__class_weight':[\"balanced\"]\n",
    "}\n",
    "\n",
    "#gridsearch\n",
    "gs = GridSearchCV(pipe, pipe_params,  cv=5,n_jobs=-1, scoring='accuracy')\n",
    "#fit model\n",
    "gs.fit(X_train, y_train)\n",
    "best_logreg = gs.best_estimator_\n",
    "\n",
    "print(f'Logistic Regression Training Accuracy: {best_logreg.score(X_train, y_train):.3f}')\n",
    "print(f'Logistic Regression Testing Accuracy: {best_logreg.score(X_test, y_test):.3f}')\n",
    "print('\\n')\n",
    "gs.best_params_"
   ]
  },
  {
   "cell_type": "markdown",
   "id": "0bd47524",
   "metadata": {},
   "source": [
    "### 4.3.3 Random Forests with SMOTE"
   ]
  },
  {
   "cell_type": "code",
   "execution_count": 10,
   "id": "474c8b65",
   "metadata": {},
   "outputs": [
    {
     "name": "stdout",
     "output_type": "stream",
     "text": [
      "Random Forest Training Accuracy: 0.820\n",
      "Random Forest Testing Accuracy: 0.806\n",
      "\n",
      "\n"
     ]
    },
    {
     "data": {
      "text/plain": [
       "{'rf__max_depth': 7, 'rf__n_estimators': 100}"
      ]
     },
     "execution_count": 10,
     "metadata": {},
     "output_type": "execute_result"
    }
   ],
   "source": [
    "#Instantiate pipeline \n",
    "pipe = Pipeline([\n",
    "    ('ss' , StandardScaler()),\n",
    "    ('oversample', SMOTE(random_state=42)),\n",
    "    ('rf', RandomForestClassifier(random_state=42))\n",
    "])\n",
    "\n",
    "#set pipe params\n",
    "pipe_params = {\n",
    "    'rf__n_estimators': [100],\n",
    "    'rf__max_depth': [7],\n",
    "}\n",
    "\n",
    "#gridsearch\n",
    "gs = GridSearchCV(pipe, pipe_params,  cv=5, n_jobs=-1, scoring='accuracy')\n",
    "#fit model\n",
    "gs.fit(X_train, y_train)\n",
    "best_rf = gs.best_estimator_\n",
    "\n",
    "print(f'Random Forest Training Accuracy: {best_rf.score(X_train, y_train):.3f}')\n",
    "print(f'Random Forest Testing Accuracy: {best_rf.score(X_test, y_test):.3f}')\n",
    "print('\\n')\n",
    "gs.best_params_"
   ]
  },
  {
   "cell_type": "markdown",
   "id": "6026ad29",
   "metadata": {},
   "source": [
    "### 4.3.4 Support Vector Machine (SVM) with SMOTE"
   ]
  },
  {
   "cell_type": "code",
   "execution_count": 11,
   "id": "876e6b71",
   "metadata": {},
   "outputs": [
    {
     "name": "stdout",
     "output_type": "stream",
     "text": [
      "Support Vector Machine Training Accuracy: 0.795\n",
      "Support Vector Machine Testing Accuracy:0.789\n",
      "\n",
      "\n"
     ]
    },
    {
     "data": {
      "text/plain": [
       "{'svc__C': 0.01, 'svc__kernel': 'rbf'}"
      ]
     },
     "execution_count": 11,
     "metadata": {},
     "output_type": "execute_result"
    }
   ],
   "source": [
    "#Instantiate pipeline \n",
    "pipe = Pipeline([\n",
    "    ('ss' , StandardScaler()),\n",
    "    ('oversample', SMOTE(random_state=42)),\n",
    "    ('svc', SVC(random_state=42))\n",
    "])\n",
    "\n",
    "#set pipe params\n",
    "pipe_params = {\n",
    "    'svc__kernel': ['rbf'],\n",
    "    'svc__C': [0.01],\n",
    "}\n",
    "\n",
    "#gridsearch\n",
    "gs = GridSearchCV(pipe, pipe_params,  cv=5,n_jobs=-1, scoring='accuracy')\n",
    "#fit model\n",
    "gs.fit(X_train, y_train)\n",
    "best_svc = gs.best_estimator_\n",
    "\n",
    "print(f'Support Vector Machine Training Accuracy: {best_svc.score(X_train, y_train):.3f}')\n",
    "print(f'Support Vector Machine Testing Accuracy:{ best_svc.score(X_test, y_test):.3f}')\n",
    "print('\\n')\n",
    "gs.best_params_"
   ]
  },
  {
   "cell_type": "markdown",
   "id": "d65c7fd8",
   "metadata": {},
   "source": [
    "## 4.4 Model Selection"
   ]
  },
  {
   "cell_type": "markdown",
   "id": "eb61e32d",
   "metadata": {},
   "source": [
    "We have the logistic regression model, random forest and support vector machine fed with the train and test dataset to measure for its accuracy in prediction. "
   ]
  },
  {
   "cell_type": "code",
   "execution_count": 12,
   "id": "ff5b8484",
   "metadata": {},
   "outputs": [
    {
     "data": {
      "text/html": [
       "<div>\n",
       "<style scoped>\n",
       "    .dataframe tbody tr th:only-of-type {\n",
       "        vertical-align: middle;\n",
       "    }\n",
       "\n",
       "    .dataframe tbody tr th {\n",
       "        vertical-align: top;\n",
       "    }\n",
       "\n",
       "    .dataframe thead th {\n",
       "        text-align: right;\n",
       "    }\n",
       "</style>\n",
       "<table border=\"1\" class=\"dataframe\">\n",
       "  <thead>\n",
       "    <tr style=\"text-align: right;\">\n",
       "      <th></th>\n",
       "      <th>Model</th>\n",
       "      <th>Training Accuracy</th>\n",
       "      <th>Test Accuracy</th>\n",
       "    </tr>\n",
       "  </thead>\n",
       "  <tbody>\n",
       "    <tr>\n",
       "      <th>0</th>\n",
       "      <td>Balanced Baseline</td>\n",
       "      <td>0.500</td>\n",
       "      <td>0.500</td>\n",
       "    </tr>\n",
       "    <tr>\n",
       "      <th>1</th>\n",
       "      <td>Logistic Regression</td>\n",
       "      <td>0.783</td>\n",
       "      <td>0.785</td>\n",
       "    </tr>\n",
       "    <tr>\n",
       "      <th>2</th>\n",
       "      <td>Random Forest</td>\n",
       "      <td>0.820</td>\n",
       "      <td>0.806</td>\n",
       "    </tr>\n",
       "    <tr>\n",
       "      <th>3</th>\n",
       "      <td>Support Vector Machine</td>\n",
       "      <td>0.795</td>\n",
       "      <td>0.789</td>\n",
       "    </tr>\n",
       "  </tbody>\n",
       "</table>\n",
       "</div>"
      ],
      "text/plain": [
       "                    Model  Training Accuracy  Test Accuracy\n",
       "0       Balanced Baseline              0.500          0.500\n",
       "1     Logistic Regression              0.783          0.785\n",
       "2           Random Forest              0.820          0.806\n",
       "3  Support Vector Machine              0.795          0.789"
      ]
     },
     "execution_count": 12,
     "metadata": {},
     "output_type": "execute_result"
    }
   ],
   "source": [
    "#display result in dataframe\n",
    "model_df = pd.DataFrame({\n",
    "    'Model' :['Balanced Baseline','Logistic Regression','Random Forest', 'Support Vector Machine'],\n",
    "    'Training Accuracy' : [0.500, best_logreg.score(X_train, y_train), best_rf.score(X_train, y_train), best_svc.score(X_train, y_train)],\n",
    "    'Test Accuracy' : [0.500 ,best_logreg.score(X_test, y_test), best_rf.score(X_test, y_test), best_svc.score(X_test, y_test)]\n",
    "})\n",
    "\n",
    "model_df[['Training Accuracy', 'Test Accuracy']] = model_df[['Training Accuracy', 'Test Accuracy']].round(3)\n",
    "model_df"
   ]
  },
  {
   "cell_type": "markdown",
   "id": "ca8d8b3c",
   "metadata": {},
   "source": [
    "Random Forest with SMOTE has scored the highest testing accuracy compared to all other models. This model with its hyperparameters will be used in for the deployment model. \n",
    "\n",
    "We will also review its feature importance using Logistic Regression. Further details are in Section 4.7. "
   ]
  },
  {
   "cell_type": "markdown",
   "id": "669758b6",
   "metadata": {},
   "source": [
    "## 4.5 Additional : Neural Networks "
   ]
  },
  {
   "cell_type": "markdown",
   "id": "eab21b71",
   "metadata": {},
   "source": [
    "Next, we will put neural network in trial. In the model, we are using 4 hidden layers with ReLu activation and 1 sigmoid output layer. Early stopping was deployed to the model upon convergence of accuracy."
   ]
  },
  {
   "cell_type": "code",
   "execution_count": 13,
   "id": "b3884bd0",
   "metadata": {},
   "outputs": [
    {
     "name": "stdout",
     "output_type": "stream",
     "text": [
      "Epoch 1/80\n",
      "33/33 [==============================] - 1s 21ms/step - loss: 2.7197 - accuracy: 0.5042 - val_loss: 2.3007 - val_accuracy: 0.7651\n",
      "Epoch 2/80\n",
      "33/33 [==============================] - 0s 3ms/step - loss: 2.2122 - accuracy: 0.5898 - val_loss: 1.8405 - val_accuracy: 0.7488\n",
      "Epoch 3/80\n",
      "33/33 [==============================] - 0s 3ms/step - loss: 1.7754 - accuracy: 0.6920 - val_loss: 1.4277 - val_accuracy: 0.7367\n",
      "Epoch 4/80\n",
      "33/33 [==============================] - 0s 3ms/step - loss: 1.4112 - accuracy: 0.7450 - val_loss: 1.1390 - val_accuracy: 0.7459\n",
      "Epoch 5/80\n",
      "33/33 [==============================] - 0s 4ms/step - loss: 1.1256 - accuracy: 0.7787 - val_loss: 0.9224 - val_accuracy: 0.7559\n",
      "Epoch 6/80\n",
      "33/33 [==============================] - 0s 4ms/step - loss: 0.8971 - accuracy: 0.7903 - val_loss: 0.7518 - val_accuracy: 0.7644\n",
      "Epoch 7/80\n",
      "33/33 [==============================] - 0s 4ms/step - loss: 0.7292 - accuracy: 0.7937 - val_loss: 0.6186 - val_accuracy: 0.7814\n",
      "Epoch 8/80\n",
      "33/33 [==============================] - 0s 4ms/step - loss: 0.6130 - accuracy: 0.8017 - val_loss: 0.5578 - val_accuracy: 0.7757\n",
      "Epoch 9/80\n",
      "33/33 [==============================] - 0s 3ms/step - loss: 0.5429 - accuracy: 0.8108 - val_loss: 0.5288 - val_accuracy: 0.7729\n",
      "Epoch 10/80\n",
      "33/33 [==============================] - 0s 3ms/step - loss: 0.5132 - accuracy: 0.8151 - val_loss: 0.4945 - val_accuracy: 0.7821\n",
      "Epoch 11/80\n",
      "33/33 [==============================] - 0s 3ms/step - loss: 0.4915 - accuracy: 0.8190 - val_loss: 0.4882 - val_accuracy: 0.7878\n"
     ]
    }
   ],
   "source": [
    "#standardscale\n",
    "ss = StandardScaler()\n",
    "X_train_sc = ss.fit_transform(X_train)\n",
    "X_test_sc = ss.transform(X_test)\n",
    "\n",
    "#oversampling\n",
    "over = SMOTE(random_state=42)\n",
    "X_train_res, y_train_res = over.fit_resample(X_train_sc, y_train)\n",
    "\n",
    "#define row and cols\n",
    "m, n_features = X_train.shape\n",
    "\n",
    "#instantiate model\n",
    "model = Sequential()\n",
    "\n",
    "#add 4 hidden layer with dropout \n",
    "model.add(Dense(n_features, input_dim=n_features, activation='relu', kernel_regularizer='l1'))\n",
    "model.add(Dense(64, activation='relu'))\n",
    "model.add(Dropout(0.5))\n",
    "model.add(Dense(128, activation='relu'))\n",
    "model.add(Dropout(0.5))\n",
    "model.add(Dense(64, activation='relu'))\n",
    "model.add(Dropout(0.5))\n",
    "model.add(Dense(32, activation='relu'))\n",
    "model.add(Dropout(0.5))\n",
    "\n",
    "#output with sigmoid \n",
    "model.add(Dense(1, activation='sigmoid'))\n",
    "\n",
    "#compile model\n",
    "model.compile(loss='binary_crossentropy', optimizer='adam', metrics=['accuracy'])\n",
    "#add early stoppage\n",
    "early_stop = EarlyStopping(monitor='val_accuracy', min_delta=0.05, patience=10)\n",
    "\n",
    "#fit data with epochs 80, mini batch 256 and apply early stoppage \n",
    "hist = model.fit(X_train_res, y_train_res, validation_data=(X_test_sc, y_test), epochs=80, \n",
    "                 batch_size=256, callbacks=[early_stop])"
   ]
  },
  {
   "cell_type": "code",
   "execution_count": 14,
   "id": "5f343065",
   "metadata": {},
   "outputs": [
    {
     "data": {
      "image/png": "[encoded data removed]",
      "text/plain": [
       "<Figure size 864x576 with 1 Axes>"
      ]
     },
     "metadata": {
      "needs_background": "light"
     },
     "output_type": "display_data"
    }
   ],
   "source": [
    "#plot accuracy for train and test \n",
    "plt.figure(figsize=(12, 8))\n",
    "plt.plot(hist.history['accuracy'], label='Train accuracy')\n",
    "plt.plot(hist.history['val_accuracy'], label='Val accuracy')\n",
    "plt.title('Neural Networks Train and Test Accuracy')\n",
    "plt.legend();"
   ]
  },
  {
   "cell_type": "code",
   "execution_count": 15,
   "id": "4330332c",
   "metadata": {
    "scrolled": true
   },
   "outputs": [
    {
     "name": "stdout",
     "output_type": "stream",
     "text": [
      "Neural Network Train Accuracy: 0.794\n",
      "Neural Network Test Accuracy: 0.788\n"
     ]
    }
   ],
   "source": [
    "#accuracy value for train and test set\n",
    "nn_train_accuracy = model.evaluate(X_train_sc, y_train, verbose=0)[1]\n",
    "nn_test_accuracy = model.evaluate(X_test_sc, y_test, verbose=0)[1]\n",
    "print(f'Neural Network Train Accuracy: {nn_train_accuracy:.3f}')\n",
    "print(f'Neural Network Test Accuracy: {nn_test_accuracy:.3f}')"
   ]
  },
  {
   "cell_type": "markdown",
   "id": "c8e4ffd7",
   "metadata": {},
   "source": [
    "The training and testing accuracy of the neural network has not been able to outperform the random forest model. As such, we will continue to use random forest as the final model for deployment."
   ]
  },
  {
   "cell_type": "markdown",
   "id": "0984239f",
   "metadata": {},
   "source": [
    "## 4.6 Model Prediction "
   ]
  },
  {
   "cell_type": "markdown",
   "id": "ca4a96f9",
   "metadata": {},
   "source": [
    "Besides the training and test split testing accuracy, we will also feed the selected model with the entire dataset for evaluation. We will review this is two parts, one of which is the confusion matrix and the other with precision-recall plot. "
   ]
  },
  {
   "cell_type": "code",
   "execution_count": 16,
   "id": "424c94b0",
   "metadata": {},
   "outputs": [
    {
     "data": {
      "text/html": [
       "<div>\n",
       "<style scoped>\n",
       "    .dataframe tbody tr th:only-of-type {\n",
       "        vertical-align: middle;\n",
       "    }\n",
       "\n",
       "    .dataframe tbody tr th {\n",
       "        vertical-align: top;\n",
       "    }\n",
       "\n",
       "    .dataframe thead th {\n",
       "        text-align: right;\n",
       "    }\n",
       "</style>\n",
       "<table border=\"1\" class=\"dataframe\">\n",
       "  <thead>\n",
       "    <tr style=\"text-align: right;\">\n",
       "      <th></th>\n",
       "      <th>true_values</th>\n",
       "      <th>preds_value</th>\n",
       "    </tr>\n",
       "  </thead>\n",
       "  <tbody>\n",
       "    <tr>\n",
       "      <th>0</th>\n",
       "      <td>1</td>\n",
       "      <td>1</td>\n",
       "    </tr>\n",
       "    <tr>\n",
       "      <th>1</th>\n",
       "      <td>1</td>\n",
       "      <td>1</td>\n",
       "    </tr>\n",
       "    <tr>\n",
       "      <th>2</th>\n",
       "      <td>1</td>\n",
       "      <td>1</td>\n",
       "    </tr>\n",
       "    <tr>\n",
       "      <th>3</th>\n",
       "      <td>1</td>\n",
       "      <td>1</td>\n",
       "    </tr>\n",
       "    <tr>\n",
       "      <th>4</th>\n",
       "      <td>1</td>\n",
       "      <td>1</td>\n",
       "    </tr>\n",
       "  </tbody>\n",
       "</table>\n",
       "</div>"
      ],
      "text/plain": [
       "   true_values  preds_value\n",
       "0            1            1\n",
       "1            1            1\n",
       "2            1            1\n",
       "3            1            1\n",
       "4            1            1"
      ]
     },
     "execution_count": 16,
     "metadata": {},
     "output_type": "execute_result"
    }
   ],
   "source": [
    "#standardscale \n",
    "X_sc = StandardScaler().fit_transform(X)\n",
    "\n",
    "#apply rf model\n",
    "best_model = best_rf.named_steps['rf']\n",
    "#predict churn with trained model\n",
    "y_preds = best_model.predict(X_sc)\n",
    "y_preds = pd.DataFrame(y_preds)[0]\n",
    "\n",
    "#compare ytest and prediction\n",
    "pred_df = pd.merge(y, pd.DataFrame(y_preds.astype(int)), left_index=True, right_index=True)\n",
    "pred_df = pred_df.rename(columns={'customer_status':'true_values',0:'preds_value'})\n",
    "pred_df.head()"
   ]
  },
  {
   "cell_type": "markdown",
   "id": "9e71c8ea",
   "metadata": {},
   "source": [
    "### 4.6.1 Confusion Matrix"
   ]
  },
  {
   "cell_type": "code",
   "execution_count": 17,
   "id": "77f29444",
   "metadata": {},
   "outputs": [
    {
     "name": "stdout",
     "output_type": "stream",
     "text": [
      "True Negatives: 3973\n",
      "False Positives: 1201\n",
      "False Negatives: 261\n",
      "True Positives: 1608\n"
     ]
    }
   ],
   "source": [
    "#measure prediction in confusion matrix\n",
    "cm = confusion_matrix(y, y_preds)\n",
    "\n",
    "# ravel cm values\n",
    "tn,fp,fn,tp = cm.ravel()\n",
    "\n",
    "print(f'True Negatives: {tn}') #predict stay and stayed\n",
    "print(f'False Positives: {fp}') #predict churn but stayed\n",
    "print(f'False Negatives: {fn}') #predict stay but churn\n",
    "print(f'True Positives: {tp}') #predict churn and churned"
   ]
  },
  {
   "cell_type": "code",
   "execution_count": 18,
   "id": "9ad63ff6",
   "metadata": {},
   "outputs": [
    {
     "data": {
      "image/png": "[encoded data removed]",
      "text/plain": [
       "<Figure size 576x576 with 2 Axes>"
      ]
     },
     "metadata": {
      "needs_background": "light"
     },
     "output_type": "display_data"
    }
   ],
   "source": [
    "plt.figure(figsize=(8,8))\n",
    "sns.heatmap(cm, annot=True, fmt=\"d\", cmap='Blues',square=True, cbar_kws={'shrink':0.8}, annot_kws={'fontsize':14})\n",
    "plt.title('Confusion Matrix',fontsize=16)\n",
    "plt.ylabel('Actual Churn', fontsize=14)\n",
    "plt.xlabel('Predicted Churn', fontsize=14)\n",
    "# plt.savefig('../images/confusion_matrix.png')\n",
    "\n",
    "plt.show()"
   ]
  },
  {
   "cell_type": "markdown",
   "id": "ff8c0564",
   "metadata": {},
   "source": [
    "*Interpretation: The prediction shows 1201 of false positives and 261 false negatives. In the prespective of predicting churn customers, we are more concern in both parameters. False postives could provide an insight as to if these are customer that is soon to churn, whereas false negatives gives us an outlook on the model prediction ability.*"
   ]
  },
  {
   "cell_type": "code",
   "execution_count": 19,
   "id": "bf5d2dbe",
   "metadata": {},
   "outputs": [
    {
     "name": "stdout",
     "output_type": "stream",
     "text": [
      "Sensitivity:  0.86\n",
      "Specificity:  0.77\n",
      "Precision: 0.57\n",
      "Accuracy:  0.79\n",
      "Misclassification:  0.21\n"
     ]
    }
   ],
   "source": [
    "#prediction metrics\n",
    "sensitivity = tp / (tp + fn)\n",
    "specificity = tn / (tn + fp)\n",
    "precision = tp / (fp + tp) \n",
    "\n",
    "print(\"Sensitivity: \", round(sensitivity,2))\n",
    "print(\"Specificity: \", round(specificity,2))\n",
    "print(\"Precision:\", round(precision ,2))\n",
    "print(\"Accuracy: \", round((tn + tp) / (tn + fp + tp + fn),2))\n",
    "print(\"Misclassification: \", round((1-(tn + tp) / (tn + fp + tp + fn)),2))"
   ]
  },
  {
   "cell_type": "markdown",
   "id": "82a0417d",
   "metadata": {},
   "source": [
    "The model accuracy is a fair performance but as a sole metric, it would be misleading. The churn prediction model for precision is only shy below 60% while specificity on loyal customers are only ay 77%.\n",
    "\n",
    "We will look into the precision recall plot next for further analysis on the model performance as after all recall can be thought as of a model’s ability to find all the data points of interest in a dataset."
   ]
  },
  {
   "cell_type": "markdown",
   "id": "529403a7",
   "metadata": {},
   "source": [
    "### 4.6.2 Precision Recall"
   ]
  },
  {
   "cell_type": "markdown",
   "id": "28f2f2cc",
   "metadata": {},
   "source": [
    "As in all cases, for higher recall, it is a trade off that affects precision. Hence, we also calculate the f1 score, also known as the harmonic mean score of both precision and recall, which is extremely useful in most scenarios when we are working with imbalanced datasets. "
   ]
  },
  {
   "cell_type": "code",
   "execution_count": 20,
   "id": "d5012659",
   "metadata": {},
   "outputs": [
    {
     "name": "stdout",
     "output_type": "stream",
     "text": [
      "Random Forest: f1=0.69 auc=0.73\n"
     ]
    },
    {
     "data": {
      "image/png": "[encoded data removed]",
      "text/plain": [
       "<Figure size 1080x720 with 1 Axes>"
      ]
     },
     "metadata": {
      "needs_background": "light"
     },
     "output_type": "display_data"
    }
   ],
   "source": [
    "# calculate precision-recall curve\n",
    "precision, recall, thresholds = precision_recall_curve(y, y_preds)\n",
    "f1_val = f1_score(y, y_preds)\n",
    "auc_val = auc(recall, precision)\n",
    "\n",
    "# summarize scores\n",
    "print(f'Random Forest: f1={f1_val:.2f} auc={auc_val:.2f}')\n",
    "\n",
    "#plot precision recall curve for RF model\n",
    "fig, ax = plt.subplots(figsize=(15, 10))\n",
    "\n",
    "# precision_recall_curve(best_model,X,y,ax=ax)\n",
    "plt.plot([0,1],[0.5,0.5], color='tab:orange', linestyle='--', label='Baseline')\n",
    "plt.plot(recall, precision, marker='.', label='Random Forest')\n",
    "\n",
    "plt.title('Precision Recall Curve - Random Forest + SMOTE Model')\n",
    "plt.ylabel('Precision')\n",
    "plt.xlabel('Recall')\n",
    "plt.legend()\n",
    "# plt.savefig('../images/precision_recall.png')\n",
    "plt.show()"
   ]
  },
  {
   "cell_type": "markdown",
   "id": "fea28128",
   "metadata": {},
   "source": [
    "With F1 score of 0.69 and AUC score of 0.73. \n",
    "In simplest terms, this means that the model will be able to distinguish the churn customers and those who stayed 73% of the time."
   ]
  },
  {
   "cell_type": "markdown",
   "id": "a2ab7e29",
   "metadata": {},
   "source": [
    "## 4.7 Statistical Inference"
   ]
  },
  {
   "cell_type": "markdown",
   "id": "b014989c",
   "metadata": {},
   "source": [
    "In alternative to discern the important features in affecting customer churn, we will use logistic regression model with its coefficient for evaluation."
   ]
  },
  {
   "cell_type": "code",
   "execution_count": 21,
   "id": "e2e1e373",
   "metadata": {},
   "outputs": [
    {
     "data": {
      "text/plain": [
       "number_of_referrals                       1.113799\n",
       "contract_Two year                         0.663555\n",
       "number_of_dependents                      0.485552\n",
       "married                                   0.465840\n",
       "internet_service_Fiber optic              0.425056\n",
       "total_revenue                             0.378793\n",
       "contract_One year                         0.354371\n",
       "payment_method_Electronic check           0.189399\n",
       "tech_support                              0.172013\n",
       "paperless_billing                         0.158465\n",
       "internet_service_No                       0.154204\n",
       "online_backup                             0.148416\n",
       "online_security                           0.143817\n",
       "offer_Offer E                             0.142401\n",
       "offer_Offer D                             0.139483\n",
       "streaming_music                           0.125950\n",
       "offer_Offer C                             0.124515\n",
       "cluster_minimalist                        0.115894\n",
       "streaming_tv                              0.112633\n",
       "offer_Offer A                             0.105567\n",
       "total_refunds                             0.089263\n",
       "unlimited_data                            0.084227\n",
       "total_long_distance_charges               0.081698\n",
       "offer_Offer B                             0.074572\n",
       "total_extra_data_charges                  0.072356\n",
       "multiple_lines                            0.068401\n",
       "under_30                                  0.053720\n",
       "age                                       0.040621\n",
       "payment_method_Credit card (automatic)    0.030989\n",
       "phone_service                             0.027965\n",
       "gender                                    0.027741\n",
       "cltv                                      0.024838\n",
       "streaming_movies                          0.019594\n",
       "device_protection                         0.013187\n",
       "avg_monthly_gb_download                   0.009642\n",
       "senior_citizen                            0.006587\n",
       "cluster_price_sensitive                   0.005917\n",
       "payment_method_Mailed check               0.005084\n",
       "cluster_vanilla                           0.003948\n",
       "dtype: float64"
      ]
     },
     "execution_count": 21,
     "metadata": {},
     "output_type": "execute_result"
    }
   ],
   "source": [
    "#identify driving coef \n",
    "important_coef = pd.Series(best_logreg.named_steps['logreg'].coef_[0],X.columns)\n",
    "important_coef.abs().sort_values(ascending=False)"
   ]
  },
  {
   "cell_type": "markdown",
   "id": "782e7de1",
   "metadata": {},
   "source": [
    "From the initial logistic regression coef, we have identified the top 20 columns that has prominent affect to the customer churn. Next, we will retrain the model for features and target without standard scaling in order to measure the odds of each feature. "
   ]
  },
  {
   "cell_type": "markdown",
   "id": "13750d1d",
   "metadata": {},
   "source": [
    "### 4.7.1 Important Features"
   ]
  },
  {
   "cell_type": "code",
   "execution_count": 22,
   "id": "ca6698d5",
   "metadata": {},
   "outputs": [
    {
     "name": "stdout",
     "output_type": "stream",
     "text": [
      "Accuracy: 0.78\n"
     ]
    }
   ],
   "source": [
    "#select top 20 columns\n",
    "important_cols = important_coef.abs().sort_values().tail(20).index\n",
    "\n",
    "#specifiy train and target\n",
    "X_imp = telco_dummified[important_cols]\n",
    "y_imp = telco_dummified.customer_status\n",
    "\n",
    "#Instantiate pipeline without standardscale\n",
    "pipe = Pipeline([\n",
    "    ('oversample', SMOTE(random_state=42)),\n",
    "    ('logreg', LogisticRegression(random_state=42, max_iter=10000))\n",
    "])\n",
    "\n",
    "#set pipe params\n",
    "pipe_params = {\n",
    "    'logreg__penalty' : ['l2'],\n",
    "    'logreg__solver' : ['liblinear'],\n",
    "    'logreg__C': np.logspace(-2, 1, 1),\n",
    "    'logreg__class_weight':[\"balanced\",]\n",
    "}\n",
    "\n",
    "#gridsearch\n",
    "gs = GridSearchCV(pipe, pipe_params,  cv=5,n_jobs=-1, scoring='accuracy')\n",
    "#fit model\n",
    "gs.fit(X_imp, y_imp)\n",
    "best_logreg = gs.best_estimator_\n",
    "\n",
    "print(f'Accuracy: {best_logreg.score(X_imp, y_imp):.2f}')"
   ]
  },
  {
   "cell_type": "code",
   "execution_count": 23,
   "id": "23033712",
   "metadata": {
    "scrolled": false
   },
   "outputs": [
    {
     "data": {
      "text/plain": [
       "contract_Two year                  0.400121\n",
       "contract_One year                  0.442496\n",
       "online_security                    0.454546\n",
       "cluster_minimalist                 0.460267\n",
       "internet_service_No                0.463049\n",
       "tech_support                       0.481889\n",
       "number_of_dependents               0.620537\n",
       "online_backup                      0.628828\n",
       "number_of_referrals                0.690767\n",
       "offer_Offer D                      0.693603\n",
       "offer_Offer C                      0.751075\n",
       "streaming_music                    0.876154\n",
       "offer_Offer A                      0.878784\n",
       "total_revenue                      0.999936\n",
       "streaming_tv                       1.058495\n",
       "payment_method_Electronic check    1.111620\n",
       "paperless_billing                  1.133965\n",
       "offer_Offer E                      1.189837\n",
       "married                            1.501712\n",
       "internet_service_Fiber optic       2.000687\n",
       "dtype: float64"
      ]
     },
     "execution_count": 23,
     "metadata": {},
     "output_type": "execute_result"
    }
   ],
   "source": [
    "#evaluate coef in odds\n",
    "pd.Series(np.exp(best_logreg.named_steps['logreg'].coef_[0]),X_imp.columns).sort_values()"
   ]
  },
  {
   "cell_type": "markdown",
   "id": "af3165e4",
   "metadata": {},
   "source": [
    "From the above analysis in priority, with married users are 1.51 times more likely to churn, whereas contract users of two years are 0.43 times more likely to stay. In summary, internet_service using fiber optic, payment method using electronic check, offer E, and streaming tv services are features that the business needs to look into. \n",
    "\n",
    "**Questions to ask:**\n",
    "\n",
    "1. Does *Offer E* has an combination of promotion that has high turnover rate? If yes, what can be done to improve the promotional value of Offer E, else shall Offer E be terminated entirely and be replaced.\n",
    "\n",
    "2. Does 50% of the *internet service users of fiber optic* has difficulty in connectivity? Is the logistic support for performance of the fiber optic well optimized for the majority of the user base. Is the technical support team well equipt with the knowledge to assist users in need?\n",
    "\n",
    "3. Does the payment using *electronic check* issue inconvenience to users during payment? If other payment method is viable, is the a lack of information of other payment methods made known to users?\n",
    "\n",
    "4. Does *streaming tv* shows encounter data limitation? If there is connectivity issues, are these due to lack of infrastucture to support the signal transmissons?"
   ]
  },
  {
   "cell_type": "markdown",
   "id": "c40e6b9d",
   "metadata": {},
   "source": [
    "Alternatively, the contracts offers, online security, tech support, online back up has prove to be a value-added service to the users as the subscription to it led to user more likely to stay with the business. "
   ]
  },
  {
   "cell_type": "markdown",
   "id": "bcd7addf",
   "metadata": {},
   "source": [
    "### 4.7.2 False Positive and False Negative Misclassification"
   ]
  },
  {
   "cell_type": "markdown",
   "id": "54b2c763",
   "metadata": {},
   "source": [
    "In the confusion matrix in Section 4.6.1,we have identified false positive number of 1201 users and False Negative of 261 users. In this section, we will analyse only the false positive users to verify if the classes were fairly predicted by the model. While for the false negative users, we will run an additional comparison using survivial analysis in the next notebook to evaluate the prediction with our current model."
   ]
  },
  {
   "cell_type": "code",
   "execution_count": 24,
   "id": "3b6c7c8e",
   "metadata": {},
   "outputs": [],
   "source": [
    "#predicted to churn but stay\n",
    "false_po = pred_df[(pred_df.true_values == 0) & (pred_df.preds_value == 1)]\n",
    "false_po.to_csv('../data/telco_false_po.csv')\n",
    "\n",
    "#predicted to stay but churned\n",
    "false_neg = pred_df[(pred_df.true_values == 1) & (pred_df.preds_value == 0)]\n",
    "false_neg.to_csv('../data/telco_false_neg.csv')"
   ]
  },
  {
   "cell_type": "code",
   "execution_count": 25,
   "id": "c83db739",
   "metadata": {},
   "outputs": [
    {
     "data": {
      "text/html": [
       "<div>\n",
       "<style scoped>\n",
       "    .dataframe tbody tr th:only-of-type {\n",
       "        vertical-align: middle;\n",
       "    }\n",
       "\n",
       "    .dataframe tbody tr th {\n",
       "        vertical-align: top;\n",
       "    }\n",
       "\n",
       "    .dataframe thead th {\n",
       "        text-align: right;\n",
       "    }\n",
       "</style>\n",
       "<table border=\"1\" class=\"dataframe\">\n",
       "  <thead>\n",
       "    <tr style=\"text-align: right;\">\n",
       "      <th></th>\n",
       "      <th>gender</th>\n",
       "      <th>age</th>\n",
       "      <th>under_30</th>\n",
       "      <th>senior_citizen</th>\n",
       "      <th>married</th>\n",
       "      <th>dependents</th>\n",
       "      <th>number_of_dependents</th>\n",
       "      <th>city</th>\n",
       "      <th>tenure_months</th>\n",
       "      <th>phone_service</th>\n",
       "      <th>multiple_lines</th>\n",
       "      <th>internet_service</th>\n",
       "      <th>online_security</th>\n",
       "      <th>online_backup</th>\n",
       "      <th>device_protection</th>\n",
       "      <th>tech_support</th>\n",
       "      <th>streaming_tv</th>\n",
       "      <th>streaming_movies</th>\n",
       "      <th>contract</th>\n",
       "      <th>paperless_billing</th>\n",
       "      <th>payment_method</th>\n",
       "      <th>churn_value</th>\n",
       "      <th>churn_score</th>\n",
       "      <th>cltv</th>\n",
       "      <th>churn_reason</th>\n",
       "      <th>referred_a_friend</th>\n",
       "      <th>number_of_referrals</th>\n",
       "      <th>offer</th>\n",
       "      <th>avg_monthly_long_distance_charges</th>\n",
       "      <th>internet_type</th>\n",
       "      <th>avg_monthly_gb_download</th>\n",
       "      <th>streaming_music</th>\n",
       "      <th>unlimited_data</th>\n",
       "      <th>monthly_charge</th>\n",
       "      <th>total_charges</th>\n",
       "      <th>total_refunds</th>\n",
       "      <th>total_extra_data_charges</th>\n",
       "      <th>total_long_distance_charges</th>\n",
       "      <th>total_revenue</th>\n",
       "      <th>satisfaction_score</th>\n",
       "      <th>customer_status</th>\n",
       "      <th>churn_category</th>\n",
       "      <th>pop_density</th>\n",
       "      <th>new_user</th>\n",
       "      <th>cluster</th>\n",
       "    </tr>\n",
       "  </thead>\n",
       "  <tbody>\n",
       "    <tr>\n",
       "      <th>7</th>\n",
       "      <td>0</td>\n",
       "      <td>66</td>\n",
       "      <td>0</td>\n",
       "      <td>1</td>\n",
       "      <td>1</td>\n",
       "      <td>0</td>\n",
       "      <td>0</td>\n",
       "      <td>Sierra Madre</td>\n",
       "      <td>58</td>\n",
       "      <td>0</td>\n",
       "      <td>0</td>\n",
       "      <td>DSL</td>\n",
       "      <td>0</td>\n",
       "      <td>1</td>\n",
       "      <td>1</td>\n",
       "      <td>0</td>\n",
       "      <td>0</td>\n",
       "      <td>1</td>\n",
       "      <td>Month-to-month</td>\n",
       "      <td>1</td>\n",
       "      <td>Electronic check</td>\n",
       "      <td>1</td>\n",
       "      <td>100</td>\n",
       "      <td>5444</td>\n",
       "      <td>Service dissatisfaction</td>\n",
       "      <td>1</td>\n",
       "      <td>6</td>\n",
       "      <td>Offer B</td>\n",
       "      <td>0.00</td>\n",
       "      <td>DSL</td>\n",
       "      <td>24</td>\n",
       "      <td>0</td>\n",
       "      <td>1</td>\n",
       "      <td>45.30</td>\n",
       "      <td>2651.20</td>\n",
       "      <td>40.95</td>\n",
       "      <td>0</td>\n",
       "      <td>0.00</td>\n",
       "      <td>2610.25</td>\n",
       "      <td>1</td>\n",
       "      <td>1</td>\n",
       "      <td>Dissatisfaction</td>\n",
       "      <td>3698</td>\n",
       "      <td>0</td>\n",
       "      <td>vanilla</td>\n",
       "    </tr>\n",
       "    <tr>\n",
       "      <th>21</th>\n",
       "      <td>1</td>\n",
       "      <td>70</td>\n",
       "      <td>0</td>\n",
       "      <td>1</td>\n",
       "      <td>0</td>\n",
       "      <td>0</td>\n",
       "      <td>0</td>\n",
       "      <td>El Cajon</td>\n",
       "      <td>54</td>\n",
       "      <td>1</td>\n",
       "      <td>1</td>\n",
       "      <td>DSL</td>\n",
       "      <td>1</td>\n",
       "      <td>1</td>\n",
       "      <td>0</td>\n",
       "      <td>1</td>\n",
       "      <td>1</td>\n",
       "      <td>1</td>\n",
       "      <td>One year</td>\n",
       "      <td>0</td>\n",
       "      <td>Bank transfer (automatic)</td>\n",
       "      <td>1</td>\n",
       "      <td>83</td>\n",
       "      <td>4149</td>\n",
       "      <td>Long distance charges</td>\n",
       "      <td>0</td>\n",
       "      <td>0</td>\n",
       "      <td>Offer B</td>\n",
       "      <td>12.08</td>\n",
       "      <td>DSL</td>\n",
       "      <td>5</td>\n",
       "      <td>1</td>\n",
       "      <td>1</td>\n",
       "      <td>82.45</td>\n",
       "      <td>4350.10</td>\n",
       "      <td>0.00</td>\n",
       "      <td>0</td>\n",
       "      <td>652.32</td>\n",
       "      <td>5002.42</td>\n",
       "      <td>1</td>\n",
       "      <td>1</td>\n",
       "      <td>Competitor</td>\n",
       "      <td>5188</td>\n",
       "      <td>0</td>\n",
       "      <td>heavyweight</td>\n",
       "    </tr>\n",
       "    <tr>\n",
       "      <th>25</th>\n",
       "      <td>0</td>\n",
       "      <td>79</td>\n",
       "      <td>0</td>\n",
       "      <td>1</td>\n",
       "      <td>1</td>\n",
       "      <td>0</td>\n",
       "      <td>0</td>\n",
       "      <td>Indian Wells</td>\n",
       "      <td>11</td>\n",
       "      <td>1</td>\n",
       "      <td>0</td>\n",
       "      <td>No</td>\n",
       "      <td>0</td>\n",
       "      <td>0</td>\n",
       "      <td>0</td>\n",
       "      <td>0</td>\n",
       "      <td>0</td>\n",
       "      <td>0</td>\n",
       "      <td>Month-to-month</td>\n",
       "      <td>0</td>\n",
       "      <td>Mailed check</td>\n",
       "      <td>1</td>\n",
       "      <td>80</td>\n",
       "      <td>5888</td>\n",
       "      <td>Limited range of services</td>\n",
       "      <td>1</td>\n",
       "      <td>1</td>\n",
       "      <td>None</td>\n",
       "      <td>29.54</td>\n",
       "      <td>None</td>\n",
       "      <td>0</td>\n",
       "      <td>0</td>\n",
       "      <td>0</td>\n",
       "      <td>19.95</td>\n",
       "      <td>214.75</td>\n",
       "      <td>0.00</td>\n",
       "      <td>0</td>\n",
       "      <td>324.94</td>\n",
       "      <td>539.69</td>\n",
       "      <td>1</td>\n",
       "      <td>1</td>\n",
       "      <td>Competitor</td>\n",
       "      <td>358</td>\n",
       "      <td>0</td>\n",
       "      <td>minimalist</td>\n",
       "    </tr>\n",
       "    <tr>\n",
       "      <th>35</th>\n",
       "      <td>1</td>\n",
       "      <td>78</td>\n",
       "      <td>0</td>\n",
       "      <td>1</td>\n",
       "      <td>1</td>\n",
       "      <td>0</td>\n",
       "      <td>0</td>\n",
       "      <td>Yorba Linda</td>\n",
       "      <td>65</td>\n",
       "      <td>1</td>\n",
       "      <td>1</td>\n",
       "      <td>Fiber optic</td>\n",
       "      <td>1</td>\n",
       "      <td>0</td>\n",
       "      <td>1</td>\n",
       "      <td>0</td>\n",
       "      <td>1</td>\n",
       "      <td>1</td>\n",
       "      <td>Month-to-month</td>\n",
       "      <td>0</td>\n",
       "      <td>Bank transfer (automatic)</td>\n",
       "      <td>1</td>\n",
       "      <td>91</td>\n",
       "      <td>4196</td>\n",
       "      <td>Competitor offered higher download speeds</td>\n",
       "      <td>1</td>\n",
       "      <td>3</td>\n",
       "      <td>Offer B</td>\n",
       "      <td>18.39</td>\n",
       "      <td>Fiber Optic</td>\n",
       "      <td>28</td>\n",
       "      <td>0</td>\n",
       "      <td>1</td>\n",
       "      <td>105.25</td>\n",
       "      <td>6786.40</td>\n",
       "      <td>0.00</td>\n",
       "      <td>0</td>\n",
       "      <td>1195.35</td>\n",
       "      <td>7981.75</td>\n",
       "      <td>1</td>\n",
       "      <td>1</td>\n",
       "      <td>Attitude</td>\n",
       "      <td>2226</td>\n",
       "      <td>0</td>\n",
       "      <td>heavyweight</td>\n",
       "    </tr>\n",
       "    <tr>\n",
       "      <th>36</th>\n",
       "      <td>0</td>\n",
       "      <td>75</td>\n",
       "      <td>0</td>\n",
       "      <td>1</td>\n",
       "      <td>1</td>\n",
       "      <td>0</td>\n",
       "      <td>0</td>\n",
       "      <td>Summerland</td>\n",
       "      <td>49</td>\n",
       "      <td>1</td>\n",
       "      <td>1</td>\n",
       "      <td>Fiber optic</td>\n",
       "      <td>0</td>\n",
       "      <td>1</td>\n",
       "      <td>0</td>\n",
       "      <td>0</td>\n",
       "      <td>0</td>\n",
       "      <td>1</td>\n",
       "      <td>Month-to-month</td>\n",
       "      <td>0</td>\n",
       "      <td>Credit card (automatic)</td>\n",
       "      <td>1</td>\n",
       "      <td>96</td>\n",
       "      <td>5059</td>\n",
       "      <td>Competitor made better offer</td>\n",
       "      <td>1</td>\n",
       "      <td>3</td>\n",
       "      <td>Offer B</td>\n",
       "      <td>22.92</td>\n",
       "      <td>Fiber Optic</td>\n",
       "      <td>14</td>\n",
       "      <td>0</td>\n",
       "      <td>1</td>\n",
       "      <td>90.05</td>\n",
       "      <td>4547.25</td>\n",
       "      <td>0.00</td>\n",
       "      <td>0</td>\n",
       "      <td>1123.08</td>\n",
       "      <td>5670.33</td>\n",
       "      <td>2</td>\n",
       "      <td>1</td>\n",
       "      <td>Competitor</td>\n",
       "      <td>1519</td>\n",
       "      <td>0</td>\n",
       "      <td>heavyweight</td>\n",
       "    </tr>\n",
       "  </tbody>\n",
       "</table>\n",
       "</div>"
      ],
      "text/plain": [
       "    gender  age  under_30  senior_citizen  married  dependents  \\\n",
       "7        0   66         0               1        1           0   \n",
       "21       1   70         0               1        0           0   \n",
       "25       0   79         0               1        1           0   \n",
       "35       1   78         0               1        1           0   \n",
       "36       0   75         0               1        1           0   \n",
       "\n",
       "    number_of_dependents          city  tenure_months  phone_service  \\\n",
       "7                      0  Sierra Madre             58              0   \n",
       "21                     0      El Cajon             54              1   \n",
       "25                     0  Indian Wells             11              1   \n",
       "35                     0   Yorba Linda             65              1   \n",
       "36                     0    Summerland             49              1   \n",
       "\n",
       "    multiple_lines internet_service  online_security  online_backup  \\\n",
       "7                0              DSL                0              1   \n",
       "21               1              DSL                1              1   \n",
       "25               0               No                0              0   \n",
       "35               1      Fiber optic                1              0   \n",
       "36               1      Fiber optic                0              1   \n",
       "\n",
       "    device_protection  tech_support  streaming_tv  streaming_movies  \\\n",
       "7                   1             0             0                 1   \n",
       "21                  0             1             1                 1   \n",
       "25                  0             0             0                 0   \n",
       "35                  1             0             1                 1   \n",
       "36                  0             0             0                 1   \n",
       "\n",
       "          contract  paperless_billing             payment_method  churn_value  \\\n",
       "7   Month-to-month                  1           Electronic check            1   \n",
       "21        One year                  0  Bank transfer (automatic)            1   \n",
       "25  Month-to-month                  0               Mailed check            1   \n",
       "35  Month-to-month                  0  Bank transfer (automatic)            1   \n",
       "36  Month-to-month                  0    Credit card (automatic)            1   \n",
       "\n",
       "    churn_score  cltv                               churn_reason  \\\n",
       "7           100  5444                    Service dissatisfaction   \n",
       "21           83  4149                      Long distance charges   \n",
       "25           80  5888                  Limited range of services   \n",
       "35           91  4196  Competitor offered higher download speeds   \n",
       "36           96  5059               Competitor made better offer   \n",
       "\n",
       "    referred_a_friend  number_of_referrals    offer  \\\n",
       "7                   1                    6  Offer B   \n",
       "21                  0                    0  Offer B   \n",
       "25                  1                    1     None   \n",
       "35                  1                    3  Offer B   \n",
       "36                  1                    3  Offer B   \n",
       "\n",
       "    avg_monthly_long_distance_charges internet_type  avg_monthly_gb_download  \\\n",
       "7                                0.00           DSL                       24   \n",
       "21                              12.08           DSL                        5   \n",
       "25                              29.54          None                        0   \n",
       "35                              18.39   Fiber Optic                       28   \n",
       "36                              22.92   Fiber Optic                       14   \n",
       "\n",
       "    streaming_music  unlimited_data  monthly_charge  total_charges  \\\n",
       "7                 0               1           45.30        2651.20   \n",
       "21                1               1           82.45        4350.10   \n",
       "25                0               0           19.95         214.75   \n",
       "35                0               1          105.25        6786.40   \n",
       "36                0               1           90.05        4547.25   \n",
       "\n",
       "    total_refunds  total_extra_data_charges  total_long_distance_charges  \\\n",
       "7           40.95                         0                         0.00   \n",
       "21           0.00                         0                       652.32   \n",
       "25           0.00                         0                       324.94   \n",
       "35           0.00                         0                      1195.35   \n",
       "36           0.00                         0                      1123.08   \n",
       "\n",
       "    total_revenue  satisfaction_score  customer_status   churn_category  \\\n",
       "7         2610.25                   1                1  Dissatisfaction   \n",
       "21        5002.42                   1                1       Competitor   \n",
       "25         539.69                   1                1       Competitor   \n",
       "35        7981.75                   1                1         Attitude   \n",
       "36        5670.33                   2                1       Competitor   \n",
       "\n",
       "    pop_density  new_user      cluster  \n",
       "7          3698         0      vanilla  \n",
       "21         5188         0  heavyweight  \n",
       "25          358         0   minimalist  \n",
       "35         2226         0  heavyweight  \n",
       "36         1519         0  heavyweight  "
      ]
     },
     "execution_count": 25,
     "metadata": {},
     "output_type": "execute_result"
    }
   ],
   "source": [
    "#df for false negative for EDA\n",
    "false_neg = telco_final.loc[false_neg.index]\n",
    "false_neg.head()"
   ]
  },
  {
   "cell_type": "code",
   "execution_count": 26,
   "id": "a782f5d4",
   "metadata": {},
   "outputs": [
    {
     "data": {
      "text/plain": [
       "3     14\n",
       "1     11\n",
       "2     11\n",
       "4     11\n",
       "5      8\n",
       "6      8\n",
       "7      5\n",
       "8      1\n",
       "11     1\n",
       "Name: tenure_months, dtype: int64"
      ]
     },
     "execution_count": 26,
     "metadata": {},
     "output_type": "execute_result"
    }
   ],
   "source": [
    "#tenure months\n",
    "false_neg.tenure_months.value_counts().value_counts()"
   ]
  },
  {
   "cell_type": "markdown",
   "id": "8ce1cc55",
   "metadata": {},
   "source": [
    "The tenure months of the users are far below the expected churn period, with 14 of which are less than 3 months."
   ]
  },
  {
   "cell_type": "code",
   "execution_count": 27,
   "id": "8ac040ef",
   "metadata": {},
   "outputs": [
    {
     "data": {
      "text/plain": [
       "Month-to-month    125\n",
       "One year           90\n",
       "Two year           46\n",
       "Name: contract, dtype: int64"
      ]
     },
     "execution_count": 27,
     "metadata": {},
     "output_type": "execute_result"
    }
   ],
   "source": [
    "#contracts\n",
    "false_neg.contract.value_counts()"
   ]
  },
  {
   "cell_type": "markdown",
   "id": "8e107677",
   "metadata": {},
   "source": [
    "As expected in the contracts, mostly churned users are in the month-to-month users with almost half are from contractual users."
   ]
  },
  {
   "cell_type": "code",
   "execution_count": 28,
   "id": "f41b47be",
   "metadata": {},
   "outputs": [
    {
     "data": {
      "text/plain": [
       "heavyweight        107\n",
       "vanilla            100\n",
       "minimalist          44\n",
       "price_sensitive     10\n",
       "Name: cluster, dtype: int64"
      ]
     },
     "execution_count": 28,
     "metadata": {},
     "output_type": "execute_result"
    }
   ],
   "source": [
    "#cluster\n",
    "false_neg.cluster.value_counts() "
   ]
  },
  {
   "cell_type": "markdown",
   "id": "7fb939f1",
   "metadata": {},
   "source": [
    "By clusters, most false negative users were coming from heavyweight users, with only some from price_sensitive where misclassified. This suggest a fairly acceptable classfication, as the EDA suggest that most of the users are of the 'non-churn' traits."
   ]
  },
  {
   "cell_type": "code",
   "execution_count": 29,
   "id": "41910382",
   "metadata": {},
   "outputs": [
    {
     "data": {
      "text/html": [
       "<div>\n",
       "<style scoped>\n",
       "    .dataframe tbody tr th:only-of-type {\n",
       "        vertical-align: middle;\n",
       "    }\n",
       "\n",
       "    .dataframe tbody tr th {\n",
       "        vertical-align: top;\n",
       "    }\n",
       "\n",
       "    .dataframe thead tr th {\n",
       "        text-align: left;\n",
       "    }\n",
       "\n",
       "    .dataframe thead tr:last-of-type th {\n",
       "        text-align: right;\n",
       "    }\n",
       "</style>\n",
       "<table border=\"1\" class=\"dataframe\">\n",
       "  <thead>\n",
       "    <tr>\n",
       "      <th></th>\n",
       "      <th>city</th>\n",
       "      <th>internet_service</th>\n",
       "      <th>contract</th>\n",
       "      <th>payment_method</th>\n",
       "      <th>churn_reason</th>\n",
       "      <th>offer</th>\n",
       "      <th>internet_type</th>\n",
       "      <th>churn_category</th>\n",
       "    </tr>\n",
       "    <tr>\n",
       "      <th></th>\n",
       "      <th>mode</th>\n",
       "      <th>mode</th>\n",
       "      <th>mode</th>\n",
       "      <th>mode</th>\n",
       "      <th>mode</th>\n",
       "      <th>mode</th>\n",
       "      <th>mode</th>\n",
       "      <th>mode</th>\n",
       "    </tr>\n",
       "    <tr>\n",
       "      <th>cluster</th>\n",
       "      <th></th>\n",
       "      <th></th>\n",
       "      <th></th>\n",
       "      <th></th>\n",
       "      <th></th>\n",
       "      <th></th>\n",
       "      <th></th>\n",
       "      <th></th>\n",
       "    </tr>\n",
       "  </thead>\n",
       "  <tbody>\n",
       "    <tr>\n",
       "      <th>heavyweight</th>\n",
       "      <td>Los Angeles</td>\n",
       "      <td>Fiber optic</td>\n",
       "      <td>One year</td>\n",
       "      <td>Bank transfer (automatic)</td>\n",
       "      <td>Competitor offered more data</td>\n",
       "      <td>None</td>\n",
       "      <td>Fiber Optic</td>\n",
       "      <td>Competitor</td>\n",
       "    </tr>\n",
       "    <tr>\n",
       "      <th>minimalist</th>\n",
       "      <td>San Diego</td>\n",
       "      <td>No</td>\n",
       "      <td>Month-to-month</td>\n",
       "      <td>Mailed check</td>\n",
       "      <td>[Attitude of support person, Competitor offere...</td>\n",
       "      <td>None</td>\n",
       "      <td>None</td>\n",
       "      <td>Attitude</td>\n",
       "    </tr>\n",
       "    <tr>\n",
       "      <th>price_sensitive</th>\n",
       "      <td>[Altadena, California Hot Springs, Camp Nelson...</td>\n",
       "      <td>Fiber optic</td>\n",
       "      <td>Month-to-month</td>\n",
       "      <td>[Bank transfer (automatic), Electronic check]</td>\n",
       "      <td>Attitude of support person</td>\n",
       "      <td>None</td>\n",
       "      <td>Fiber Optic</td>\n",
       "      <td>Competitor</td>\n",
       "    </tr>\n",
       "    <tr>\n",
       "      <th>vanilla</th>\n",
       "      <td>Los Angeles</td>\n",
       "      <td>DSL</td>\n",
       "      <td>Month-to-month</td>\n",
       "      <td>Mailed check</td>\n",
       "      <td>Competitor offered higher download speeds</td>\n",
       "      <td>None</td>\n",
       "      <td>DSL</td>\n",
       "      <td>Competitor</td>\n",
       "    </tr>\n",
       "  </tbody>\n",
       "</table>\n",
       "</div>"
      ],
      "text/plain": [
       "                                                              city  \\\n",
       "                                                              mode   \n",
       "cluster                                                              \n",
       "heavyweight                                            Los Angeles   \n",
       "minimalist                                               San Diego   \n",
       "price_sensitive  [Altadena, California Hot Springs, Camp Nelson...   \n",
       "vanilla                                                Los Angeles   \n",
       "\n",
       "                internet_service        contract  \\\n",
       "                            mode            mode   \n",
       "cluster                                            \n",
       "heavyweight          Fiber optic        One year   \n",
       "minimalist                    No  Month-to-month   \n",
       "price_sensitive      Fiber optic  Month-to-month   \n",
       "vanilla                      DSL  Month-to-month   \n",
       "\n",
       "                                                payment_method  \\\n",
       "                                                          mode   \n",
       "cluster                                                          \n",
       "heavyweight                          Bank transfer (automatic)   \n",
       "minimalist                                        Mailed check   \n",
       "price_sensitive  [Bank transfer (automatic), Electronic check]   \n",
       "vanilla                                           Mailed check   \n",
       "\n",
       "                                                      churn_reason offer  \\\n",
       "                                                              mode  mode   \n",
       "cluster                                                                    \n",
       "heavyweight                           Competitor offered more data  None   \n",
       "minimalist       [Attitude of support person, Competitor offere...  None   \n",
       "price_sensitive                         Attitude of support person  None   \n",
       "vanilla                  Competitor offered higher download speeds  None   \n",
       "\n",
       "                internet_type churn_category  \n",
       "                         mode           mode  \n",
       "cluster                                       \n",
       "heavyweight       Fiber Optic     Competitor  \n",
       "minimalist               None       Attitude  \n",
       "price_sensitive   Fiber Optic     Competitor  \n",
       "vanilla                   DSL     Competitor  "
      ]
     },
     "execution_count": 29,
     "metadata": {},
     "output_type": "execute_result"
    }
   ],
   "source": [
    "#pick numerial features for aggregate\n",
    "mode_df = false_neg.select_dtypes(exclude='number')\n",
    "mode_df.groupby('cluster').agg([pd.Series.mode])"
   ]
  },
  {
   "cell_type": "markdown",
   "id": "3e47f242",
   "metadata": {},
   "source": [
    "From the aggregate table above, we note that most users from the city has been expected to stay with the business but has ultimately churned due to the competition. This serves as a red flag for the business to explore and proactively maintain presence in compeitive Los Angeles. "
   ]
  },
  {
   "cell_type": "code",
   "execution_count": 30,
   "id": "daaa2415",
   "metadata": {},
   "outputs": [
    {
     "data": {
      "text/html": [
       "<div>\n",
       "<style scoped>\n",
       "    .dataframe tbody tr th:only-of-type {\n",
       "        vertical-align: middle;\n",
       "    }\n",
       "\n",
       "    .dataframe tbody tr th {\n",
       "        vertical-align: top;\n",
       "    }\n",
       "\n",
       "    .dataframe thead tr th {\n",
       "        text-align: left;\n",
       "    }\n",
       "\n",
       "    .dataframe thead tr:last-of-type th {\n",
       "        text-align: right;\n",
       "    }\n",
       "</style>\n",
       "<table border=\"1\" class=\"dataframe\">\n",
       "  <thead>\n",
       "    <tr>\n",
       "      <th></th>\n",
       "      <th colspan=\"2\" halign=\"left\">age</th>\n",
       "      <th colspan=\"2\" halign=\"left\">tenure_months</th>\n",
       "      <th colspan=\"2\" halign=\"left\">churn_score</th>\n",
       "      <th colspan=\"2\" halign=\"left\">cltv</th>\n",
       "      <th colspan=\"2\" halign=\"left\">avg_monthly_long_distance_charges</th>\n",
       "      <th colspan=\"2\" halign=\"left\">avg_monthly_gb_download</th>\n",
       "      <th colspan=\"2\" halign=\"left\">monthly_charge</th>\n",
       "      <th colspan=\"2\" halign=\"left\">total_charges</th>\n",
       "      <th colspan=\"2\" halign=\"left\">total_extra_data_charges</th>\n",
       "      <th colspan=\"2\" halign=\"left\">total_long_distance_charges</th>\n",
       "      <th colspan=\"2\" halign=\"left\">total_revenue</th>\n",
       "    </tr>\n",
       "    <tr>\n",
       "      <th></th>\n",
       "      <th>min</th>\n",
       "      <th>max</th>\n",
       "      <th>min</th>\n",
       "      <th>max</th>\n",
       "      <th>min</th>\n",
       "      <th>max</th>\n",
       "      <th>min</th>\n",
       "      <th>max</th>\n",
       "      <th>min</th>\n",
       "      <th>max</th>\n",
       "      <th>min</th>\n",
       "      <th>max</th>\n",
       "      <th>min</th>\n",
       "      <th>max</th>\n",
       "      <th>min</th>\n",
       "      <th>max</th>\n",
       "      <th>min</th>\n",
       "      <th>max</th>\n",
       "      <th>min</th>\n",
       "      <th>max</th>\n",
       "      <th>min</th>\n",
       "      <th>max</th>\n",
       "    </tr>\n",
       "    <tr>\n",
       "      <th>cluster</th>\n",
       "      <th></th>\n",
       "      <th></th>\n",
       "      <th></th>\n",
       "      <th></th>\n",
       "      <th></th>\n",
       "      <th></th>\n",
       "      <th></th>\n",
       "      <th></th>\n",
       "      <th></th>\n",
       "      <th></th>\n",
       "      <th></th>\n",
       "      <th></th>\n",
       "      <th></th>\n",
       "      <th></th>\n",
       "      <th></th>\n",
       "      <th></th>\n",
       "      <th></th>\n",
       "      <th></th>\n",
       "      <th></th>\n",
       "      <th></th>\n",
       "      <th></th>\n",
       "      <th></th>\n",
       "    </tr>\n",
       "  </thead>\n",
       "  <tbody>\n",
       "    <tr>\n",
       "      <th>heavyweight</th>\n",
       "      <td>20</td>\n",
       "      <td>80</td>\n",
       "      <td>32</td>\n",
       "      <td>72</td>\n",
       "      <td>65</td>\n",
       "      <td>100</td>\n",
       "      <td>2071</td>\n",
       "      <td>6452</td>\n",
       "      <td>0.00</td>\n",
       "      <td>49.98</td>\n",
       "      <td>2</td>\n",
       "      <td>82</td>\n",
       "      <td>54.20</td>\n",
       "      <td>118.35</td>\n",
       "      <td>2934.30</td>\n",
       "      <td>8684.80</td>\n",
       "      <td>0</td>\n",
       "      <td>150</td>\n",
       "      <td>0.00</td>\n",
       "      <td>3508.82</td>\n",
       "      <td>3858.91</td>\n",
       "      <td>11195.44</td>\n",
       "    </tr>\n",
       "    <tr>\n",
       "      <th>minimalist</th>\n",
       "      <td>19</td>\n",
       "      <td>79</td>\n",
       "      <td>1</td>\n",
       "      <td>61</td>\n",
       "      <td>65</td>\n",
       "      <td>100</td>\n",
       "      <td>2102</td>\n",
       "      <td>6484</td>\n",
       "      <td>2.58</td>\n",
       "      <td>49.74</td>\n",
       "      <td>0</td>\n",
       "      <td>0</td>\n",
       "      <td>18.95</td>\n",
       "      <td>25.90</td>\n",
       "      <td>19.75</td>\n",
       "      <td>1334.00</td>\n",
       "      <td>0</td>\n",
       "      <td>0</td>\n",
       "      <td>11.91</td>\n",
       "      <td>2822.47</td>\n",
       "      <td>31.66</td>\n",
       "      <td>4005.02</td>\n",
       "    </tr>\n",
       "    <tr>\n",
       "      <th>price_sensitive</th>\n",
       "      <td>26</td>\n",
       "      <td>75</td>\n",
       "      <td>6</td>\n",
       "      <td>27</td>\n",
       "      <td>68</td>\n",
       "      <td>94</td>\n",
       "      <td>2283</td>\n",
       "      <td>5719</td>\n",
       "      <td>1.51</td>\n",
       "      <td>49.20</td>\n",
       "      <td>3</td>\n",
       "      <td>51</td>\n",
       "      <td>44.60</td>\n",
       "      <td>104.30</td>\n",
       "      <td>260.80</td>\n",
       "      <td>2867.75</td>\n",
       "      <td>0</td>\n",
       "      <td>0</td>\n",
       "      <td>27.18</td>\n",
       "      <td>831.60</td>\n",
       "      <td>556.00</td>\n",
       "      <td>3142.88</td>\n",
       "    </tr>\n",
       "    <tr>\n",
       "      <th>vanilla</th>\n",
       "      <td>19</td>\n",
       "      <td>80</td>\n",
       "      <td>1</td>\n",
       "      <td>71</td>\n",
       "      <td>65</td>\n",
       "      <td>100</td>\n",
       "      <td>2003</td>\n",
       "      <td>6347</td>\n",
       "      <td>0.00</td>\n",
       "      <td>48.93</td>\n",
       "      <td>2</td>\n",
       "      <td>85</td>\n",
       "      <td>28.60</td>\n",
       "      <td>105.95</td>\n",
       "      <td>49.25</td>\n",
       "      <td>3692.85</td>\n",
       "      <td>0</td>\n",
       "      <td>150</td>\n",
       "      <td>0.00</td>\n",
       "      <td>2079.20</td>\n",
       "      <td>57.63</td>\n",
       "      <td>4835.75</td>\n",
       "    </tr>\n",
       "  </tbody>\n",
       "</table>\n",
       "</div>"
      ],
      "text/plain": [
       "                age     tenure_months     churn_score       cltv        \\\n",
       "                min max           min max         min  max   min   max   \n",
       "cluster                                                                  \n",
       "heavyweight      20  80            32  72          65  100  2071  6452   \n",
       "minimalist       19  79             1  61          65  100  2102  6484   \n",
       "price_sensitive  26  75             6  27          68   94  2283  5719   \n",
       "vanilla          19  80             1  71          65  100  2003  6347   \n",
       "\n",
       "                avg_monthly_long_distance_charges         \\\n",
       "                                              min    max   \n",
       "cluster                                                    \n",
       "heavyweight                                  0.00  49.98   \n",
       "minimalist                                   2.58  49.74   \n",
       "price_sensitive                              1.51  49.20   \n",
       "vanilla                                      0.00  48.93   \n",
       "\n",
       "                avg_monthly_gb_download     monthly_charge          \\\n",
       "                                    min max            min     max   \n",
       "cluster                                                              \n",
       "heavyweight                           2  82          54.20  118.35   \n",
       "minimalist                            0   0          18.95   25.90   \n",
       "price_sensitive                       3  51          44.60  104.30   \n",
       "vanilla                               2  85          28.60  105.95   \n",
       "\n",
       "                total_charges          total_extra_data_charges       \\\n",
       "                          min      max                      min  max   \n",
       "cluster                                                                \n",
       "heavyweight           2934.30  8684.80                        0  150   \n",
       "minimalist              19.75  1334.00                        0    0   \n",
       "price_sensitive        260.80  2867.75                        0    0   \n",
       "vanilla                 49.25  3692.85                        0  150   \n",
       "\n",
       "                total_long_distance_charges          total_revenue            \n",
       "                                        min      max           min       max  \n",
       "cluster                                                                       \n",
       "heavyweight                            0.00  3508.82       3858.91  11195.44  \n",
       "minimalist                            11.91  2822.47         31.66   4005.02  \n",
       "price_sensitive                       27.18   831.60        556.00   3142.88  \n",
       "vanilla                                0.00  2079.20         57.63   4835.75  "
      ]
     },
     "execution_count": 30,
     "metadata": {},
     "output_type": "execute_result"
    }
   ],
   "source": [
    "#overview on the misclassified users by cluster\n",
    "false_neg.groupby('cluster').agg(['min','max'])[['age','tenure_months','churn_score','cltv','avg_monthly_long_distance_charges',\n",
    "                                                'avg_monthly_gb_download','monthly_charge','total_charges','total_extra_data_charges',\n",
    "                                               'total_long_distance_charges','total_revenue']]"
   ]
  },
  {
   "cell_type": "markdown",
   "id": "6693ad6e",
   "metadata": {},
   "source": [
    "Whilst on other services, the CLTV scores of the users ranges in between 2000 to 6400 which are considered in the DIVEST and RETAIN quadrant. Hence, cautionary and importance on being able to correctly identify the customer quadrant and take action as necessary in customer retention. "
   ]
  },
  {
   "cell_type": "markdown",
   "id": "37890be7",
   "metadata": {},
   "source": [
    "Next we will look into the false positive and false negative prediction in the next notebook on the survival analysis verification."
   ]
  }
 ],
 "metadata": {
  "kernelspec": {
   "display_name": "Python 3",
   "language": "python",
   "name": "python3"
  },
  "language_info": {
   "codemirror_mode": {
    "name": "ipython",
    "version": 3
   },
   "file_extension": ".py",
   "mimetype": "text/x-python",
   "name": "python",
   "nbconvert_exporter": "python",
   "pygments_lexer": "ipython3",
   "version": "3.8.10"
  }
 },
 "nbformat": 4,
 "nbformat_minor": 5
}
