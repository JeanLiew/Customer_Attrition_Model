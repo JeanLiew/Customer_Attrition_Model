{
 "cells": [
  {
   "cell_type": "markdown",
   "id": "45b6847a",
   "metadata": {},
   "source": [
    "# Customer Attrition Model - Part 4\n",
    "## Customer Churn Prediction"
   ]
  },
  {
   "cell_type": "markdown",
   "id": "58bf1f18",
   "metadata": {},
   "source": [
    "# 4.0 Notebook Brief"
   ]
  },
  {
   "cell_type": "markdown",
   "id": "2c44fc21",
   "metadata": {},
   "source": [
    "Upon clustering of the customer type for 4 clusters, these information are then used to train the prediction model for churn. "
   ]
  },
  {
   "cell_type": "code",
   "execution_count": null,
   "id": "73969ff4",
   "metadata": {},
   "outputs": [],
   "source": []
  },
  {
   "cell_type": "code",
   "execution_count": null,
   "id": "dfc233a7",
   "metadata": {},
   "outputs": [],
   "source": []
  },
  {
   "cell_type": "markdown",
   "id": "f95507e8",
   "metadata": {},
   "source": [
    "## 4.1 Data Import"
   ]
  },
  {
   "cell_type": "code",
   "execution_count": 1,
   "id": "0bbedf3c",
   "metadata": {},
   "outputs": [],
   "source": [
    "import numpy as np\n",
    "import pandas as pd\n",
    "import matplotlib.pyplot as plt\n",
    "import seaborn as sns\n",
    "\n",
    "#import preprocessing library\n",
    "from sklearn.model_selection import train_test_split, GridSearchCV, cross_val_score\n",
    "\n",
    "#import prepocessing\n",
    "from sklearn.preprocessing import StandardScaler\n",
    "\n",
    "#import models\n",
    "from sklearn.linear_model import LogisticRegression\n",
    "from sklearn.ensemble import RandomForestClassifier\n",
    "from sklearn.svm import SVC\n",
    "from tensorflow.keras.models import Sequential\n",
    "from tensorflow.keras.layers import Dense\n",
    "from tensorflow.keras.wrappers.scikit_learn import KerasClassifier\n",
    "from tensorflow.keras.regularizers import l2\n",
    "from tensorflow.keras.layers import Dropout\n",
    "from tensorflow.keras.callbacks import EarlyStopping\n",
    "from sklearn.naive_bayes import GaussianNB\n",
    "\n",
    "#import metrics\n",
    "from sklearn.metrics import confusion_matrix, plot_roc_curve, r2_score\n",
    "\n",
    "#import bootstrap libs\n",
    "from imblearn.over_sampling import SMOTE\n",
    "from imblearn.pipeline import make_pipeline, Pipeline"
   ]
  },
  {
   "cell_type": "code",
   "execution_count": 2,
   "id": "031dbb3d",
   "metadata": {},
   "outputs": [],
   "source": [
    "telco_final = pd.read_csv('../data/telco_clustered.csv')\n",
    "pd.set_option('display.max_columns',99)"
   ]
  },
  {
   "cell_type": "code",
   "execution_count": 3,
   "id": "ac42f0ad",
   "metadata": {},
   "outputs": [],
   "source": [
    "#drop cities\n",
    "telco = telco_final.copy().drop(columns=['city','churn_reason', 'churn_category','churn_value', 'churn_score',\n",
    "                            'internet_type','pop_density', 'tenure_months', 'dependents','satisfaction_score','new_user',\n",
    "                            'referred_a_friend','total_charges','monthly_charge','avg_monthly_long_distance_charges'])"
   ]
  },
  {
   "cell_type": "markdown",
   "id": "a59ac462",
   "metadata": {},
   "source": [
    "## OHE"
   ]
  },
  {
   "cell_type": "code",
   "execution_count": 4,
   "id": "ab832a1e",
   "metadata": {},
   "outputs": [],
   "source": [
    "telco_dummies = pd.get_dummies(telco, drop_first=True)"
   ]
  },
  {
   "cell_type": "code",
   "execution_count": 5,
   "id": "81a6c983",
   "metadata": {},
   "outputs": [
    {
     "data": {
      "text/html": [
       "<div>\n",
       "<style scoped>\n",
       "    .dataframe tbody tr th:only-of-type {\n",
       "        vertical-align: middle;\n",
       "    }\n",
       "\n",
       "    .dataframe tbody tr th {\n",
       "        vertical-align: top;\n",
       "    }\n",
       "\n",
       "    .dataframe thead th {\n",
       "        text-align: right;\n",
       "    }\n",
       "</style>\n",
       "<table border=\"1\" class=\"dataframe\">\n",
       "  <thead>\n",
       "    <tr style=\"text-align: right;\">\n",
       "      <th></th>\n",
       "      <th>gender</th>\n",
       "      <th>age</th>\n",
       "      <th>under_30</th>\n",
       "      <th>senior_citizen</th>\n",
       "      <th>married</th>\n",
       "      <th>number_of_dependents</th>\n",
       "      <th>phone_service</th>\n",
       "      <th>multiple_lines</th>\n",
       "      <th>online_security</th>\n",
       "      <th>online_backup</th>\n",
       "      <th>device_protection</th>\n",
       "      <th>tech_support</th>\n",
       "      <th>streaming_tv</th>\n",
       "      <th>streaming_movies</th>\n",
       "      <th>paperless_billing</th>\n",
       "      <th>cltv</th>\n",
       "      <th>number_of_referrals</th>\n",
       "      <th>avg_monthly_gb_download</th>\n",
       "      <th>streaming_music</th>\n",
       "      <th>unlimited_data</th>\n",
       "      <th>total_refunds</th>\n",
       "      <th>total_extra_data_charges</th>\n",
       "      <th>total_long_distance_charges</th>\n",
       "      <th>total_revenue</th>\n",
       "      <th>customer_status</th>\n",
       "      <th>internet_service_Fiber optic</th>\n",
       "      <th>internet_service_No</th>\n",
       "      <th>contract_One year</th>\n",
       "      <th>contract_Two year</th>\n",
       "      <th>payment_method_Credit card (automatic)</th>\n",
       "      <th>payment_method_Electronic check</th>\n",
       "      <th>payment_method_Mailed check</th>\n",
       "      <th>offer_Offer A</th>\n",
       "      <th>offer_Offer B</th>\n",
       "      <th>offer_Offer C</th>\n",
       "      <th>offer_Offer D</th>\n",
       "      <th>offer_Offer E</th>\n",
       "      <th>cluster_minimalist</th>\n",
       "      <th>cluster_price_sensitive</th>\n",
       "      <th>cluster_vanilla</th>\n",
       "    </tr>\n",
       "  </thead>\n",
       "  <tbody>\n",
       "    <tr>\n",
       "      <th>0</th>\n",
       "      <td>0</td>\n",
       "      <td>78</td>\n",
       "      <td>0</td>\n",
       "      <td>1</td>\n",
       "      <td>0</td>\n",
       "      <td>0</td>\n",
       "      <td>0</td>\n",
       "      <td>0</td>\n",
       "      <td>0</td>\n",
       "      <td>0</td>\n",
       "      <td>1</td>\n",
       "      <td>0</td>\n",
       "      <td>0</td>\n",
       "      <td>1</td>\n",
       "      <td>1</td>\n",
       "      <td>5433</td>\n",
       "      <td>0</td>\n",
       "      <td>8</td>\n",
       "      <td>0</td>\n",
       "      <td>0</td>\n",
       "      <td>0.00</td>\n",
       "      <td>20</td>\n",
       "      <td>0.00</td>\n",
       "      <td>59.65</td>\n",
       "      <td>1</td>\n",
       "      <td>0</td>\n",
       "      <td>0</td>\n",
       "      <td>0</td>\n",
       "      <td>0</td>\n",
       "      <td>0</td>\n",
       "      <td>1</td>\n",
       "      <td>0</td>\n",
       "      <td>0</td>\n",
       "      <td>0</td>\n",
       "      <td>0</td>\n",
       "      <td>0</td>\n",
       "      <td>0</td>\n",
       "      <td>0</td>\n",
       "      <td>1</td>\n",
       "      <td>0</td>\n",
       "    </tr>\n",
       "    <tr>\n",
       "      <th>1</th>\n",
       "      <td>1</td>\n",
       "      <td>74</td>\n",
       "      <td>0</td>\n",
       "      <td>1</td>\n",
       "      <td>1</td>\n",
       "      <td>1</td>\n",
       "      <td>1</td>\n",
       "      <td>1</td>\n",
       "      <td>0</td>\n",
       "      <td>1</td>\n",
       "      <td>0</td>\n",
       "      <td>0</td>\n",
       "      <td>0</td>\n",
       "      <td>0</td>\n",
       "      <td>1</td>\n",
       "      <td>5302</td>\n",
       "      <td>1</td>\n",
       "      <td>17</td>\n",
       "      <td>0</td>\n",
       "      <td>1</td>\n",
       "      <td>0.00</td>\n",
       "      <td>0</td>\n",
       "      <td>390.80</td>\n",
       "      <td>1024.10</td>\n",
       "      <td>1</td>\n",
       "      <td>1</td>\n",
       "      <td>0</td>\n",
       "      <td>0</td>\n",
       "      <td>0</td>\n",
       "      <td>1</td>\n",
       "      <td>0</td>\n",
       "      <td>0</td>\n",
       "      <td>0</td>\n",
       "      <td>0</td>\n",
       "      <td>0</td>\n",
       "      <td>0</td>\n",
       "      <td>1</td>\n",
       "      <td>0</td>\n",
       "      <td>1</td>\n",
       "      <td>0</td>\n",
       "    </tr>\n",
       "    <tr>\n",
       "      <th>2</th>\n",
       "      <td>0</td>\n",
       "      <td>71</td>\n",
       "      <td>0</td>\n",
       "      <td>1</td>\n",
       "      <td>0</td>\n",
       "      <td>3</td>\n",
       "      <td>1</td>\n",
       "      <td>1</td>\n",
       "      <td>0</td>\n",
       "      <td>0</td>\n",
       "      <td>0</td>\n",
       "      <td>0</td>\n",
       "      <td>1</td>\n",
       "      <td>1</td>\n",
       "      <td>1</td>\n",
       "      <td>3179</td>\n",
       "      <td>0</td>\n",
       "      <td>52</td>\n",
       "      <td>1</td>\n",
       "      <td>1</td>\n",
       "      <td>45.61</td>\n",
       "      <td>0</td>\n",
       "      <td>203.94</td>\n",
       "      <td>1910.88</td>\n",
       "      <td>1</td>\n",
       "      <td>1</td>\n",
       "      <td>0</td>\n",
       "      <td>0</td>\n",
       "      <td>0</td>\n",
       "      <td>0</td>\n",
       "      <td>1</td>\n",
       "      <td>0</td>\n",
       "      <td>0</td>\n",
       "      <td>0</td>\n",
       "      <td>0</td>\n",
       "      <td>1</td>\n",
       "      <td>0</td>\n",
       "      <td>0</td>\n",
       "      <td>1</td>\n",
       "      <td>0</td>\n",
       "    </tr>\n",
       "    <tr>\n",
       "      <th>3</th>\n",
       "      <td>1</td>\n",
       "      <td>78</td>\n",
       "      <td>0</td>\n",
       "      <td>1</td>\n",
       "      <td>1</td>\n",
       "      <td>1</td>\n",
       "      <td>1</td>\n",
       "      <td>0</td>\n",
       "      <td>0</td>\n",
       "      <td>1</td>\n",
       "      <td>1</td>\n",
       "      <td>0</td>\n",
       "      <td>1</td>\n",
       "      <td>1</td>\n",
       "      <td>1</td>\n",
       "      <td>5337</td>\n",
       "      <td>1</td>\n",
       "      <td>12</td>\n",
       "      <td>0</td>\n",
       "      <td>1</td>\n",
       "      <td>13.43</td>\n",
       "      <td>0</td>\n",
       "      <td>494.00</td>\n",
       "      <td>2995.07</td>\n",
       "      <td>1</td>\n",
       "      <td>1</td>\n",
       "      <td>0</td>\n",
       "      <td>0</td>\n",
       "      <td>0</td>\n",
       "      <td>0</td>\n",
       "      <td>1</td>\n",
       "      <td>0</td>\n",
       "      <td>0</td>\n",
       "      <td>0</td>\n",
       "      <td>1</td>\n",
       "      <td>0</td>\n",
       "      <td>0</td>\n",
       "      <td>0</td>\n",
       "      <td>1</td>\n",
       "      <td>0</td>\n",
       "    </tr>\n",
       "    <tr>\n",
       "      <th>4</th>\n",
       "      <td>1</td>\n",
       "      <td>80</td>\n",
       "      <td>0</td>\n",
       "      <td>1</td>\n",
       "      <td>1</td>\n",
       "      <td>1</td>\n",
       "      <td>1</td>\n",
       "      <td>1</td>\n",
       "      <td>0</td>\n",
       "      <td>0</td>\n",
       "      <td>0</td>\n",
       "      <td>0</td>\n",
       "      <td>0</td>\n",
       "      <td>0</td>\n",
       "      <td>1</td>\n",
       "      <td>2793</td>\n",
       "      <td>1</td>\n",
       "      <td>14</td>\n",
       "      <td>0</td>\n",
       "      <td>1</td>\n",
       "      <td>0.00</td>\n",
       "      <td>0</td>\n",
       "      <td>234.21</td>\n",
       "      <td>3102.36</td>\n",
       "      <td>1</td>\n",
       "      <td>1</td>\n",
       "      <td>0</td>\n",
       "      <td>0</td>\n",
       "      <td>0</td>\n",
       "      <td>0</td>\n",
       "      <td>1</td>\n",
       "      <td>0</td>\n",
       "      <td>0</td>\n",
       "      <td>0</td>\n",
       "      <td>1</td>\n",
       "      <td>0</td>\n",
       "      <td>0</td>\n",
       "      <td>0</td>\n",
       "      <td>1</td>\n",
       "      <td>0</td>\n",
       "    </tr>\n",
       "  </tbody>\n",
       "</table>\n",
       "</div>"
      ],
      "text/plain": [
       "   gender  age  under_30  senior_citizen  married  number_of_dependents  \\\n",
       "0       0   78         0               1        0                     0   \n",
       "1       1   74         0               1        1                     1   \n",
       "2       0   71         0               1        0                     3   \n",
       "3       1   78         0               1        1                     1   \n",
       "4       1   80         0               1        1                     1   \n",
       "\n",
       "   phone_service  multiple_lines  online_security  online_backup  \\\n",
       "0              0               0                0              0   \n",
       "1              1               1                0              1   \n",
       "2              1               1                0              0   \n",
       "3              1               0                0              1   \n",
       "4              1               1                0              0   \n",
       "\n",
       "   device_protection  tech_support  streaming_tv  streaming_movies  \\\n",
       "0                  1             0             0                 1   \n",
       "1                  0             0             0                 0   \n",
       "2                  0             0             1                 1   \n",
       "3                  1             0             1                 1   \n",
       "4                  0             0             0                 0   \n",
       "\n",
       "   paperless_billing  cltv  number_of_referrals  avg_monthly_gb_download  \\\n",
       "0                  1  5433                    0                        8   \n",
       "1                  1  5302                    1                       17   \n",
       "2                  1  3179                    0                       52   \n",
       "3                  1  5337                    1                       12   \n",
       "4                  1  2793                    1                       14   \n",
       "\n",
       "   streaming_music  unlimited_data  total_refunds  total_extra_data_charges  \\\n",
       "0                0               0           0.00                        20   \n",
       "1                0               1           0.00                         0   \n",
       "2                1               1          45.61                         0   \n",
       "3                0               1          13.43                         0   \n",
       "4                0               1           0.00                         0   \n",
       "\n",
       "   total_long_distance_charges  total_revenue  customer_status  \\\n",
       "0                         0.00          59.65                1   \n",
       "1                       390.80        1024.10                1   \n",
       "2                       203.94        1910.88                1   \n",
       "3                       494.00        2995.07                1   \n",
       "4                       234.21        3102.36                1   \n",
       "\n",
       "   internet_service_Fiber optic  internet_service_No  contract_One year  \\\n",
       "0                             0                    0                  0   \n",
       "1                             1                    0                  0   \n",
       "2                             1                    0                  0   \n",
       "3                             1                    0                  0   \n",
       "4                             1                    0                  0   \n",
       "\n",
       "   contract_Two year  payment_method_Credit card (automatic)  \\\n",
       "0                  0                                       0   \n",
       "1                  0                                       1   \n",
       "2                  0                                       0   \n",
       "3                  0                                       0   \n",
       "4                  0                                       0   \n",
       "\n",
       "   payment_method_Electronic check  payment_method_Mailed check  \\\n",
       "0                                1                            0   \n",
       "1                                0                            0   \n",
       "2                                1                            0   \n",
       "3                                1                            0   \n",
       "4                                1                            0   \n",
       "\n",
       "   offer_Offer A  offer_Offer B  offer_Offer C  offer_Offer D  offer_Offer E  \\\n",
       "0              0              0              0              0              0   \n",
       "1              0              0              0              0              1   \n",
       "2              0              0              0              1              0   \n",
       "3              0              0              1              0              0   \n",
       "4              0              0              1              0              0   \n",
       "\n",
       "   cluster_minimalist  cluster_price_sensitive  cluster_vanilla  \n",
       "0                   0                        1                0  \n",
       "1                   0                        1                0  \n",
       "2                   0                        1                0  \n",
       "3                   0                        1                0  \n",
       "4                   0                        1                0  "
      ]
     },
     "execution_count": 5,
     "metadata": {},
     "output_type": "execute_result"
    }
   ],
   "source": [
    "telco_dummies.head()"
   ]
  },
  {
   "cell_type": "markdown",
   "id": "54ca16a0",
   "metadata": {},
   "source": [
    "## Train Test Split"
   ]
  },
  {
   "cell_type": "code",
   "execution_count": 6,
   "id": "f47d0cca",
   "metadata": {},
   "outputs": [],
   "source": [
    "X = telco_dummies.drop(columns=['customer_status'])\n",
    "y = telco_dummies.customer_status"
   ]
  },
  {
   "cell_type": "code",
   "execution_count": 7,
   "id": "b25dc78c",
   "metadata": {},
   "outputs": [],
   "source": [
    "X_train, X_test, y_train, y_test = train_test_split(X, y,\n",
    "                                                   stratify = y, \n",
    "                                                    test_size=0.2,\n",
    "                                                   random_state=42)"
   ]
  },
  {
   "cell_type": "code",
   "execution_count": 8,
   "id": "61025285",
   "metadata": {},
   "outputs": [
    {
     "data": {
      "text/plain": [
       "0    0.73463\n",
       "1    0.26537\n",
       "Name: customer_status, dtype: float64"
      ]
     },
     "execution_count": 8,
     "metadata": {},
     "output_type": "execute_result"
    }
   ],
   "source": [
    "y.value_counts(normalize=True)"
   ]
  },
  {
   "cell_type": "markdown",
   "id": "1ac6a426",
   "metadata": {},
   "source": [
    "## Logistic Regression with SMOTE"
   ]
  },
  {
   "cell_type": "code",
   "execution_count": 9,
   "id": "37e3ec3f",
   "metadata": {},
   "outputs": [
    {
     "name": "stdout",
     "output_type": "stream",
     "text": [
      "Training Accuracy: 0.78\n",
      "Testing Accuracy: 0.78\n",
      "\n",
      "\n"
     ]
    },
    {
     "data": {
      "text/plain": [
       "{'logreg__C': 0.01,\n",
       " 'logreg__class_weight': 'balanced',\n",
       " 'logreg__penalty': 'l2',\n",
       " 'logreg__solver': 'lbfgs'}"
      ]
     },
     "execution_count": 9,
     "metadata": {},
     "output_type": "execute_result"
    }
   ],
   "source": [
    "#Instantiate pipeline \n",
    "pipe = Pipeline([\n",
    "    ('ss' , StandardScaler()),\n",
    "    ('oversample', SMOTE(random_state=42)),\n",
    "    ('logreg', LogisticRegression(random_state=42, max_iter=10000))\n",
    "])\n",
    "\n",
    "#set pipe params\n",
    "pipe_params = {\n",
    "    'logreg__penalty' : ['l2'],\n",
    "    'logreg__solver' : ['lbfgs','liblinear'],\n",
    "    'logreg__C': np.logspace(-2, 1, 1),\n",
    "    'logreg__class_weight':[\"balanced\",]\n",
    "}\n",
    "\n",
    "#gridsearch\n",
    "gs = GridSearchCV(pipe, pipe_params,  cv=5,n_jobs=-1, scoring='accuracy')\n",
    "#fit model\n",
    "gs.fit(X_train, y_train)\n",
    "best_logreg = gs.best_estimator_\n",
    "\n",
    "print(f'Training Accuracy: {best_logreg.score(X_train, y_train):.2f}')\n",
    "print(f'Testing Accuracy: {best_logreg.score(X_test, y_test):.2f}')\n",
    "print('\\n')\n",
    "gs.best_params_"
   ]
  },
  {
   "cell_type": "markdown",
   "id": "0bd47524",
   "metadata": {},
   "source": [
    "## Random Forests with SMOTE"
   ]
  },
  {
   "cell_type": "code",
   "execution_count": 10,
   "id": "474c8b65",
   "metadata": {},
   "outputs": [
    {
     "name": "stdout",
     "output_type": "stream",
     "text": [
      "Training Accuracy: 0.82\n",
      "Testing Accuracy: 0.81\n",
      "\n",
      "\n"
     ]
    },
    {
     "data": {
      "text/plain": [
       "{'rf__max_depth': 7, 'rf__n_estimators': 100}"
      ]
     },
     "execution_count": 10,
     "metadata": {},
     "output_type": "execute_result"
    }
   ],
   "source": [
    "#Instantiate pipeline \n",
    "pipe = Pipeline([\n",
    "    ('ss' , StandardScaler()),\n",
    "    ('oversample', SMOTE(random_state=42)),\n",
    "    ('rf', RandomForestClassifier(random_state=42))\n",
    "])\n",
    "\n",
    "#set pipe params\n",
    "pipe_params = {\n",
    "    'rf__n_estimators': [100, 150, 200],\n",
    "    'rf__max_depth': [5, 7],\n",
    "}\n",
    "\n",
    "#gridsearch\n",
    "gs = GridSearchCV(pipe, pipe_params,  cv=5, n_jobs=-1, scoring='accuracy')\n",
    "#fit model\n",
    "gs.fit(X_train, y_train)\n",
    "best_rf = gs.best_estimator_\n",
    "\n",
    "print(f'Training Accuracy: {best_rf.score(X_train, y_train):.2f}')\n",
    "print(f'Testing Accuracy: {best_rf.score(X_test, y_test):.2f}')\n",
    "print('\\n')\n",
    "gs.best_params_"
   ]
  },
  {
   "cell_type": "markdown",
   "id": "6026ad29",
   "metadata": {},
   "source": [
    "## SVM with SMOTE"
   ]
  },
  {
   "cell_type": "code",
   "execution_count": 11,
   "id": "876e6b71",
   "metadata": {},
   "outputs": [
    {
     "name": "stdout",
     "output_type": "stream",
     "text": [
      "Training Accuracy: 0.79\n",
      "Testing Accuracy:0.79\n",
      "\n",
      "\n"
     ]
    },
    {
     "data": {
      "text/plain": [
       "{'svc__C': 0.01, 'svc__kernel': 'rbf'}"
      ]
     },
     "execution_count": 11,
     "metadata": {},
     "output_type": "execute_result"
    }
   ],
   "source": [
    "#Instantiate pipeline \n",
    "pipe = Pipeline([\n",
    "    ('ss' , StandardScaler()),\n",
    "    ('oversample', SMOTE(random_state=42)),\n",
    "    ('svc', SVC(random_state=42))\n",
    "])\n",
    "\n",
    "#set pipe params\n",
    "pipe_params = {\n",
    "    'svc__kernel': ['rbf','poly'],\n",
    "    'svc__C': [0.01,0.1,0.5],\n",
    "}\n",
    "\n",
    "#gridsearch\n",
    "gs = GridSearchCV(pipe, pipe_params,  cv=5,n_jobs=-1, scoring='accuracy')\n",
    "#fit model\n",
    "gs.fit(X_train, y_train)\n",
    "best_svc = gs.best_estimator_\n",
    "\n",
    "print(f'Training Accuracy: {best_svc.score(X_train, y_train):.2f}')\n",
    "print(f'Testing Accuracy:{ best_svc.score(X_test, y_test):.2f}')\n",
    "print('\\n')\n",
    "gs.best_params_"
   ]
  },
  {
   "cell_type": "markdown",
   "id": "d65c7fd8",
   "metadata": {},
   "source": [
    "## Model Selection"
   ]
  },
  {
   "cell_type": "code",
   "execution_count": 12,
   "id": "ff5b8484",
   "metadata": {},
   "outputs": [
    {
     "data": {
      "text/html": [
       "<div>\n",
       "<style scoped>\n",
       "    .dataframe tbody tr th:only-of-type {\n",
       "        vertical-align: middle;\n",
       "    }\n",
       "\n",
       "    .dataframe tbody tr th {\n",
       "        vertical-align: top;\n",
       "    }\n",
       "\n",
       "    .dataframe thead th {\n",
       "        text-align: right;\n",
       "    }\n",
       "</style>\n",
       "<table border=\"1\" class=\"dataframe\">\n",
       "  <thead>\n",
       "    <tr style=\"text-align: right;\">\n",
       "      <th></th>\n",
       "      <th>Model</th>\n",
       "      <th>Training Accuracy</th>\n",
       "      <th>Test Accuracy</th>\n",
       "    </tr>\n",
       "  </thead>\n",
       "  <tbody>\n",
       "    <tr>\n",
       "      <th>0</th>\n",
       "      <td>Balanced Baseline</td>\n",
       "      <td>0.500</td>\n",
       "      <td>0.500</td>\n",
       "    </tr>\n",
       "    <tr>\n",
       "      <th>1</th>\n",
       "      <td>Logistic Regression</td>\n",
       "      <td>0.783</td>\n",
       "      <td>0.785</td>\n",
       "    </tr>\n",
       "    <tr>\n",
       "      <th>2</th>\n",
       "      <td>Random Forest</td>\n",
       "      <td>0.820</td>\n",
       "      <td>0.806</td>\n",
       "    </tr>\n",
       "    <tr>\n",
       "      <th>3</th>\n",
       "      <td>SVM</td>\n",
       "      <td>0.795</td>\n",
       "      <td>0.789</td>\n",
       "    </tr>\n",
       "  </tbody>\n",
       "</table>\n",
       "</div>"
      ],
      "text/plain": [
       "                 Model  Training Accuracy  Test Accuracy\n",
       "0    Balanced Baseline              0.500          0.500\n",
       "1  Logistic Regression              0.783          0.785\n",
       "2        Random Forest              0.820          0.806\n",
       "3                  SVM              0.795          0.789"
      ]
     },
     "execution_count": 12,
     "metadata": {},
     "output_type": "execute_result"
    }
   ],
   "source": [
    "#display result in dataframe\n",
    "model_df = pd.DataFrame({\n",
    "    'Model' :['Balanced Baseline','Logistic Regression','Random Forest', 'SVM'],\n",
    "    'Training Accuracy' : [0.5, best_logreg.score(X_train, y_train), best_rf.score(X_train, y_train), best_svc.score(X_train, y_train)],\n",
    "    'Test Accuracy' : [0.5 ,best_logreg.score(X_test, y_test), best_rf.score(X_test, y_test), best_svc.score(X_test, y_test)]\n",
    "})\n",
    "\n",
    "model_df[['Training Accuracy', 'Test Accuracy']] = model_df[['Training Accuracy', 'Test Accuracy']].round(3)\n",
    "model_df"
   ]
  },
  {
   "cell_type": "markdown",
   "id": "669758b6",
   "metadata": {},
   "source": [
    "## Neural Networks "
   ]
  },
  {
   "cell_type": "code",
   "execution_count": 13,
   "id": "b3884bd0",
   "metadata": {},
   "outputs": [],
   "source": [
    "ss = StandardScaler()\n",
    "X_train_sc = ss.fit_transform(X_train)\n",
    "X_test_sc = ss.transform(X_test)"
   ]
  },
  {
   "cell_type": "code",
   "execution_count": 14,
   "id": "8591ecdc",
   "metadata": {},
   "outputs": [],
   "source": [
    "over = SMOTE(random_state=42)\n",
    "X_train_res, y_train_res = over.fit_resample(X_train_sc, y_train)"
   ]
  },
  {
   "cell_type": "code",
   "execution_count": 15,
   "id": "e249487e",
   "metadata": {},
   "outputs": [],
   "source": [
    "m, n_features = X_train.shape"
   ]
  },
  {
   "cell_type": "code",
   "execution_count": 16,
   "id": "fe870f05",
   "metadata": {},
   "outputs": [
    {
     "name": "stdout",
     "output_type": "stream",
     "text": [
      "Epoch 1/80\n",
      "33/33 [==============================] - 2s 25ms/step - loss: 2.7170 - accuracy: 0.5045 - val_loss: 2.3344 - val_accuracy: 0.7218\n",
      "Epoch 2/80\n",
      "33/33 [==============================] - 0s 3ms/step - loss: 2.2380 - accuracy: 0.5788 - val_loss: 1.8817 - val_accuracy: 0.7516\n",
      "Epoch 3/80\n",
      "33/33 [==============================] - 0s 3ms/step - loss: 1.7938 - accuracy: 0.6786 - val_loss: 1.4447 - val_accuracy: 0.7637\n",
      "Epoch 4/80\n",
      "33/33 [==============================] - 0s 3ms/step - loss: 1.4203 - accuracy: 0.7597 - val_loss: 1.1551 - val_accuracy: 0.7644\n",
      "Epoch 5/80\n",
      "33/33 [==============================] - 0s 3ms/step - loss: 1.1256 - accuracy: 0.7874 - val_loss: 0.9333 - val_accuracy: 0.7587\n",
      "Epoch 6/80\n",
      "33/33 [==============================] - 0s 3ms/step - loss: 0.9070 - accuracy: 0.7928 - val_loss: 0.7613 - val_accuracy: 0.7708\n",
      "Epoch 7/80\n",
      "33/33 [==============================] - 0s 3ms/step - loss: 0.7362 - accuracy: 0.8024 - val_loss: 0.6315 - val_accuracy: 0.7729\n",
      "Epoch 8/80\n",
      "33/33 [==============================] - 0s 4ms/step - loss: 0.6188 - accuracy: 0.8111 - val_loss: 0.5617 - val_accuracy: 0.7750\n",
      "Epoch 9/80\n",
      "33/33 [==============================] - 0s 3ms/step - loss: 0.5575 - accuracy: 0.8075 - val_loss: 0.5168 - val_accuracy: 0.7814\n",
      "Epoch 10/80\n",
      "33/33 [==============================] - 0s 3ms/step - loss: 0.5160 - accuracy: 0.8153 - val_loss: 0.5103 - val_accuracy: 0.7764\n",
      "Epoch 11/80\n",
      "33/33 [==============================] - 0s 3ms/step - loss: 0.4991 - accuracy: 0.8164 - val_loss: 0.4714 - val_accuracy: 0.8105\n",
      "Epoch 12/80\n",
      "33/33 [==============================] - 0s 3ms/step - loss: 0.4895 - accuracy: 0.8172 - val_loss: 0.4877 - val_accuracy: 0.7928\n",
      "Epoch 13/80\n",
      "33/33 [==============================] - 0s 3ms/step - loss: 0.4861 - accuracy: 0.8193 - val_loss: 0.4585 - val_accuracy: 0.8062\n",
      "Epoch 14/80\n",
      "33/33 [==============================] - 0s 3ms/step - loss: 0.4585 - accuracy: 0.8277 - val_loss: 0.4744 - val_accuracy: 0.7906\n",
      "Epoch 15/80\n",
      "33/33 [==============================] - 0s 3ms/step - loss: 0.4706 - accuracy: 0.8244 - val_loss: 0.4869 - val_accuracy: 0.7935\n",
      "Epoch 16/80\n",
      "33/33 [==============================] - 0s 3ms/step - loss: 0.4657 - accuracy: 0.8209 - val_loss: 0.4743 - val_accuracy: 0.7956\n",
      "Epoch 17/80\n",
      "33/33 [==============================] - 0s 3ms/step - loss: 0.4594 - accuracy: 0.8244 - val_loss: 0.4571 - val_accuracy: 0.8062\n"
     ]
    }
   ],
   "source": [
    "model = Sequential()\n",
    "\n",
    "model.add(Dense(n_features, input_dim=n_features, activation='relu', kernel_regularizer='l1'))\n",
    "model.add(Dense(64, activation='relu'))\n",
    "model.add(Dropout(0.5))\n",
    "model.add(Dense(128, activation='relu'))\n",
    "model.add(Dropout(0.5))\n",
    "model.add(Dense(64, activation='relu'))\n",
    "model.add(Dropout(0.5))\n",
    "model.add(Dense(32, activation='relu'))\n",
    "model.add(Dropout(0.5))\n",
    "model.add(Dense(1, activation='sigmoid'))\n",
    "          \n",
    "model.compile(loss='binary_crossentropy', optimizer='adam', metrics=['accuracy'])\n",
    "early_stop = EarlyStopping(monitor='val_accuracy', min_delta=0.05, patience=10)\n",
    "\n",
    "hist = model.fit(X_train_res, y_train_res, validation_data=(X_test_sc, y_test), epochs=80, \n",
    "                 batch_size=256, callbacks=[early_stop])"
   ]
  },
  {
   "cell_type": "code",
   "execution_count": 17,
   "id": "5f343065",
   "metadata": {},
   "outputs": [
    {
     "data": {
      "image/png": "[encoded data removed]",
      "text/plain": [
       "<Figure size 864x576 with 1 Axes>"
      ]
     },
     "metadata": {
      "needs_background": "light"
     },
     "output_type": "display_data"
    }
   ],
   "source": [
    "plt.figure(figsize=(12, 8))\n",
    "plt.plot(hist.history['accuracy'], label='Train accuracy')\n",
    "plt.plot(hist.history['val_accuracy'], label='Val accuracy')\n",
    "\n",
    "plt.legend();"
   ]
  },
  {
   "cell_type": "code",
   "execution_count": 18,
   "id": "4330332c",
   "metadata": {
    "scrolled": true
   },
   "outputs": [
    {
     "name": "stdout",
     "output_type": "stream",
     "text": [
      "Train Accuracy: 0.821\n",
      "Test Accuracy: 0.806\n"
     ]
    }
   ],
   "source": [
    "nn_train_accuracy = model.evaluate(X_train_sc, y_train, verbose=0)[1]\n",
    "nn_test_accuracy = model.evaluate(X_test_sc, y_test, verbose=0)[1]\n",
    "print(f'Train Accuracy: {nn_train_accuracy:.3f}')\n",
    "print(f'Test Accuracy: {nn_test_accuracy:.3f}')"
   ]
  },
  {
   "cell_type": "code",
   "execution_count": 20,
   "id": "dda3db76",
   "metadata": {},
   "outputs": [
    {
     "data": {
      "text/plain": [
       "0.0    954\n",
       "1.0    455\n",
       "dtype: int64"
      ]
     },
     "execution_count": 20,
     "metadata": {},
     "output_type": "execute_result"
    }
   ],
   "source": [
    "pd.Series([num[0].round() for num in model.predict(X_test_sc)]).value_counts()"
   ]
  },
  {
   "cell_type": "code",
   "execution_count": 21,
   "id": "26c44686",
   "metadata": {},
   "outputs": [
    {
     "data": {
      "text/plain": [
       "0    1035\n",
       "1     374\n",
       "Name: customer_status, dtype: int64"
      ]
     },
     "execution_count": 21,
     "metadata": {},
     "output_type": "execute_result"
    }
   ],
   "source": [
    "y_test.value_counts()"
   ]
  },
  {
   "cell_type": "markdown",
   "id": "a2ab7e29",
   "metadata": {},
   "source": [
    "### Feature Importance"
   ]
  },
  {
   "cell_type": "code",
   "execution_count": 22,
   "id": "e2e1e373",
   "metadata": {},
   "outputs": [],
   "source": [
    "important_coef = pd.Series(best_logreg.named_steps['logreg'].coef_[0],X.columns)"
   ]
  },
  {
   "cell_type": "code",
   "execution_count": 23,
   "id": "967e6eb4",
   "metadata": {},
   "outputs": [
    {
     "data": {
      "text/plain": [
       "married                                   0.465840\n",
       "internet_service_Fiber optic              0.425056\n",
       "payment_method_Electronic check           0.189399\n",
       "paperless_billing                         0.158465\n",
       "offer_Offer E                             0.142401\n",
       "streaming_music                           0.125950\n",
       "streaming_tv                              0.112633\n",
       "offer_Offer A                             0.105567\n",
       "unlimited_data                            0.084227\n",
       "total_extra_data_charges                  0.072356\n",
       "multiple_lines                            0.068401\n",
       "age                                       0.040621\n",
       "streaming_movies                          0.019594\n",
       "avg_monthly_gb_download                   0.009642\n",
       "senior_citizen                            0.006587\n",
       "cluster_price_sensitive                   0.005917\n",
       "payment_method_Mailed check               0.005084\n",
       "cluster_vanilla                           0.003948\n",
       "device_protection                        -0.013187\n",
       "cltv                                     -0.024838\n",
       "gender                                   -0.027741\n",
       "phone_service                            -0.027965\n",
       "payment_method_Credit card (automatic)   -0.030989\n",
       "under_30                                 -0.053720\n",
       "offer_Offer B                            -0.074572\n",
       "total_long_distance_charges              -0.081698\n",
       "total_refunds                            -0.089263\n",
       "cluster_minimalist                       -0.115894\n",
       "offer_Offer C                            -0.124515\n",
       "offer_Offer D                            -0.139483\n",
       "online_security                          -0.143817\n",
       "online_backup                            -0.148416\n",
       "internet_service_No                      -0.154204\n",
       "tech_support                             -0.172013\n",
       "contract_One year                        -0.354371\n",
       "total_revenue                            -0.378793\n",
       "number_of_dependents                     -0.485552\n",
       "contract_Two year                        -0.663555\n",
       "number_of_referrals                      -1.113799\n",
       "dtype: float64"
      ]
     },
     "execution_count": 23,
     "metadata": {},
     "output_type": "execute_result"
    }
   ],
   "source": [
    "important_coef.sort_values(ascending=False)"
   ]
  },
  {
   "cell_type": "code",
   "execution_count": 24,
   "id": "eb36aed7",
   "metadata": {},
   "outputs": [
    {
     "data": {
      "text/plain": [
       "cluster_vanilla                           0.003948\n",
       "payment_method_Mailed check               0.005084\n",
       "cluster_price_sensitive                   0.005917\n",
       "senior_citizen                            0.006587\n",
       "avg_monthly_gb_download                   0.009642\n",
       "device_protection                         0.013187\n",
       "streaming_movies                          0.019594\n",
       "cltv                                      0.024838\n",
       "gender                                    0.027741\n",
       "phone_service                             0.027965\n",
       "payment_method_Credit card (automatic)    0.030989\n",
       "age                                       0.040621\n",
       "under_30                                  0.053720\n",
       "multiple_lines                            0.068401\n",
       "total_extra_data_charges                  0.072356\n",
       "offer_Offer B                             0.074572\n",
       "total_long_distance_charges               0.081698\n",
       "unlimited_data                            0.084227\n",
       "total_refunds                             0.089263\n",
       "offer_Offer A                             0.105567\n",
       "streaming_tv                              0.112633\n",
       "cluster_minimalist                        0.115894\n",
       "offer_Offer C                             0.124515\n",
       "streaming_music                           0.125950\n",
       "offer_Offer D                             0.139483\n",
       "offer_Offer E                             0.142401\n",
       "online_security                           0.143817\n",
       "online_backup                             0.148416\n",
       "internet_service_No                       0.154204\n",
       "paperless_billing                         0.158465\n",
       "tech_support                              0.172013\n",
       "payment_method_Electronic check           0.189399\n",
       "contract_One year                         0.354371\n",
       "total_revenue                             0.378793\n",
       "internet_service_Fiber optic              0.425056\n",
       "married                                   0.465840\n",
       "number_of_dependents                      0.485552\n",
       "contract_Two year                         0.663555\n",
       "number_of_referrals                       1.113799\n",
       "dtype: float64"
      ]
     },
     "execution_count": 24,
     "metadata": {},
     "output_type": "execute_result"
    }
   ],
   "source": [
    "important_coef.abs().sort_values()"
   ]
  },
  {
   "cell_type": "markdown",
   "id": "13750d1d",
   "metadata": {},
   "source": [
    "## Feature selection important cols  without standard scaler"
   ]
  },
  {
   "cell_type": "markdown",
   "id": "af407200",
   "metadata": {},
   "source": [
    "indication satisfaction score.,check cluster importance"
   ]
  },
  {
   "cell_type": "code",
   "execution_count": 25,
   "id": "ca6698d5",
   "metadata": {},
   "outputs": [],
   "source": [
    "important_cols = important_coef.abs().sort_values().tail(20).index"
   ]
  },
  {
   "cell_type": "code",
   "execution_count": 26,
   "id": "236fe1a0",
   "metadata": {},
   "outputs": [],
   "source": [
    "X_imp = telco_dummies[important_cols]\n",
    "y_imp = telco_dummies.customer_status"
   ]
  },
  {
   "cell_type": "code",
   "execution_count": 27,
   "id": "2a6ac84a",
   "metadata": {},
   "outputs": [],
   "source": [
    "X_imp_train, X_imp_test, y_imp_train, y_imp_test = train_test_split(X_imp, y_imp,\n",
    "                                                   stratify = y_imp, \n",
    "                                                    test_size=0.2,\n",
    "                                                   random_state=42)"
   ]
  },
  {
   "cell_type": "code",
   "execution_count": 28,
   "id": "c45c15b9",
   "metadata": {},
   "outputs": [
    {
     "name": "stdout",
     "output_type": "stream",
     "text": [
      "Training Accuracy: 0.78\n",
      "Testing Accuracy: 0.78\n",
      "\n",
      "\n"
     ]
    },
    {
     "data": {
      "text/plain": [
       "{'logreg__C': 0.01,\n",
       " 'logreg__class_weight': 'balanced',\n",
       " 'logreg__penalty': 'l2',\n",
       " 'logreg__solver': 'liblinear'}"
      ]
     },
     "execution_count": 28,
     "metadata": {},
     "output_type": "execute_result"
    }
   ],
   "source": [
    "#Instantiate pipeline \n",
    "pipe = Pipeline([\n",
    "    ('oversample', SMOTE(random_state=42)),\n",
    "    ('logreg', LogisticRegression(random_state=42, max_iter=10000))\n",
    "])\n",
    "\n",
    "#set pipe params\n",
    "pipe_params = {\n",
    "    'logreg__penalty' : ['l2'],\n",
    "    'logreg__solver' : ['liblinear'],\n",
    "    'logreg__C': np.logspace(-2, 1, 1),\n",
    "    'logreg__class_weight':[\"balanced\",]\n",
    "}\n",
    "\n",
    "#gridsearch\n",
    "gs = GridSearchCV(pipe, pipe_params,  cv=5,n_jobs=-1, scoring='accuracy')\n",
    "#fit model\n",
    "gs.fit(X_imp_train, y_imp_train)\n",
    "best_logreg = gs.best_estimator_\n",
    "\n",
    "print(f'Training Accuracy: {best_logreg.score(X_imp_train, y_imp_train):.2f}')\n",
    "print(f'Testing Accuracy: {best_logreg.score(X_imp_test, y_imp_test):.2f}')\n",
    "print('\\n')\n",
    "gs.best_params_"
   ]
  },
  {
   "cell_type": "code",
   "execution_count": 29,
   "id": "23033712",
   "metadata": {
    "scrolled": false
   },
   "outputs": [
    {
     "data": {
      "text/plain": [
       "contract_Two year                  0.439778\n",
       "cluster_minimalist                 0.475378\n",
       "internet_service_No                0.479407\n",
       "contract_One year                  0.489925\n",
       "online_security                    0.491664\n",
       "tech_support                       0.494287\n",
       "online_backup                      0.594946\n",
       "number_of_dependents               0.620657\n",
       "number_of_referrals                0.683512\n",
       "offer_Offer D                      0.715207\n",
       "offer_Offer C                      0.764550\n",
       "streaming_music                    0.839802\n",
       "offer_Offer A                      0.903754\n",
       "total_revenue                      0.999940\n",
       "streaming_tv                       1.030565\n",
       "offer_Offer E                      1.145614\n",
       "payment_method_Electronic check    1.159979\n",
       "paperless_billing                  1.199947\n",
       "married                            1.514662\n",
       "internet_service_Fiber optic       1.949914\n",
       "dtype: float64"
      ]
     },
     "execution_count": 29,
     "metadata": {},
     "output_type": "execute_result"
    }
   ],
   "source": [
    "pd.Series(np.exp(best_logreg.named_steps['logreg'].coef_[0]),X_imp.columns).sort_values()"
   ]
  },
  {
   "cell_type": "markdown",
   "id": "af3165e4",
   "metadata": {},
   "source": [
    "internet is 1.94 more likely to churn. contracted is 0.4 more likely to stay (less likely to churn)"
   ]
  },
  {
   "cell_type": "markdown",
   "id": "0984239f",
   "metadata": {},
   "source": [
    "## Model Prediction "
   ]
  },
  {
   "cell_type": "code",
   "execution_count": 30,
   "id": "424c94b0",
   "metadata": {},
   "outputs": [],
   "source": [
    "X_sc = StandardScaler().fit_transform(X)"
   ]
  },
  {
   "cell_type": "code",
   "execution_count": 31,
   "id": "0f4b0954",
   "metadata": {},
   "outputs": [],
   "source": [
    "best_model = best_rf.named_steps['rf']"
   ]
  },
  {
   "cell_type": "code",
   "execution_count": 32,
   "id": "596edb08",
   "metadata": {},
   "outputs": [],
   "source": [
    "#churn prob\n",
    "y_preds = best_model.predict(X_sc)\n",
    "y_preds = pd.DataFrame(y_preds)[0]\n",
    "y_preds = y_preds >= 0.5"
   ]
  },
  {
   "cell_type": "code",
   "execution_count": 33,
   "id": "a7d64988",
   "metadata": {
    "scrolled": true
   },
   "outputs": [
    {
     "data": {
      "text/html": [
       "<div>\n",
       "<style scoped>\n",
       "    .dataframe tbody tr th:only-of-type {\n",
       "        vertical-align: middle;\n",
       "    }\n",
       "\n",
       "    .dataframe tbody tr th {\n",
       "        vertical-align: top;\n",
       "    }\n",
       "\n",
       "    .dataframe thead th {\n",
       "        text-align: right;\n",
       "    }\n",
       "</style>\n",
       "<table border=\"1\" class=\"dataframe\">\n",
       "  <thead>\n",
       "    <tr style=\"text-align: right;\">\n",
       "      <th></th>\n",
       "      <th>true_values</th>\n",
       "      <th>preds_value</th>\n",
       "    </tr>\n",
       "  </thead>\n",
       "  <tbody>\n",
       "    <tr>\n",
       "      <th>0</th>\n",
       "      <td>1</td>\n",
       "      <td>1</td>\n",
       "    </tr>\n",
       "    <tr>\n",
       "      <th>1</th>\n",
       "      <td>1</td>\n",
       "      <td>1</td>\n",
       "    </tr>\n",
       "    <tr>\n",
       "      <th>2</th>\n",
       "      <td>1</td>\n",
       "      <td>1</td>\n",
       "    </tr>\n",
       "    <tr>\n",
       "      <th>3</th>\n",
       "      <td>1</td>\n",
       "      <td>1</td>\n",
       "    </tr>\n",
       "    <tr>\n",
       "      <th>4</th>\n",
       "      <td>1</td>\n",
       "      <td>1</td>\n",
       "    </tr>\n",
       "  </tbody>\n",
       "</table>\n",
       "</div>"
      ],
      "text/plain": [
       "   true_values  preds_value\n",
       "0            1            1\n",
       "1            1            1\n",
       "2            1            1\n",
       "3            1            1\n",
       "4            1            1"
      ]
     },
     "execution_count": 33,
     "metadata": {},
     "output_type": "execute_result"
    }
   ],
   "source": [
    "#compare ytest and prediction\n",
    "pred_df = pd.merge(y, pd.DataFrame(y_preds.astype(int)), left_index=True, right_index=True)\n",
    "pred_df = pred_df.rename(columns={'customer_status':'true_values',0:'preds_value'})\n",
    "pred_df.head()"
   ]
  },
  {
   "cell_type": "markdown",
   "id": "9e71c8ea",
   "metadata": {},
   "source": [
    "## Confusion Matrix"
   ]
  },
  {
   "cell_type": "code",
   "execution_count": 34,
   "id": "77f29444",
   "metadata": {},
   "outputs": [],
   "source": [
    "cm = confusion_matrix(y, y_preds)"
   ]
  },
  {
   "cell_type": "code",
   "execution_count": 35,
   "id": "8a7f8b82",
   "metadata": {},
   "outputs": [],
   "source": [
    "tn,fp,fn,tp = cm.ravel()"
   ]
  },
  {
   "cell_type": "code",
   "execution_count": 36,
   "id": "bc3edcd5",
   "metadata": {},
   "outputs": [
    {
     "name": "stdout",
     "output_type": "stream",
     "text": [
      "True Negatives: 3973\n",
      "False Positives: 1201\n",
      "False Negatives: 261\n",
      "True Positives: 1608\n"
     ]
    }
   ],
   "source": [
    "print(f'True Negatives: {tn}') #predict stay and stayed\n",
    "print(f'False Positives: {fp}') #predict churn but stayed\n",
    "print(f'False Negatives: {fn}') #predict stay but churn\n",
    "print(f'True Positives: {tp}') #predict churn and churned"
   ]
  },
  {
   "cell_type": "code",
   "execution_count": 37,
   "id": "9ad63ff6",
   "metadata": {},
   "outputs": [
    {
     "data": {
      "image/png": "[encoded data removed]",
      "text/plain": [
       "<Figure size 576x576 with 2 Axes>"
      ]
     },
     "metadata": {
      "needs_background": "light"
     },
     "output_type": "display_data"
    }
   ],
   "source": [
    "plt.figure(figsize=(8,8))\n",
    "sns.heatmap(cm, annot=True, fmt=\"d\", cmap='Blues',square=True, cbar_kws={'shrink':0.8}, annot_kws={'fontsize':12})\n",
    "plt.title('Confusion Matrix')\n",
    "plt.ylabel('Actual Churn')\n",
    "plt.xlabel('Predicted Churn')\n",
    "\n",
    "# plt.savefig('../images/confusion_matrix.png')\n",
    "\n",
    "plt.show()"
   ]
  },
  {
   "cell_type": "code",
   "execution_count": 38,
   "id": "bf5d2dbe",
   "metadata": {},
   "outputs": [
    {
     "name": "stdout",
     "output_type": "stream",
     "text": [
      "Sensitivity:  0.86\n",
      "Specificity:  0.77\n",
      "Precision: 0.57\n",
      "Accuracy:  0.79\n",
      "Misclassification:  0.21\n"
     ]
    }
   ],
   "source": [
    "sensitivity = tp / (tp + fn)\n",
    "specificity = tn / (tn + fp)\n",
    "precision = tp / (fp + tp) \n",
    "\n",
    "print(\"Sensitivity: \", round(sensitivity,2))\n",
    "print(\"Specificity: \", round(specificity,2))\n",
    "print(\"Precision:\", round(precision ,2))\n",
    "print(\"Accuracy: \", round((tn + tp) / (tn + fp + tp + fn),2))\n",
    "print(\"Misclassification: \", round((1-(tn + tp) / (tn + fp + tp + fn)),2))"
   ]
  },
  {
   "cell_type": "markdown",
   "id": "529403a7",
   "metadata": {},
   "source": [
    "## ROC AUC"
   ]
  },
  {
   "cell_type": "code",
   "execution_count": 39,
   "id": "821fe744",
   "metadata": {},
   "outputs": [
    {
     "name": "stdout",
     "output_type": "stream",
     "text": [
      "True Positive Rate:  0.86\n",
      "True Negative Rate (False Positive Rate) 0.23\n"
     ]
    }
   ],
   "source": [
    "#calculate TPR and TNR\n",
    "TPR = sensitivity\n",
    "print(\"True Positive Rate: \", round(TPR,2))\n",
    "TNR = 1 - specificity\n",
    "print(\"True Negative Rate (False Positive Rate)\", round(TNR,2))"
   ]
  },
  {
   "cell_type": "code",
   "execution_count": 40,
   "id": "43c2be4b",
   "metadata": {
    "scrolled": false
   },
   "outputs": [
    {
     "data": {
      "image/png": "[encoded data removed]",
      "text/plain": [
       "<Figure size 1080x720 with 1 Axes>"
      ]
     },
     "metadata": {
      "needs_background": "light"
     },
     "output_type": "display_data"
    }
   ],
   "source": [
    "#plot ROC AUC curve for RF model\n",
    "fig, ax = plt.subplots(figsize=(15, 10))\n",
    "plot_roc_curve(best_model,X,y,ax=ax)\n",
    "plt.plot([0,1],[0,1], color='tab:orange', linestyle='--', label='Baseline')\n",
    "\n",
    "plt.title('ROC AUC Curve - Random Forest + SMOTE Model')\n",
    "plt.legend()\n",
    "# plt.savefig('../images/ROC_AUC.png')\n",
    "plt.show()"
   ]
  },
  {
   "cell_type": "code",
   "execution_count": 41,
   "id": "9a94d3ac",
   "metadata": {},
   "outputs": [],
   "source": [
    "#focus is reduce FPR, "
   ]
  },
  {
   "cell_type": "code",
   "execution_count": null,
   "id": "50b68971",
   "metadata": {},
   "outputs": [],
   "source": []
  },
  {
   "cell_type": "code",
   "execution_count": null,
   "id": "bd1171ba",
   "metadata": {},
   "outputs": [],
   "source": []
  },
  {
   "cell_type": "code",
   "execution_count": null,
   "id": "5744f326",
   "metadata": {},
   "outputs": [],
   "source": []
  },
  {
   "cell_type": "markdown",
   "id": "bcd7addf",
   "metadata": {},
   "source": [
    "### Checking False Negative Classification to learn from and implement for false positive customer"
   ]
  },
  {
   "cell_type": "code",
   "execution_count": 42,
   "id": "96149160",
   "metadata": {},
   "outputs": [],
   "source": [
    "#whether false positive is a prealert"
   ]
  },
  {
   "cell_type": "code",
   "execution_count": 43,
   "id": "3b6c7c8e",
   "metadata": {},
   "outputs": [],
   "source": [
    "#false positive\n",
    "false = pred_df[(pred_df.true_values == 0) & (pred_df.preds_value == 1)]\n",
    "false.to_csv('../data/telco_false_class.csv')"
   ]
  },
  {
   "cell_type": "code",
   "execution_count": 44,
   "id": "f793485d",
   "metadata": {},
   "outputs": [
    {
     "data": {
      "text/html": [
       "<div>\n",
       "<style scoped>\n",
       "    .dataframe tbody tr th:only-of-type {\n",
       "        vertical-align: middle;\n",
       "    }\n",
       "\n",
       "    .dataframe tbody tr th {\n",
       "        vertical-align: top;\n",
       "    }\n",
       "\n",
       "    .dataframe thead th {\n",
       "        text-align: right;\n",
       "    }\n",
       "</style>\n",
       "<table border=\"1\" class=\"dataframe\">\n",
       "  <thead>\n",
       "    <tr style=\"text-align: right;\">\n",
       "      <th></th>\n",
       "      <th>true_values</th>\n",
       "      <th>preds_value</th>\n",
       "    </tr>\n",
       "  </thead>\n",
       "  <tbody>\n",
       "    <tr>\n",
       "      <th>7</th>\n",
       "      <td>1</td>\n",
       "      <td>0</td>\n",
       "    </tr>\n",
       "    <tr>\n",
       "      <th>21</th>\n",
       "      <td>1</td>\n",
       "      <td>0</td>\n",
       "    </tr>\n",
       "    <tr>\n",
       "      <th>25</th>\n",
       "      <td>1</td>\n",
       "      <td>0</td>\n",
       "    </tr>\n",
       "    <tr>\n",
       "      <th>35</th>\n",
       "      <td>1</td>\n",
       "      <td>0</td>\n",
       "    </tr>\n",
       "    <tr>\n",
       "      <th>36</th>\n",
       "      <td>1</td>\n",
       "      <td>0</td>\n",
       "    </tr>\n",
       "    <tr>\n",
       "      <th>...</th>\n",
       "      <td>...</td>\n",
       "      <td>...</td>\n",
       "    </tr>\n",
       "    <tr>\n",
       "      <th>2518</th>\n",
       "      <td>1</td>\n",
       "      <td>0</td>\n",
       "    </tr>\n",
       "    <tr>\n",
       "      <th>2525</th>\n",
       "      <td>1</td>\n",
       "      <td>0</td>\n",
       "    </tr>\n",
       "    <tr>\n",
       "      <th>2530</th>\n",
       "      <td>1</td>\n",
       "      <td>0</td>\n",
       "    </tr>\n",
       "    <tr>\n",
       "      <th>2532</th>\n",
       "      <td>1</td>\n",
       "      <td>0</td>\n",
       "    </tr>\n",
       "    <tr>\n",
       "      <th>2534</th>\n",
       "      <td>1</td>\n",
       "      <td>0</td>\n",
       "    </tr>\n",
       "  </tbody>\n",
       "</table>\n",
       "<p>261 rows × 2 columns</p>\n",
       "</div>"
      ],
      "text/plain": [
       "      true_values  preds_value\n",
       "7               1            0\n",
       "21              1            0\n",
       "25              1            0\n",
       "35              1            0\n",
       "36              1            0\n",
       "...           ...          ...\n",
       "2518            1            0\n",
       "2525            1            0\n",
       "2530            1            0\n",
       "2532            1            0\n",
       "2534            1            0\n",
       "\n",
       "[261 rows x 2 columns]"
      ]
     },
     "execution_count": 44,
     "metadata": {},
     "output_type": "execute_result"
    }
   ],
   "source": [
    "#predicted to stay but churned\n",
    "miss_cust = pred_df[(pred_df.true_values == 1) & (pred_df.preds_value == 0)]\n",
    "\n",
    "#for survival analysis check \n",
    "miss_cust.to_csv('../data/telco_miss_class.csv')"
   ]
  },
  {
   "cell_type": "code",
   "execution_count": 46,
   "id": "c83db739",
   "metadata": {},
   "outputs": [
    {
     "data": {
      "text/html": [
       "<div>\n",
       "<style scoped>\n",
       "    .dataframe tbody tr th:only-of-type {\n",
       "        vertical-align: middle;\n",
       "    }\n",
       "\n",
       "    .dataframe tbody tr th {\n",
       "        vertical-align: top;\n",
       "    }\n",
       "\n",
       "    .dataframe thead th {\n",
       "        text-align: right;\n",
       "    }\n",
       "</style>\n",
       "<table border=\"1\" class=\"dataframe\">\n",
       "  <thead>\n",
       "    <tr style=\"text-align: right;\">\n",
       "      <th></th>\n",
       "      <th>gender</th>\n",
       "      <th>age</th>\n",
       "      <th>under_30</th>\n",
       "      <th>senior_citizen</th>\n",
       "      <th>married</th>\n",
       "      <th>dependents</th>\n",
       "      <th>number_of_dependents</th>\n",
       "      <th>city</th>\n",
       "      <th>tenure_months</th>\n",
       "      <th>phone_service</th>\n",
       "      <th>multiple_lines</th>\n",
       "      <th>internet_service</th>\n",
       "      <th>online_security</th>\n",
       "      <th>online_backup</th>\n",
       "      <th>device_protection</th>\n",
       "      <th>tech_support</th>\n",
       "      <th>streaming_tv</th>\n",
       "      <th>streaming_movies</th>\n",
       "      <th>contract</th>\n",
       "      <th>paperless_billing</th>\n",
       "      <th>payment_method</th>\n",
       "      <th>churn_value</th>\n",
       "      <th>churn_score</th>\n",
       "      <th>cltv</th>\n",
       "      <th>churn_reason</th>\n",
       "      <th>referred_a_friend</th>\n",
       "      <th>number_of_referrals</th>\n",
       "      <th>offer</th>\n",
       "      <th>avg_monthly_long_distance_charges</th>\n",
       "      <th>internet_type</th>\n",
       "      <th>avg_monthly_gb_download</th>\n",
       "      <th>streaming_music</th>\n",
       "      <th>unlimited_data</th>\n",
       "      <th>monthly_charge</th>\n",
       "      <th>total_charges</th>\n",
       "      <th>total_refunds</th>\n",
       "      <th>total_extra_data_charges</th>\n",
       "      <th>total_long_distance_charges</th>\n",
       "      <th>total_revenue</th>\n",
       "      <th>satisfaction_score</th>\n",
       "      <th>customer_status</th>\n",
       "      <th>churn_category</th>\n",
       "      <th>pop_density</th>\n",
       "      <th>new_user</th>\n",
       "      <th>cluster</th>\n",
       "    </tr>\n",
       "  </thead>\n",
       "  <tbody>\n",
       "    <tr>\n",
       "      <th>7</th>\n",
       "      <td>0</td>\n",
       "      <td>66</td>\n",
       "      <td>0</td>\n",
       "      <td>1</td>\n",
       "      <td>1</td>\n",
       "      <td>0</td>\n",
       "      <td>0</td>\n",
       "      <td>Sierra Madre</td>\n",
       "      <td>58</td>\n",
       "      <td>0</td>\n",
       "      <td>0</td>\n",
       "      <td>DSL</td>\n",
       "      <td>0</td>\n",
       "      <td>1</td>\n",
       "      <td>1</td>\n",
       "      <td>0</td>\n",
       "      <td>0</td>\n",
       "      <td>1</td>\n",
       "      <td>Month-to-month</td>\n",
       "      <td>1</td>\n",
       "      <td>Electronic check</td>\n",
       "      <td>1</td>\n",
       "      <td>100</td>\n",
       "      <td>5444</td>\n",
       "      <td>Service dissatisfaction</td>\n",
       "      <td>1</td>\n",
       "      <td>6</td>\n",
       "      <td>Offer B</td>\n",
       "      <td>0.00</td>\n",
       "      <td>DSL</td>\n",
       "      <td>24</td>\n",
       "      <td>0</td>\n",
       "      <td>1</td>\n",
       "      <td>45.30</td>\n",
       "      <td>2651.20</td>\n",
       "      <td>40.95</td>\n",
       "      <td>0</td>\n",
       "      <td>0.00</td>\n",
       "      <td>2610.25</td>\n",
       "      <td>1</td>\n",
       "      <td>1</td>\n",
       "      <td>Dissatisfaction</td>\n",
       "      <td>3698</td>\n",
       "      <td>0</td>\n",
       "      <td>vanilla</td>\n",
       "    </tr>\n",
       "    <tr>\n",
       "      <th>21</th>\n",
       "      <td>1</td>\n",
       "      <td>70</td>\n",
       "      <td>0</td>\n",
       "      <td>1</td>\n",
       "      <td>0</td>\n",
       "      <td>0</td>\n",
       "      <td>0</td>\n",
       "      <td>El Cajon</td>\n",
       "      <td>54</td>\n",
       "      <td>1</td>\n",
       "      <td>1</td>\n",
       "      <td>DSL</td>\n",
       "      <td>1</td>\n",
       "      <td>1</td>\n",
       "      <td>0</td>\n",
       "      <td>1</td>\n",
       "      <td>1</td>\n",
       "      <td>1</td>\n",
       "      <td>One year</td>\n",
       "      <td>0</td>\n",
       "      <td>Bank transfer (automatic)</td>\n",
       "      <td>1</td>\n",
       "      <td>83</td>\n",
       "      <td>4149</td>\n",
       "      <td>Long distance charges</td>\n",
       "      <td>0</td>\n",
       "      <td>0</td>\n",
       "      <td>Offer B</td>\n",
       "      <td>12.08</td>\n",
       "      <td>DSL</td>\n",
       "      <td>5</td>\n",
       "      <td>1</td>\n",
       "      <td>1</td>\n",
       "      <td>82.45</td>\n",
       "      <td>4350.10</td>\n",
       "      <td>0.00</td>\n",
       "      <td>0</td>\n",
       "      <td>652.32</td>\n",
       "      <td>5002.42</td>\n",
       "      <td>1</td>\n",
       "      <td>1</td>\n",
       "      <td>Competitor</td>\n",
       "      <td>5188</td>\n",
       "      <td>0</td>\n",
       "      <td>heavyweight</td>\n",
       "    </tr>\n",
       "    <tr>\n",
       "      <th>25</th>\n",
       "      <td>0</td>\n",
       "      <td>79</td>\n",
       "      <td>0</td>\n",
       "      <td>1</td>\n",
       "      <td>1</td>\n",
       "      <td>0</td>\n",
       "      <td>0</td>\n",
       "      <td>Indian Wells</td>\n",
       "      <td>11</td>\n",
       "      <td>1</td>\n",
       "      <td>0</td>\n",
       "      <td>No</td>\n",
       "      <td>0</td>\n",
       "      <td>0</td>\n",
       "      <td>0</td>\n",
       "      <td>0</td>\n",
       "      <td>0</td>\n",
       "      <td>0</td>\n",
       "      <td>Month-to-month</td>\n",
       "      <td>0</td>\n",
       "      <td>Mailed check</td>\n",
       "      <td>1</td>\n",
       "      <td>80</td>\n",
       "      <td>5888</td>\n",
       "      <td>Limited range of services</td>\n",
       "      <td>1</td>\n",
       "      <td>1</td>\n",
       "      <td>None</td>\n",
       "      <td>29.54</td>\n",
       "      <td>None</td>\n",
       "      <td>0</td>\n",
       "      <td>0</td>\n",
       "      <td>0</td>\n",
       "      <td>19.95</td>\n",
       "      <td>214.75</td>\n",
       "      <td>0.00</td>\n",
       "      <td>0</td>\n",
       "      <td>324.94</td>\n",
       "      <td>539.69</td>\n",
       "      <td>1</td>\n",
       "      <td>1</td>\n",
       "      <td>Competitor</td>\n",
       "      <td>358</td>\n",
       "      <td>0</td>\n",
       "      <td>minimalist</td>\n",
       "    </tr>\n",
       "    <tr>\n",
       "      <th>35</th>\n",
       "      <td>1</td>\n",
       "      <td>78</td>\n",
       "      <td>0</td>\n",
       "      <td>1</td>\n",
       "      <td>1</td>\n",
       "      <td>0</td>\n",
       "      <td>0</td>\n",
       "      <td>Yorba Linda</td>\n",
       "      <td>65</td>\n",
       "      <td>1</td>\n",
       "      <td>1</td>\n",
       "      <td>Fiber optic</td>\n",
       "      <td>1</td>\n",
       "      <td>0</td>\n",
       "      <td>1</td>\n",
       "      <td>0</td>\n",
       "      <td>1</td>\n",
       "      <td>1</td>\n",
       "      <td>Month-to-month</td>\n",
       "      <td>0</td>\n",
       "      <td>Bank transfer (automatic)</td>\n",
       "      <td>1</td>\n",
       "      <td>91</td>\n",
       "      <td>4196</td>\n",
       "      <td>Competitor offered higher download speeds</td>\n",
       "      <td>1</td>\n",
       "      <td>3</td>\n",
       "      <td>Offer B</td>\n",
       "      <td>18.39</td>\n",
       "      <td>Fiber Optic</td>\n",
       "      <td>28</td>\n",
       "      <td>0</td>\n",
       "      <td>1</td>\n",
       "      <td>105.25</td>\n",
       "      <td>6786.40</td>\n",
       "      <td>0.00</td>\n",
       "      <td>0</td>\n",
       "      <td>1195.35</td>\n",
       "      <td>7981.75</td>\n",
       "      <td>1</td>\n",
       "      <td>1</td>\n",
       "      <td>Attitude</td>\n",
       "      <td>2226</td>\n",
       "      <td>0</td>\n",
       "      <td>heavyweight</td>\n",
       "    </tr>\n",
       "    <tr>\n",
       "      <th>36</th>\n",
       "      <td>0</td>\n",
       "      <td>75</td>\n",
       "      <td>0</td>\n",
       "      <td>1</td>\n",
       "      <td>1</td>\n",
       "      <td>0</td>\n",
       "      <td>0</td>\n",
       "      <td>Summerland</td>\n",
       "      <td>49</td>\n",
       "      <td>1</td>\n",
       "      <td>1</td>\n",
       "      <td>Fiber optic</td>\n",
       "      <td>0</td>\n",
       "      <td>1</td>\n",
       "      <td>0</td>\n",
       "      <td>0</td>\n",
       "      <td>0</td>\n",
       "      <td>1</td>\n",
       "      <td>Month-to-month</td>\n",
       "      <td>0</td>\n",
       "      <td>Credit card (automatic)</td>\n",
       "      <td>1</td>\n",
       "      <td>96</td>\n",
       "      <td>5059</td>\n",
       "      <td>Competitor made better offer</td>\n",
       "      <td>1</td>\n",
       "      <td>3</td>\n",
       "      <td>Offer B</td>\n",
       "      <td>22.92</td>\n",
       "      <td>Fiber Optic</td>\n",
       "      <td>14</td>\n",
       "      <td>0</td>\n",
       "      <td>1</td>\n",
       "      <td>90.05</td>\n",
       "      <td>4547.25</td>\n",
       "      <td>0.00</td>\n",
       "      <td>0</td>\n",
       "      <td>1123.08</td>\n",
       "      <td>5670.33</td>\n",
       "      <td>2</td>\n",
       "      <td>1</td>\n",
       "      <td>Competitor</td>\n",
       "      <td>1519</td>\n",
       "      <td>0</td>\n",
       "      <td>heavyweight</td>\n",
       "    </tr>\n",
       "  </tbody>\n",
       "</table>\n",
       "</div>"
      ],
      "text/plain": [
       "    gender  age  under_30  senior_citizen  married  dependents  \\\n",
       "7        0   66         0               1        1           0   \n",
       "21       1   70         0               1        0           0   \n",
       "25       0   79         0               1        1           0   \n",
       "35       1   78         0               1        1           0   \n",
       "36       0   75         0               1        1           0   \n",
       "\n",
       "    number_of_dependents          city  tenure_months  phone_service  \\\n",
       "7                      0  Sierra Madre             58              0   \n",
       "21                     0      El Cajon             54              1   \n",
       "25                     0  Indian Wells             11              1   \n",
       "35                     0   Yorba Linda             65              1   \n",
       "36                     0    Summerland             49              1   \n",
       "\n",
       "    multiple_lines internet_service  online_security  online_backup  \\\n",
       "7                0              DSL                0              1   \n",
       "21               1              DSL                1              1   \n",
       "25               0               No                0              0   \n",
       "35               1      Fiber optic                1              0   \n",
       "36               1      Fiber optic                0              1   \n",
       "\n",
       "    device_protection  tech_support  streaming_tv  streaming_movies  \\\n",
       "7                   1             0             0                 1   \n",
       "21                  0             1             1                 1   \n",
       "25                  0             0             0                 0   \n",
       "35                  1             0             1                 1   \n",
       "36                  0             0             0                 1   \n",
       "\n",
       "          contract  paperless_billing             payment_method  churn_value  \\\n",
       "7   Month-to-month                  1           Electronic check            1   \n",
       "21        One year                  0  Bank transfer (automatic)            1   \n",
       "25  Month-to-month                  0               Mailed check            1   \n",
       "35  Month-to-month                  0  Bank transfer (automatic)            1   \n",
       "36  Month-to-month                  0    Credit card (automatic)            1   \n",
       "\n",
       "    churn_score  cltv                               churn_reason  \\\n",
       "7           100  5444                    Service dissatisfaction   \n",
       "21           83  4149                      Long distance charges   \n",
       "25           80  5888                  Limited range of services   \n",
       "35           91  4196  Competitor offered higher download speeds   \n",
       "36           96  5059               Competitor made better offer   \n",
       "\n",
       "    referred_a_friend  number_of_referrals    offer  \\\n",
       "7                   1                    6  Offer B   \n",
       "21                  0                    0  Offer B   \n",
       "25                  1                    1     None   \n",
       "35                  1                    3  Offer B   \n",
       "36                  1                    3  Offer B   \n",
       "\n",
       "    avg_monthly_long_distance_charges internet_type  avg_monthly_gb_download  \\\n",
       "7                                0.00           DSL                       24   \n",
       "21                              12.08           DSL                        5   \n",
       "25                              29.54          None                        0   \n",
       "35                              18.39   Fiber Optic                       28   \n",
       "36                              22.92   Fiber Optic                       14   \n",
       "\n",
       "    streaming_music  unlimited_data  monthly_charge  total_charges  \\\n",
       "7                 0               1           45.30        2651.20   \n",
       "21                1               1           82.45        4350.10   \n",
       "25                0               0           19.95         214.75   \n",
       "35                0               1          105.25        6786.40   \n",
       "36                0               1           90.05        4547.25   \n",
       "\n",
       "    total_refunds  total_extra_data_charges  total_long_distance_charges  \\\n",
       "7           40.95                         0                         0.00   \n",
       "21           0.00                         0                       652.32   \n",
       "25           0.00                         0                       324.94   \n",
       "35           0.00                         0                      1195.35   \n",
       "36           0.00                         0                      1123.08   \n",
       "\n",
       "    total_revenue  satisfaction_score  customer_status   churn_category  \\\n",
       "7         2610.25                   1                1  Dissatisfaction   \n",
       "21        5002.42                   1                1       Competitor   \n",
       "25         539.69                   1                1       Competitor   \n",
       "35        7981.75                   1                1         Attitude   \n",
       "36        5670.33                   2                1       Competitor   \n",
       "\n",
       "    pop_density  new_user      cluster  \n",
       "7          3698         0      vanilla  \n",
       "21         5188         0  heavyweight  \n",
       "25          358         0   minimalist  \n",
       "35         2226         0  heavyweight  \n",
       "36         1519         0  heavyweight  "
      ]
     },
     "execution_count": 46,
     "metadata": {},
     "output_type": "execute_result"
    }
   ],
   "source": [
    "miss_cust = telco_final.loc[miss_cust.index]\n",
    "miss_cust.head()"
   ]
  },
  {
   "cell_type": "code",
   "execution_count": 47,
   "id": "a782f5d4",
   "metadata": {},
   "outputs": [
    {
     "data": {
      "text/plain": [
       "3     14\n",
       "1     11\n",
       "2     11\n",
       "4     11\n",
       "5      8\n",
       "6      8\n",
       "7      5\n",
       "8      1\n",
       "11     1\n",
       "Name: tenure_months, dtype: int64"
      ]
     },
     "execution_count": 47,
     "metadata": {},
     "output_type": "execute_result"
    }
   ],
   "source": [
    "miss_cust.tenure_months.value_counts().value_counts()\n",
    "#far lesser than predicted survival analysis"
   ]
  },
  {
   "cell_type": "code",
   "execution_count": 48,
   "id": "8ac040ef",
   "metadata": {},
   "outputs": [
    {
     "data": {
      "text/plain": [
       "Month-to-month    125\n",
       "One year           90\n",
       "Two year           46\n",
       "Name: contract, dtype: int64"
      ]
     },
     "execution_count": 48,
     "metadata": {},
     "output_type": "execute_result"
    }
   ],
   "source": [
    "miss_cust.contract.value_counts()"
   ]
  },
  {
   "cell_type": "code",
   "execution_count": 49,
   "id": "c77d7384",
   "metadata": {},
   "outputs": [
    {
     "data": {
      "image/png": "[encoded data removed]",
      "text/plain": [
       "<Figure size 864x864 with 1 Axes>"
      ]
     },
     "metadata": {
      "needs_background": "light"
     },
     "output_type": "display_data"
    }
   ],
   "source": [
    "plt.figure(figsize=(12,12))\n",
    "miss_cust.churn_reason.value_counts().sort_values(ascending=True).plot(kind='barh')\n",
    "plt.show()"
   ]
  },
  {
   "cell_type": "code",
   "execution_count": 50,
   "id": "2ccca7e9",
   "metadata": {},
   "outputs": [
    {
     "data": {
      "text/plain": [
       "None       146\n",
       "Offer B     37\n",
       "Offer D     24\n",
       "Offer A     23\n",
       "Offer E     17\n",
       "Offer C     14\n",
       "Name: offer, dtype: int64"
      ]
     },
     "execution_count": 50,
     "metadata": {},
     "output_type": "execute_result"
    }
   ],
   "source": [
    "miss_cust.offer.value_counts()"
   ]
  },
  {
   "cell_type": "code",
   "execution_count": 51,
   "id": "510c3f75",
   "metadata": {},
   "outputs": [
    {
     "data": {
      "text/html": [
       "<div>\n",
       "<style scoped>\n",
       "    .dataframe tbody tr th:only-of-type {\n",
       "        vertical-align: middle;\n",
       "    }\n",
       "\n",
       "    .dataframe tbody tr th {\n",
       "        vertical-align: top;\n",
       "    }\n",
       "\n",
       "    .dataframe thead th {\n",
       "        text-align: right;\n",
       "    }\n",
       "</style>\n",
       "<table border=\"1\" class=\"dataframe\">\n",
       "  <thead>\n",
       "    <tr style=\"text-align: right;\">\n",
       "      <th>contract</th>\n",
       "      <th>Month-to-month</th>\n",
       "      <th>One year</th>\n",
       "      <th>Two year</th>\n",
       "    </tr>\n",
       "    <tr>\n",
       "      <th>offer</th>\n",
       "      <th></th>\n",
       "      <th></th>\n",
       "      <th></th>\n",
       "    </tr>\n",
       "  </thead>\n",
       "  <tbody>\n",
       "    <tr>\n",
       "      <th>None</th>\n",
       "      <td>75</td>\n",
       "      <td>48</td>\n",
       "      <td>23</td>\n",
       "    </tr>\n",
       "    <tr>\n",
       "      <th>Offer A</th>\n",
       "      <td>2</td>\n",
       "      <td>6</td>\n",
       "      <td>15</td>\n",
       "    </tr>\n",
       "    <tr>\n",
       "      <th>Offer B</th>\n",
       "      <td>9</td>\n",
       "      <td>21</td>\n",
       "      <td>7</td>\n",
       "    </tr>\n",
       "    <tr>\n",
       "      <th>Offer C</th>\n",
       "      <td>6</td>\n",
       "      <td>7</td>\n",
       "      <td>1</td>\n",
       "    </tr>\n",
       "    <tr>\n",
       "      <th>Offer D</th>\n",
       "      <td>19</td>\n",
       "      <td>5</td>\n",
       "      <td>0</td>\n",
       "    </tr>\n",
       "    <tr>\n",
       "      <th>Offer E</th>\n",
       "      <td>14</td>\n",
       "      <td>3</td>\n",
       "      <td>0</td>\n",
       "    </tr>\n",
       "  </tbody>\n",
       "</table>\n",
       "</div>"
      ],
      "text/plain": [
       "contract  Month-to-month  One year  Two year\n",
       "offer                                       \n",
       "None                  75        48        23\n",
       "Offer A                2         6        15\n",
       "Offer B                9        21         7\n",
       "Offer C                6         7         1\n",
       "Offer D               19         5         0\n",
       "Offer E               14         3         0"
      ]
     },
     "execution_count": 51,
     "metadata": {},
     "output_type": "execute_result"
    },
    {
     "data": {
      "text/plain": [
       "<Figure size 864x864 with 0 Axes>"
      ]
     },
     "metadata": {},
     "output_type": "display_data"
    }
   ],
   "source": [
    "plt.figure(figsize=(12,12))\n",
    "pd.crosstab(index=miss_cust.offer, columns=miss_cust.contract)"
   ]
  },
  {
   "cell_type": "code",
   "execution_count": 52,
   "id": "f41b47be",
   "metadata": {},
   "outputs": [
    {
     "data": {
      "text/plain": [
       "heavyweight        107\n",
       "vanilla            100\n",
       "minimalist          44\n",
       "price_sensitive     10\n",
       "Name: cluster, dtype: int64"
      ]
     },
     "execution_count": 52,
     "metadata": {},
     "output_type": "execute_result"
    }
   ],
   "source": [
    "miss_cust.cluster.value_counts() "
   ]
  },
  {
   "cell_type": "code",
   "execution_count": 53,
   "id": "f0c78e24",
   "metadata": {},
   "outputs": [
    {
     "data": {
      "text/html": [
       "<div>\n",
       "<style scoped>\n",
       "    .dataframe tbody tr th:only-of-type {\n",
       "        vertical-align: middle;\n",
       "    }\n",
       "\n",
       "    .dataframe tbody tr th {\n",
       "        vertical-align: top;\n",
       "    }\n",
       "\n",
       "    .dataframe thead th {\n",
       "        text-align: right;\n",
       "    }\n",
       "</style>\n",
       "<table border=\"1\" class=\"dataframe\">\n",
       "  <thead>\n",
       "    <tr style=\"text-align: right;\">\n",
       "      <th>contract</th>\n",
       "      <th>Month-to-month</th>\n",
       "      <th>One year</th>\n",
       "      <th>Two year</th>\n",
       "    </tr>\n",
       "    <tr>\n",
       "      <th>cluster</th>\n",
       "      <th></th>\n",
       "      <th></th>\n",
       "      <th></th>\n",
       "    </tr>\n",
       "  </thead>\n",
       "  <tbody>\n",
       "    <tr>\n",
       "      <th>heavyweight</th>\n",
       "      <td>26</td>\n",
       "      <td>44</td>\n",
       "      <td>37</td>\n",
       "    </tr>\n",
       "    <tr>\n",
       "      <th>minimalist</th>\n",
       "      <td>30</td>\n",
       "      <td>9</td>\n",
       "      <td>5</td>\n",
       "    </tr>\n",
       "    <tr>\n",
       "      <th>price_sensitive</th>\n",
       "      <td>10</td>\n",
       "      <td>0</td>\n",
       "      <td>0</td>\n",
       "    </tr>\n",
       "    <tr>\n",
       "      <th>vanilla</th>\n",
       "      <td>59</td>\n",
       "      <td>37</td>\n",
       "      <td>4</td>\n",
       "    </tr>\n",
       "  </tbody>\n",
       "</table>\n",
       "</div>"
      ],
      "text/plain": [
       "contract         Month-to-month  One year  Two year\n",
       "cluster                                            \n",
       "heavyweight                  26        44        37\n",
       "minimalist                   30         9         5\n",
       "price_sensitive              10         0         0\n",
       "vanilla                      59        37         4"
      ]
     },
     "execution_count": 53,
     "metadata": {},
     "output_type": "execute_result"
    }
   ],
   "source": [
    "pd.crosstab(index=miss_cust.cluster, columns=miss_cust.contract)"
   ]
  },
  {
   "cell_type": "code",
   "execution_count": 54,
   "id": "41910382",
   "metadata": {},
   "outputs": [
    {
     "data": {
      "text/html": [
       "<div>\n",
       "<style scoped>\n",
       "    .dataframe tbody tr th:only-of-type {\n",
       "        vertical-align: middle;\n",
       "    }\n",
       "\n",
       "    .dataframe tbody tr th {\n",
       "        vertical-align: top;\n",
       "    }\n",
       "\n",
       "    .dataframe thead tr th {\n",
       "        text-align: left;\n",
       "    }\n",
       "\n",
       "    .dataframe thead tr:last-of-type th {\n",
       "        text-align: right;\n",
       "    }\n",
       "</style>\n",
       "<table border=\"1\" class=\"dataframe\">\n",
       "  <thead>\n",
       "    <tr>\n",
       "      <th></th>\n",
       "      <th>city</th>\n",
       "      <th>internet_service</th>\n",
       "      <th>contract</th>\n",
       "      <th>payment_method</th>\n",
       "      <th>churn_reason</th>\n",
       "      <th>offer</th>\n",
       "      <th>internet_type</th>\n",
       "      <th>churn_category</th>\n",
       "    </tr>\n",
       "    <tr>\n",
       "      <th></th>\n",
       "      <th>mode</th>\n",
       "      <th>mode</th>\n",
       "      <th>mode</th>\n",
       "      <th>mode</th>\n",
       "      <th>mode</th>\n",
       "      <th>mode</th>\n",
       "      <th>mode</th>\n",
       "      <th>mode</th>\n",
       "    </tr>\n",
       "    <tr>\n",
       "      <th>cluster</th>\n",
       "      <th></th>\n",
       "      <th></th>\n",
       "      <th></th>\n",
       "      <th></th>\n",
       "      <th></th>\n",
       "      <th></th>\n",
       "      <th></th>\n",
       "      <th></th>\n",
       "    </tr>\n",
       "  </thead>\n",
       "  <tbody>\n",
       "    <tr>\n",
       "      <th>heavyweight</th>\n",
       "      <td>Los Angeles</td>\n",
       "      <td>Fiber optic</td>\n",
       "      <td>One year</td>\n",
       "      <td>Bank transfer (automatic)</td>\n",
       "      <td>Competitor offered more data</td>\n",
       "      <td>None</td>\n",
       "      <td>Fiber Optic</td>\n",
       "      <td>Competitor</td>\n",
       "    </tr>\n",
       "    <tr>\n",
       "      <th>minimalist</th>\n",
       "      <td>San Diego</td>\n",
       "      <td>No</td>\n",
       "      <td>Month-to-month</td>\n",
       "      <td>Mailed check</td>\n",
       "      <td>[Attitude of support person, Competitor offere...</td>\n",
       "      <td>None</td>\n",
       "      <td>None</td>\n",
       "      <td>Attitude</td>\n",
       "    </tr>\n",
       "    <tr>\n",
       "      <th>price_sensitive</th>\n",
       "      <td>[Altadena, California Hot Springs, Camp Nelson...</td>\n",
       "      <td>Fiber optic</td>\n",
       "      <td>Month-to-month</td>\n",
       "      <td>[Bank transfer (automatic), Electronic check]</td>\n",
       "      <td>Attitude of support person</td>\n",
       "      <td>None</td>\n",
       "      <td>Fiber Optic</td>\n",
       "      <td>Competitor</td>\n",
       "    </tr>\n",
       "    <tr>\n",
       "      <th>vanilla</th>\n",
       "      <td>Los Angeles</td>\n",
       "      <td>DSL</td>\n",
       "      <td>Month-to-month</td>\n",
       "      <td>Mailed check</td>\n",
       "      <td>Competitor offered higher download speeds</td>\n",
       "      <td>None</td>\n",
       "      <td>DSL</td>\n",
       "      <td>Competitor</td>\n",
       "    </tr>\n",
       "  </tbody>\n",
       "</table>\n",
       "</div>"
      ],
      "text/plain": [
       "                                                              city  \\\n",
       "                                                              mode   \n",
       "cluster                                                              \n",
       "heavyweight                                            Los Angeles   \n",
       "minimalist                                               San Diego   \n",
       "price_sensitive  [Altadena, California Hot Springs, Camp Nelson...   \n",
       "vanilla                                                Los Angeles   \n",
       "\n",
       "                internet_service        contract  \\\n",
       "                            mode            mode   \n",
       "cluster                                            \n",
       "heavyweight          Fiber optic        One year   \n",
       "minimalist                    No  Month-to-month   \n",
       "price_sensitive      Fiber optic  Month-to-month   \n",
       "vanilla                      DSL  Month-to-month   \n",
       "\n",
       "                                                payment_method  \\\n",
       "                                                          mode   \n",
       "cluster                                                          \n",
       "heavyweight                          Bank transfer (automatic)   \n",
       "minimalist                                        Mailed check   \n",
       "price_sensitive  [Bank transfer (automatic), Electronic check]   \n",
       "vanilla                                           Mailed check   \n",
       "\n",
       "                                                      churn_reason offer  \\\n",
       "                                                              mode  mode   \n",
       "cluster                                                                    \n",
       "heavyweight                           Competitor offered more data  None   \n",
       "minimalist       [Attitude of support person, Competitor offere...  None   \n",
       "price_sensitive                         Attitude of support person  None   \n",
       "vanilla                  Competitor offered higher download speeds  None   \n",
       "\n",
       "                internet_type churn_category  \n",
       "                         mode           mode  \n",
       "cluster                                       \n",
       "heavyweight       Fiber Optic     Competitor  \n",
       "minimalist               None       Attitude  \n",
       "price_sensitive   Fiber Optic     Competitor  \n",
       "vanilla                   DSL     Competitor  "
      ]
     },
     "execution_count": 54,
     "metadata": {},
     "output_type": "execute_result"
    }
   ],
   "source": [
    "mode_df = miss_cust.select_dtypes(exclude='number')\n",
    "\n",
    "mode_df.groupby('cluster').agg([pd.Series.mode])"
   ]
  },
  {
   "cell_type": "code",
   "execution_count": 55,
   "id": "daaa2415",
   "metadata": {},
   "outputs": [
    {
     "data": {
      "text/html": [
       "<div>\n",
       "<style scoped>\n",
       "    .dataframe tbody tr th:only-of-type {\n",
       "        vertical-align: middle;\n",
       "    }\n",
       "\n",
       "    .dataframe tbody tr th {\n",
       "        vertical-align: top;\n",
       "    }\n",
       "\n",
       "    .dataframe thead tr th {\n",
       "        text-align: left;\n",
       "    }\n",
       "\n",
       "    .dataframe thead tr:last-of-type th {\n",
       "        text-align: right;\n",
       "    }\n",
       "</style>\n",
       "<table border=\"1\" class=\"dataframe\">\n",
       "  <thead>\n",
       "    <tr>\n",
       "      <th></th>\n",
       "      <th colspan=\"2\" halign=\"left\">age</th>\n",
       "      <th colspan=\"2\" halign=\"left\">tenure_months</th>\n",
       "      <th colspan=\"2\" halign=\"left\">churn_score</th>\n",
       "      <th colspan=\"2\" halign=\"left\">cltv</th>\n",
       "      <th colspan=\"2\" halign=\"left\">avg_monthly_long_distance_charges</th>\n",
       "      <th colspan=\"2\" halign=\"left\">avg_monthly_gb_download</th>\n",
       "      <th colspan=\"2\" halign=\"left\">monthly_charge</th>\n",
       "      <th colspan=\"2\" halign=\"left\">total_charges</th>\n",
       "      <th colspan=\"2\" halign=\"left\">total_extra_data_charges</th>\n",
       "      <th colspan=\"2\" halign=\"left\">total_long_distance_charges</th>\n",
       "      <th colspan=\"2\" halign=\"left\">total_revenue</th>\n",
       "    </tr>\n",
       "    <tr>\n",
       "      <th></th>\n",
       "      <th>min</th>\n",
       "      <th>max</th>\n",
       "      <th>min</th>\n",
       "      <th>max</th>\n",
       "      <th>min</th>\n",
       "      <th>max</th>\n",
       "      <th>min</th>\n",
       "      <th>max</th>\n",
       "      <th>min</th>\n",
       "      <th>max</th>\n",
       "      <th>min</th>\n",
       "      <th>max</th>\n",
       "      <th>min</th>\n",
       "      <th>max</th>\n",
       "      <th>min</th>\n",
       "      <th>max</th>\n",
       "      <th>min</th>\n",
       "      <th>max</th>\n",
       "      <th>min</th>\n",
       "      <th>max</th>\n",
       "      <th>min</th>\n",
       "      <th>max</th>\n",
       "    </tr>\n",
       "    <tr>\n",
       "      <th>cluster</th>\n",
       "      <th></th>\n",
       "      <th></th>\n",
       "      <th></th>\n",
       "      <th></th>\n",
       "      <th></th>\n",
       "      <th></th>\n",
       "      <th></th>\n",
       "      <th></th>\n",
       "      <th></th>\n",
       "      <th></th>\n",
       "      <th></th>\n",
       "      <th></th>\n",
       "      <th></th>\n",
       "      <th></th>\n",
       "      <th></th>\n",
       "      <th></th>\n",
       "      <th></th>\n",
       "      <th></th>\n",
       "      <th></th>\n",
       "      <th></th>\n",
       "      <th></th>\n",
       "      <th></th>\n",
       "    </tr>\n",
       "  </thead>\n",
       "  <tbody>\n",
       "    <tr>\n",
       "      <th>heavyweight</th>\n",
       "      <td>20</td>\n",
       "      <td>80</td>\n",
       "      <td>32</td>\n",
       "      <td>72</td>\n",
       "      <td>65</td>\n",
       "      <td>100</td>\n",
       "      <td>2071</td>\n",
       "      <td>6452</td>\n",
       "      <td>0.00</td>\n",
       "      <td>49.98</td>\n",
       "      <td>2</td>\n",
       "      <td>82</td>\n",
       "      <td>54.20</td>\n",
       "      <td>118.35</td>\n",
       "      <td>2934.30</td>\n",
       "      <td>8684.80</td>\n",
       "      <td>0</td>\n",
       "      <td>150</td>\n",
       "      <td>0.00</td>\n",
       "      <td>3508.82</td>\n",
       "      <td>3858.91</td>\n",
       "      <td>11195.44</td>\n",
       "    </tr>\n",
       "    <tr>\n",
       "      <th>minimalist</th>\n",
       "      <td>19</td>\n",
       "      <td>79</td>\n",
       "      <td>1</td>\n",
       "      <td>61</td>\n",
       "      <td>65</td>\n",
       "      <td>100</td>\n",
       "      <td>2102</td>\n",
       "      <td>6484</td>\n",
       "      <td>2.58</td>\n",
       "      <td>49.74</td>\n",
       "      <td>0</td>\n",
       "      <td>0</td>\n",
       "      <td>18.95</td>\n",
       "      <td>25.90</td>\n",
       "      <td>19.75</td>\n",
       "      <td>1334.00</td>\n",
       "      <td>0</td>\n",
       "      <td>0</td>\n",
       "      <td>11.91</td>\n",
       "      <td>2822.47</td>\n",
       "      <td>31.66</td>\n",
       "      <td>4005.02</td>\n",
       "    </tr>\n",
       "    <tr>\n",
       "      <th>price_sensitive</th>\n",
       "      <td>26</td>\n",
       "      <td>75</td>\n",
       "      <td>6</td>\n",
       "      <td>27</td>\n",
       "      <td>68</td>\n",
       "      <td>94</td>\n",
       "      <td>2283</td>\n",
       "      <td>5719</td>\n",
       "      <td>1.51</td>\n",
       "      <td>49.20</td>\n",
       "      <td>3</td>\n",
       "      <td>51</td>\n",
       "      <td>44.60</td>\n",
       "      <td>104.30</td>\n",
       "      <td>260.80</td>\n",
       "      <td>2867.75</td>\n",
       "      <td>0</td>\n",
       "      <td>0</td>\n",
       "      <td>27.18</td>\n",
       "      <td>831.60</td>\n",
       "      <td>556.00</td>\n",
       "      <td>3142.88</td>\n",
       "    </tr>\n",
       "    <tr>\n",
       "      <th>vanilla</th>\n",
       "      <td>19</td>\n",
       "      <td>80</td>\n",
       "      <td>1</td>\n",
       "      <td>71</td>\n",
       "      <td>65</td>\n",
       "      <td>100</td>\n",
       "      <td>2003</td>\n",
       "      <td>6347</td>\n",
       "      <td>0.00</td>\n",
       "      <td>48.93</td>\n",
       "      <td>2</td>\n",
       "      <td>85</td>\n",
       "      <td>28.60</td>\n",
       "      <td>105.95</td>\n",
       "      <td>49.25</td>\n",
       "      <td>3692.85</td>\n",
       "      <td>0</td>\n",
       "      <td>150</td>\n",
       "      <td>0.00</td>\n",
       "      <td>2079.20</td>\n",
       "      <td>57.63</td>\n",
       "      <td>4835.75</td>\n",
       "    </tr>\n",
       "  </tbody>\n",
       "</table>\n",
       "</div>"
      ],
      "text/plain": [
       "                age     tenure_months     churn_score       cltv        \\\n",
       "                min max           min max         min  max   min   max   \n",
       "cluster                                                                  \n",
       "heavyweight      20  80            32  72          65  100  2071  6452   \n",
       "minimalist       19  79             1  61          65  100  2102  6484   \n",
       "price_sensitive  26  75             6  27          68   94  2283  5719   \n",
       "vanilla          19  80             1  71          65  100  2003  6347   \n",
       "\n",
       "                avg_monthly_long_distance_charges         \\\n",
       "                                              min    max   \n",
       "cluster                                                    \n",
       "heavyweight                                  0.00  49.98   \n",
       "minimalist                                   2.58  49.74   \n",
       "price_sensitive                              1.51  49.20   \n",
       "vanilla                                      0.00  48.93   \n",
       "\n",
       "                avg_monthly_gb_download     monthly_charge          \\\n",
       "                                    min max            min     max   \n",
       "cluster                                                              \n",
       "heavyweight                           2  82          54.20  118.35   \n",
       "minimalist                            0   0          18.95   25.90   \n",
       "price_sensitive                       3  51          44.60  104.30   \n",
       "vanilla                               2  85          28.60  105.95   \n",
       "\n",
       "                total_charges          total_extra_data_charges       \\\n",
       "                          min      max                      min  max   \n",
       "cluster                                                                \n",
       "heavyweight           2934.30  8684.80                        0  150   \n",
       "minimalist              19.75  1334.00                        0    0   \n",
       "price_sensitive        260.80  2867.75                        0    0   \n",
       "vanilla                 49.25  3692.85                        0  150   \n",
       "\n",
       "                total_long_distance_charges          total_revenue            \n",
       "                                        min      max           min       max  \n",
       "cluster                                                                       \n",
       "heavyweight                            0.00  3508.82       3858.91  11195.44  \n",
       "minimalist                            11.91  2822.47         31.66   4005.02  \n",
       "price_sensitive                       27.18   831.60        556.00   3142.88  \n",
       "vanilla                                0.00  2079.20         57.63   4835.75  "
      ]
     },
     "execution_count": 55,
     "metadata": {},
     "output_type": "execute_result"
    }
   ],
   "source": [
    "miss_cust.groupby('cluster').agg(['min', 'max'])[['age','tenure_months','churn_score','cltv','avg_monthly_long_distance_charges',\n",
    "                                                'avg_monthly_gb_download','monthly_charge','total_charges','total_extra_data_charges',\n",
    "                                               'total_long_distance_charges','total_revenue']]"
   ]
  },
  {
   "cell_type": "markdown",
   "id": "fa5389be",
   "metadata": {},
   "source": [
    " # Quadrant Focus"
   ]
  },
  {
   "cell_type": "code",
   "execution_count": 56,
   "id": "b50dec9d",
   "metadata": {},
   "outputs": [
    {
     "data": {
      "image/png": "[encoded data removed]",
      "text/plain": [
       "<Figure size 1080x720 with 1 Axes>"
      ]
     },
     "metadata": {
      "needs_background": "light"
     },
     "output_type": "display_data"
    }
   ],
   "source": [
    "plt.figure(figsize=(15,10))\n",
    "sns.scatterplot(data=telco_final.loc[miss_cust.index], x='cltv',y='churn_score', hue='cluster', hue_order=['vanilla','minimalist','heavyweight','price_sensitive'], size='total_revenue', alpha=0.8)\n",
    "plt.ylim(0,110)\n",
    "plt.legend(loc='lower left')\n",
    "plt.axhline(y=65,c='k',linestyle='--',alpha=0.7)\n",
    "plt.axvline(x=4500,c='k',linestyle='--',alpha=0.7)\n",
    "\n",
    "plt.show()\n",
    "#marking for top value"
   ]
  },
  {
   "cell_type": "markdown",
   "id": "d212f822",
   "metadata": {},
   "source": [
    "## Statistical inference"
   ]
  },
  {
   "cell_type": "markdown",
   "id": "8c9b21be",
   "metadata": {},
   "source": [
    "how confident from the sample to the population "
   ]
  }
 ],
 "metadata": {
  "kernelspec": {
   "display_name": "Python 3",
   "language": "python",
   "name": "python3"
  },
  "language_info": {
   "codemirror_mode": {
    "name": "ipython",
    "version": 3
   },
   "file_extension": ".py",
   "mimetype": "text/x-python",
   "name": "python",
   "nbconvert_exporter": "python",
   "pygments_lexer": "ipython3",
   "version": "3.8.10"
  }
 },
 "nbformat": 4,
 "nbformat_minor": 5
}
